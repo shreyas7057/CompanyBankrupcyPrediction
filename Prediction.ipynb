{
 "cells": [
  {
   "cell_type": "code",
   "execution_count": 3,
   "id": "d47491b6",
   "metadata": {},
   "outputs": [],
   "source": [
    "import pandas as pd\n",
    "import numpy as np\n",
    "import seaborn as sns\n",
    "import matplotlib.pyplot as plt\n"
   ]
  },
  {
   "cell_type": "code",
   "execution_count": 19,
   "id": "388a0e29",
   "metadata": {},
   "outputs": [],
   "source": [
    "company_df = pd.read_csv('data.csv')"
   ]
  },
  {
   "cell_type": "code",
   "execution_count": 20,
   "id": "dd017932",
   "metadata": {},
   "outputs": [
    {
     "data": {
      "text/html": [
       "<div>\n",
       "<style scoped>\n",
       "    .dataframe tbody tr th:only-of-type {\n",
       "        vertical-align: middle;\n",
       "    }\n",
       "\n",
       "    .dataframe tbody tr th {\n",
       "        vertical-align: top;\n",
       "    }\n",
       "\n",
       "    .dataframe thead th {\n",
       "        text-align: right;\n",
       "    }\n",
       "</style>\n",
       "<table border=\"1\" class=\"dataframe\">\n",
       "  <thead>\n",
       "    <tr style=\"text-align: right;\">\n",
       "      <th></th>\n",
       "      <th>Bankrupt?</th>\n",
       "      <th>ROA(C) before interest and depreciation before interest</th>\n",
       "      <th>ROA(A) before interest and % after tax</th>\n",
       "      <th>ROA(B) before interest and depreciation after tax</th>\n",
       "      <th>Operating Gross Margin</th>\n",
       "      <th>Realized Sales Gross Margin</th>\n",
       "      <th>Operating Profit Rate</th>\n",
       "      <th>Pre-tax net Interest Rate</th>\n",
       "      <th>After-tax net Interest Rate</th>\n",
       "      <th>Non-industry income and expenditure/revenue</th>\n",
       "      <th>...</th>\n",
       "      <th>Net Income to Total Assets</th>\n",
       "      <th>Total assets to GNP price</th>\n",
       "      <th>No-credit Interval</th>\n",
       "      <th>Gross Profit to Sales</th>\n",
       "      <th>Net Income to Stockholder's Equity</th>\n",
       "      <th>Liability to Equity</th>\n",
       "      <th>Degree of Financial Leverage (DFL)</th>\n",
       "      <th>Interest Coverage Ratio (Interest expense to EBIT)</th>\n",
       "      <th>Net Income Flag</th>\n",
       "      <th>Equity to Liability</th>\n",
       "    </tr>\n",
       "  </thead>\n",
       "  <tbody>\n",
       "    <tr>\n",
       "      <th>0</th>\n",
       "      <td>1</td>\n",
       "      <td>0.370594</td>\n",
       "      <td>0.424389</td>\n",
       "      <td>0.405750</td>\n",
       "      <td>0.601457</td>\n",
       "      <td>0.601457</td>\n",
       "      <td>0.998969</td>\n",
       "      <td>0.796887</td>\n",
       "      <td>0.808809</td>\n",
       "      <td>0.302646</td>\n",
       "      <td>...</td>\n",
       "      <td>0.716845</td>\n",
       "      <td>0.009219</td>\n",
       "      <td>0.622879</td>\n",
       "      <td>0.601453</td>\n",
       "      <td>0.827890</td>\n",
       "      <td>0.290202</td>\n",
       "      <td>0.026601</td>\n",
       "      <td>0.564050</td>\n",
       "      <td>1</td>\n",
       "      <td>0.016469</td>\n",
       "    </tr>\n",
       "    <tr>\n",
       "      <th>1</th>\n",
       "      <td>1</td>\n",
       "      <td>0.464291</td>\n",
       "      <td>0.538214</td>\n",
       "      <td>0.516730</td>\n",
       "      <td>0.610235</td>\n",
       "      <td>0.610235</td>\n",
       "      <td>0.998946</td>\n",
       "      <td>0.797380</td>\n",
       "      <td>0.809301</td>\n",
       "      <td>0.303556</td>\n",
       "      <td>...</td>\n",
       "      <td>0.795297</td>\n",
       "      <td>0.008323</td>\n",
       "      <td>0.623652</td>\n",
       "      <td>0.610237</td>\n",
       "      <td>0.839969</td>\n",
       "      <td>0.283846</td>\n",
       "      <td>0.264577</td>\n",
       "      <td>0.570175</td>\n",
       "      <td>1</td>\n",
       "      <td>0.020794</td>\n",
       "    </tr>\n",
       "    <tr>\n",
       "      <th>2</th>\n",
       "      <td>1</td>\n",
       "      <td>0.426071</td>\n",
       "      <td>0.499019</td>\n",
       "      <td>0.472295</td>\n",
       "      <td>0.601450</td>\n",
       "      <td>0.601364</td>\n",
       "      <td>0.998857</td>\n",
       "      <td>0.796403</td>\n",
       "      <td>0.808388</td>\n",
       "      <td>0.302035</td>\n",
       "      <td>...</td>\n",
       "      <td>0.774670</td>\n",
       "      <td>0.040003</td>\n",
       "      <td>0.623841</td>\n",
       "      <td>0.601449</td>\n",
       "      <td>0.836774</td>\n",
       "      <td>0.290189</td>\n",
       "      <td>0.026555</td>\n",
       "      <td>0.563706</td>\n",
       "      <td>1</td>\n",
       "      <td>0.016474</td>\n",
       "    </tr>\n",
       "    <tr>\n",
       "      <th>3</th>\n",
       "      <td>1</td>\n",
       "      <td>0.399844</td>\n",
       "      <td>0.451265</td>\n",
       "      <td>0.457733</td>\n",
       "      <td>0.583541</td>\n",
       "      <td>0.583541</td>\n",
       "      <td>0.998700</td>\n",
       "      <td>0.796967</td>\n",
       "      <td>0.808966</td>\n",
       "      <td>0.303350</td>\n",
       "      <td>...</td>\n",
       "      <td>0.739555</td>\n",
       "      <td>0.003252</td>\n",
       "      <td>0.622929</td>\n",
       "      <td>0.583538</td>\n",
       "      <td>0.834697</td>\n",
       "      <td>0.281721</td>\n",
       "      <td>0.026697</td>\n",
       "      <td>0.564663</td>\n",
       "      <td>1</td>\n",
       "      <td>0.023982</td>\n",
       "    </tr>\n",
       "    <tr>\n",
       "      <th>4</th>\n",
       "      <td>1</td>\n",
       "      <td>0.465022</td>\n",
       "      <td>0.538432</td>\n",
       "      <td>0.522298</td>\n",
       "      <td>0.598783</td>\n",
       "      <td>0.598783</td>\n",
       "      <td>0.998973</td>\n",
       "      <td>0.797366</td>\n",
       "      <td>0.809304</td>\n",
       "      <td>0.303475</td>\n",
       "      <td>...</td>\n",
       "      <td>0.795016</td>\n",
       "      <td>0.003878</td>\n",
       "      <td>0.623521</td>\n",
       "      <td>0.598782</td>\n",
       "      <td>0.839973</td>\n",
       "      <td>0.278514</td>\n",
       "      <td>0.024752</td>\n",
       "      <td>0.575617</td>\n",
       "      <td>1</td>\n",
       "      <td>0.035490</td>\n",
       "    </tr>\n",
       "    <tr>\n",
       "      <th>5</th>\n",
       "      <td>1</td>\n",
       "      <td>0.388680</td>\n",
       "      <td>0.415177</td>\n",
       "      <td>0.419134</td>\n",
       "      <td>0.590171</td>\n",
       "      <td>0.590251</td>\n",
       "      <td>0.998758</td>\n",
       "      <td>0.796903</td>\n",
       "      <td>0.808771</td>\n",
       "      <td>0.303116</td>\n",
       "      <td>...</td>\n",
       "      <td>0.710420</td>\n",
       "      <td>0.005278</td>\n",
       "      <td>0.622605</td>\n",
       "      <td>0.590172</td>\n",
       "      <td>0.829939</td>\n",
       "      <td>0.285087</td>\n",
       "      <td>0.026675</td>\n",
       "      <td>0.564538</td>\n",
       "      <td>1</td>\n",
       "      <td>0.019534</td>\n",
       "    </tr>\n",
       "    <tr>\n",
       "      <th>6</th>\n",
       "      <td>0</td>\n",
       "      <td>0.390923</td>\n",
       "      <td>0.445704</td>\n",
       "      <td>0.436158</td>\n",
       "      <td>0.619950</td>\n",
       "      <td>0.619950</td>\n",
       "      <td>0.998993</td>\n",
       "      <td>0.797012</td>\n",
       "      <td>0.808960</td>\n",
       "      <td>0.302814</td>\n",
       "      <td>...</td>\n",
       "      <td>0.736619</td>\n",
       "      <td>0.018372</td>\n",
       "      <td>0.623655</td>\n",
       "      <td>0.619949</td>\n",
       "      <td>0.829980</td>\n",
       "      <td>0.292504</td>\n",
       "      <td>0.026622</td>\n",
       "      <td>0.564200</td>\n",
       "      <td>1</td>\n",
       "      <td>0.015663</td>\n",
       "    </tr>\n",
       "    <tr>\n",
       "      <th>7</th>\n",
       "      <td>0</td>\n",
       "      <td>0.508361</td>\n",
       "      <td>0.570922</td>\n",
       "      <td>0.559077</td>\n",
       "      <td>0.601738</td>\n",
       "      <td>0.601717</td>\n",
       "      <td>0.999009</td>\n",
       "      <td>0.797449</td>\n",
       "      <td>0.809362</td>\n",
       "      <td>0.303545</td>\n",
       "      <td>...</td>\n",
       "      <td>0.815350</td>\n",
       "      <td>0.010005</td>\n",
       "      <td>0.623843</td>\n",
       "      <td>0.601739</td>\n",
       "      <td>0.841459</td>\n",
       "      <td>0.278607</td>\n",
       "      <td>0.027031</td>\n",
       "      <td>0.566089</td>\n",
       "      <td>1</td>\n",
       "      <td>0.034889</td>\n",
       "    </tr>\n",
       "    <tr>\n",
       "      <th>8</th>\n",
       "      <td>0</td>\n",
       "      <td>0.488519</td>\n",
       "      <td>0.545137</td>\n",
       "      <td>0.543284</td>\n",
       "      <td>0.603612</td>\n",
       "      <td>0.603612</td>\n",
       "      <td>0.998961</td>\n",
       "      <td>0.797414</td>\n",
       "      <td>0.809338</td>\n",
       "      <td>0.303584</td>\n",
       "      <td>...</td>\n",
       "      <td>0.803647</td>\n",
       "      <td>0.000824</td>\n",
       "      <td>0.623977</td>\n",
       "      <td>0.603613</td>\n",
       "      <td>0.840487</td>\n",
       "      <td>0.276423</td>\n",
       "      <td>0.026891</td>\n",
       "      <td>0.565592</td>\n",
       "      <td>1</td>\n",
       "      <td>0.065826</td>\n",
       "    </tr>\n",
       "    <tr>\n",
       "      <th>9</th>\n",
       "      <td>0</td>\n",
       "      <td>0.495686</td>\n",
       "      <td>0.550916</td>\n",
       "      <td>0.542963</td>\n",
       "      <td>0.599209</td>\n",
       "      <td>0.599209</td>\n",
       "      <td>0.999001</td>\n",
       "      <td>0.797404</td>\n",
       "      <td>0.809320</td>\n",
       "      <td>0.303483</td>\n",
       "      <td>...</td>\n",
       "      <td>0.804195</td>\n",
       "      <td>0.005798</td>\n",
       "      <td>0.623865</td>\n",
       "      <td>0.599205</td>\n",
       "      <td>0.840688</td>\n",
       "      <td>0.279388</td>\n",
       "      <td>0.027243</td>\n",
       "      <td>0.566668</td>\n",
       "      <td>1</td>\n",
       "      <td>0.030801</td>\n",
       "    </tr>\n",
       "  </tbody>\n",
       "</table>\n",
       "<p>10 rows × 96 columns</p>\n",
       "</div>"
      ],
      "text/plain": [
       "   Bankrupt?   ROA(C) before interest and depreciation before interest  \\\n",
       "0          1                                           0.370594          \n",
       "1          1                                           0.464291          \n",
       "2          1                                           0.426071          \n",
       "3          1                                           0.399844          \n",
       "4          1                                           0.465022          \n",
       "5          1                                           0.388680          \n",
       "6          0                                           0.390923          \n",
       "7          0                                           0.508361          \n",
       "8          0                                           0.488519          \n",
       "9          0                                           0.495686          \n",
       "\n",
       "    ROA(A) before interest and % after tax  \\\n",
       "0                                 0.424389   \n",
       "1                                 0.538214   \n",
       "2                                 0.499019   \n",
       "3                                 0.451265   \n",
       "4                                 0.538432   \n",
       "5                                 0.415177   \n",
       "6                                 0.445704   \n",
       "7                                 0.570922   \n",
       "8                                 0.545137   \n",
       "9                                 0.550916   \n",
       "\n",
       "    ROA(B) before interest and depreciation after tax  \\\n",
       "0                                           0.405750    \n",
       "1                                           0.516730    \n",
       "2                                           0.472295    \n",
       "3                                           0.457733    \n",
       "4                                           0.522298    \n",
       "5                                           0.419134    \n",
       "6                                           0.436158    \n",
       "7                                           0.559077    \n",
       "8                                           0.543284    \n",
       "9                                           0.542963    \n",
       "\n",
       "    Operating Gross Margin   Realized Sales Gross Margin  \\\n",
       "0                 0.601457                      0.601457   \n",
       "1                 0.610235                      0.610235   \n",
       "2                 0.601450                      0.601364   \n",
       "3                 0.583541                      0.583541   \n",
       "4                 0.598783                      0.598783   \n",
       "5                 0.590171                      0.590251   \n",
       "6                 0.619950                      0.619950   \n",
       "7                 0.601738                      0.601717   \n",
       "8                 0.603612                      0.603612   \n",
       "9                 0.599209                      0.599209   \n",
       "\n",
       "    Operating Profit Rate   Pre-tax net Interest Rate  \\\n",
       "0                0.998969                    0.796887   \n",
       "1                0.998946                    0.797380   \n",
       "2                0.998857                    0.796403   \n",
       "3                0.998700                    0.796967   \n",
       "4                0.998973                    0.797366   \n",
       "5                0.998758                    0.796903   \n",
       "6                0.998993                    0.797012   \n",
       "7                0.999009                    0.797449   \n",
       "8                0.998961                    0.797414   \n",
       "9                0.999001                    0.797404   \n",
       "\n",
       "    After-tax net Interest Rate   Non-industry income and expenditure/revenue  \\\n",
       "0                      0.808809                                      0.302646   \n",
       "1                      0.809301                                      0.303556   \n",
       "2                      0.808388                                      0.302035   \n",
       "3                      0.808966                                      0.303350   \n",
       "4                      0.809304                                      0.303475   \n",
       "5                      0.808771                                      0.303116   \n",
       "6                      0.808960                                      0.302814   \n",
       "7                      0.809362                                      0.303545   \n",
       "8                      0.809338                                      0.303584   \n",
       "9                      0.809320                                      0.303483   \n",
       "\n",
       "   ...   Net Income to Total Assets   Total assets to GNP price  \\\n",
       "0  ...                     0.716845                    0.009219   \n",
       "1  ...                     0.795297                    0.008323   \n",
       "2  ...                     0.774670                    0.040003   \n",
       "3  ...                     0.739555                    0.003252   \n",
       "4  ...                     0.795016                    0.003878   \n",
       "5  ...                     0.710420                    0.005278   \n",
       "6  ...                     0.736619                    0.018372   \n",
       "7  ...                     0.815350                    0.010005   \n",
       "8  ...                     0.803647                    0.000824   \n",
       "9  ...                     0.804195                    0.005798   \n",
       "\n",
       "    No-credit Interval   Gross Profit to Sales  \\\n",
       "0             0.622879                0.601453   \n",
       "1             0.623652                0.610237   \n",
       "2             0.623841                0.601449   \n",
       "3             0.622929                0.583538   \n",
       "4             0.623521                0.598782   \n",
       "5             0.622605                0.590172   \n",
       "6             0.623655                0.619949   \n",
       "7             0.623843                0.601739   \n",
       "8             0.623977                0.603613   \n",
       "9             0.623865                0.599205   \n",
       "\n",
       "    Net Income to Stockholder's Equity   Liability to Equity  \\\n",
       "0                             0.827890              0.290202   \n",
       "1                             0.839969              0.283846   \n",
       "2                             0.836774              0.290189   \n",
       "3                             0.834697              0.281721   \n",
       "4                             0.839973              0.278514   \n",
       "5                             0.829939              0.285087   \n",
       "6                             0.829980              0.292504   \n",
       "7                             0.841459              0.278607   \n",
       "8                             0.840487              0.276423   \n",
       "9                             0.840688              0.279388   \n",
       "\n",
       "    Degree of Financial Leverage (DFL)  \\\n",
       "0                             0.026601   \n",
       "1                             0.264577   \n",
       "2                             0.026555   \n",
       "3                             0.026697   \n",
       "4                             0.024752   \n",
       "5                             0.026675   \n",
       "6                             0.026622   \n",
       "7                             0.027031   \n",
       "8                             0.026891   \n",
       "9                             0.027243   \n",
       "\n",
       "    Interest Coverage Ratio (Interest expense to EBIT)   Net Income Flag  \\\n",
       "0                                           0.564050                   1   \n",
       "1                                           0.570175                   1   \n",
       "2                                           0.563706                   1   \n",
       "3                                           0.564663                   1   \n",
       "4                                           0.575617                   1   \n",
       "5                                           0.564538                   1   \n",
       "6                                           0.564200                   1   \n",
       "7                                           0.566089                   1   \n",
       "8                                           0.565592                   1   \n",
       "9                                           0.566668                   1   \n",
       "\n",
       "    Equity to Liability  \n",
       "0              0.016469  \n",
       "1              0.020794  \n",
       "2              0.016474  \n",
       "3              0.023982  \n",
       "4              0.035490  \n",
       "5              0.019534  \n",
       "6              0.015663  \n",
       "7              0.034889  \n",
       "8              0.065826  \n",
       "9              0.030801  \n",
       "\n",
       "[10 rows x 96 columns]"
      ]
     },
     "execution_count": 20,
     "metadata": {},
     "output_type": "execute_result"
    }
   ],
   "source": [
    "company_df.head(10)"
   ]
  },
  {
   "cell_type": "code",
   "execution_count": 21,
   "id": "7e95719f",
   "metadata": {},
   "outputs": [
    {
     "data": {
      "text/plain": [
       "(6819, 96)"
      ]
     },
     "execution_count": 21,
     "metadata": {},
     "output_type": "execute_result"
    }
   ],
   "source": [
    "company_df.shape"
   ]
  },
  {
   "cell_type": "code",
   "execution_count": 22,
   "id": "41b25108",
   "metadata": {},
   "outputs": [
    {
     "name": "stdout",
     "output_type": "stream",
     "text": [
      "<class 'pandas.core.frame.DataFrame'>\n",
      "RangeIndex: 6819 entries, 0 to 6818\n",
      "Data columns (total 96 columns):\n",
      " #   Column                                                    Non-Null Count  Dtype  \n",
      "---  ------                                                    --------------  -----  \n",
      " 0   Bankrupt?                                                 6819 non-null   int64  \n",
      " 1    ROA(C) before interest and depreciation before interest  6819 non-null   float64\n",
      " 2    ROA(A) before interest and % after tax                   6819 non-null   float64\n",
      " 3    ROA(B) before interest and depreciation after tax        6819 non-null   float64\n",
      " 4    Operating Gross Margin                                   6819 non-null   float64\n",
      " 5    Realized Sales Gross Margin                              6819 non-null   float64\n",
      " 6    Operating Profit Rate                                    6819 non-null   float64\n",
      " 7    Pre-tax net Interest Rate                                6819 non-null   float64\n",
      " 8    After-tax net Interest Rate                              6819 non-null   float64\n",
      " 9    Non-industry income and expenditure/revenue              6819 non-null   float64\n",
      " 10   Continuous interest rate (after tax)                     6819 non-null   float64\n",
      " 11   Operating Expense Rate                                   6819 non-null   float64\n",
      " 12   Research and development expense rate                    6819 non-null   float64\n",
      " 13   Cash flow rate                                           6819 non-null   float64\n",
      " 14   Interest-bearing debt interest rate                      6819 non-null   float64\n",
      " 15   Tax rate (A)                                             6819 non-null   float64\n",
      " 16   Net Value Per Share (B)                                  6819 non-null   float64\n",
      " 17   Net Value Per Share (A)                                  6819 non-null   float64\n",
      " 18   Net Value Per Share (C)                                  6819 non-null   float64\n",
      " 19   Persistent EPS in the Last Four Seasons                  6819 non-null   float64\n",
      " 20   Cash Flow Per Share                                      6819 non-null   float64\n",
      " 21   Revenue Per Share (Yuan ¥)                               6819 non-null   float64\n",
      " 22   Operating Profit Per Share (Yuan ¥)                      6819 non-null   float64\n",
      " 23   Per Share Net profit before tax (Yuan ¥)                 6819 non-null   float64\n",
      " 24   Realized Sales Gross Profit Growth Rate                  6819 non-null   float64\n",
      " 25   Operating Profit Growth Rate                             6819 non-null   float64\n",
      " 26   After-tax Net Profit Growth Rate                         6819 non-null   float64\n",
      " 27   Regular Net Profit Growth Rate                           6819 non-null   float64\n",
      " 28   Continuous Net Profit Growth Rate                        6819 non-null   float64\n",
      " 29   Total Asset Growth Rate                                  6819 non-null   float64\n",
      " 30   Net Value Growth Rate                                    6819 non-null   float64\n",
      " 31   Total Asset Return Growth Rate Ratio                     6819 non-null   float64\n",
      " 32   Cash Reinvestment %                                      6819 non-null   float64\n",
      " 33   Current Ratio                                            6819 non-null   float64\n",
      " 34   Quick Ratio                                              6819 non-null   float64\n",
      " 35   Interest Expense Ratio                                   6819 non-null   float64\n",
      " 36   Total debt/Total net worth                               6819 non-null   float64\n",
      " 37   Debt ratio %                                             6819 non-null   float64\n",
      " 38   Net worth/Assets                                         6819 non-null   float64\n",
      " 39   Long-term fund suitability ratio (A)                     6819 non-null   float64\n",
      " 40   Borrowing dependency                                     6819 non-null   float64\n",
      " 41   Contingent liabilities/Net worth                         6819 non-null   float64\n",
      " 42   Operating profit/Paid-in capital                         6819 non-null   float64\n",
      " 43   Net profit before tax/Paid-in capital                    6819 non-null   float64\n",
      " 44   Inventory and accounts receivable/Net value              6819 non-null   float64\n",
      " 45   Total Asset Turnover                                     6819 non-null   float64\n",
      " 46   Accounts Receivable Turnover                             6819 non-null   float64\n",
      " 47   Average Collection Days                                  6819 non-null   float64\n",
      " 48   Inventory Turnover Rate (times)                          6819 non-null   float64\n",
      " 49   Fixed Assets Turnover Frequency                          6819 non-null   float64\n",
      " 50   Net Worth Turnover Rate (times)                          6819 non-null   float64\n",
      " 51   Revenue per person                                       6819 non-null   float64\n",
      " 52   Operating profit per person                              6819 non-null   float64\n",
      " 53   Allocation rate per person                               6819 non-null   float64\n",
      " 54   Working Capital to Total Assets                          6819 non-null   float64\n",
      " 55   Quick Assets/Total Assets                                6819 non-null   float64\n",
      " 56   Current Assets/Total Assets                              6819 non-null   float64\n",
      " 57   Cash/Total Assets                                        6819 non-null   float64\n",
      " 58   Quick Assets/Current Liability                           6819 non-null   float64\n",
      " 59   Cash/Current Liability                                   6819 non-null   float64\n",
      " 60   Current Liability to Assets                              6819 non-null   float64\n",
      " 61   Operating Funds to Liability                             6819 non-null   float64\n",
      " 62   Inventory/Working Capital                                6819 non-null   float64\n",
      " 63   Inventory/Current Liability                              6819 non-null   float64\n",
      " 64   Current Liabilities/Liability                            6819 non-null   float64\n",
      " 65   Working Capital/Equity                                   6819 non-null   float64\n",
      " 66   Current Liabilities/Equity                               6819 non-null   float64\n",
      " 67   Long-term Liability to Current Assets                    6819 non-null   float64\n",
      " 68   Retained Earnings to Total Assets                        6819 non-null   float64\n",
      " 69   Total income/Total expense                               6819 non-null   float64\n",
      " 70   Total expense/Assets                                     6819 non-null   float64\n",
      " 71   Current Asset Turnover Rate                              6819 non-null   float64\n",
      " 72   Quick Asset Turnover Rate                                6819 non-null   float64\n",
      " 73   Working capitcal Turnover Rate                           6819 non-null   float64\n",
      " 74   Cash Turnover Rate                                       6819 non-null   float64\n",
      " 75   Cash Flow to Sales                                       6819 non-null   float64\n",
      " 76   Fixed Assets to Assets                                   6819 non-null   float64\n",
      " 77   Current Liability to Liability                           6819 non-null   float64\n",
      " 78   Current Liability to Equity                              6819 non-null   float64\n",
      " 79   Equity to Long-term Liability                            6819 non-null   float64\n",
      " 80   Cash Flow to Total Assets                                6819 non-null   float64\n",
      " 81   Cash Flow to Liability                                   6819 non-null   float64\n",
      " 82   CFO to Assets                                            6819 non-null   float64\n",
      " 83   Cash Flow to Equity                                      6819 non-null   float64\n",
      " 84   Current Liability to Current Assets                      6819 non-null   float64\n",
      " 85   Liability-Assets Flag                                    6819 non-null   int64  \n",
      " 86   Net Income to Total Assets                               6819 non-null   float64\n",
      " 87   Total assets to GNP price                                6819 non-null   float64\n",
      " 88   No-credit Interval                                       6819 non-null   float64\n",
      " 89   Gross Profit to Sales                                    6819 non-null   float64\n",
      " 90   Net Income to Stockholder's Equity                       6819 non-null   float64\n",
      " 91   Liability to Equity                                      6819 non-null   float64\n",
      " 92   Degree of Financial Leverage (DFL)                       6819 non-null   float64\n",
      " 93   Interest Coverage Ratio (Interest expense to EBIT)       6819 non-null   float64\n",
      " 94   Net Income Flag                                          6819 non-null   int64  \n",
      " 95   Equity to Liability                                      6819 non-null   float64\n",
      "dtypes: float64(93), int64(3)\n",
      "memory usage: 5.0 MB\n"
     ]
    }
   ],
   "source": [
    "company_df.info()"
   ]
  },
  {
   "cell_type": "markdown",
   "id": "89a86133",
   "metadata": {},
   "source": [
    "## Checking Missing values"
   ]
  },
  {
   "cell_type": "code",
   "execution_count": 23,
   "id": "482a208a",
   "metadata": {},
   "outputs": [
    {
     "data": {
      "text/plain": [
       "0"
      ]
     },
     "execution_count": 23,
     "metadata": {},
     "output_type": "execute_result"
    }
   ],
   "source": [
    "sum(company_df.isnull().sum())"
   ]
  },
  {
   "cell_type": "markdown",
   "id": "18f4a969",
   "metadata": {},
   "source": [
    "## Checking Duplicate values"
   ]
  },
  {
   "cell_type": "code",
   "execution_count": 24,
   "id": "f62132f6",
   "metadata": {},
   "outputs": [
    {
     "data": {
      "text/plain": [
       "0"
      ]
     },
     "execution_count": 24,
     "metadata": {},
     "output_type": "execute_result"
    }
   ],
   "source": [
    "company_df.duplicated().sum()"
   ]
  },
  {
   "cell_type": "markdown",
   "id": "f15fe7bf",
   "metadata": {},
   "source": [
    "## Checking Target Column"
   ]
  },
  {
   "cell_type": "code",
   "execution_count": 25,
   "id": "283c4f1b",
   "metadata": {},
   "outputs": [
    {
     "data": {
      "text/plain": [
       "0    6599\n",
       "1     220\n",
       "Name: Bankrupt?, dtype: int64"
      ]
     },
     "execution_count": 25,
     "metadata": {},
     "output_type": "execute_result"
    }
   ],
   "source": [
    "company_df['Bankrupt?'].value_counts()"
   ]
  },
  {
   "cell_type": "code",
   "execution_count": 26,
   "id": "f3293c9f",
   "metadata": {},
   "outputs": [
    {
     "data": {
      "text/plain": [
       "0    96.77372\n",
       "1     3.22628\n",
       "Name: Bankrupt?, dtype: float64"
      ]
     },
     "execution_count": 26,
     "metadata": {},
     "output_type": "execute_result"
    }
   ],
   "source": [
    "company_df['Bankrupt?'].value_counts(normalize=True)*100"
   ]
  },
  {
   "cell_type": "code",
   "execution_count": 27,
   "id": "52f545c2",
   "metadata": {},
   "outputs": [
    {
     "data": {
      "text/plain": [
       "<AxesSubplot:ylabel='Bankrupt?'>"
      ]
     },
     "execution_count": 27,
     "metadata": {},
     "output_type": "execute_result"
    },
    {
     "data": {
      "image/png": "[encoded data removed]",
      "text/plain": [
       "<Figure size 432x288 with 1 Axes>"
      ]
     },
     "metadata": {
      "needs_background": "light"
     },
     "output_type": "display_data"
    }
   ],
   "source": [
    "sns.barplot(x = company_df['Bankrupt?'].unique(),y = company_df['Bankrupt?'].value_counts())"
   ]
  },
  {
   "cell_type": "markdown",
   "id": "b769a9a4",
   "metadata": {},
   "source": [
    "#### Target column is highly imbalance"
   ]
  },
  {
   "cell_type": "code",
   "execution_count": 28,
   "id": "bb0775c7",
   "metadata": {},
   "outputs": [
    {
     "data": {
      "text/plain": [
       "array([0, 1])"
      ]
     },
     "execution_count": 28,
     "metadata": {},
     "output_type": "execute_result"
    }
   ],
   "source": [
    "company_df[' Liability-Assets Flag'].unique()"
   ]
  },
  {
   "cell_type": "code",
   "execution_count": 29,
   "id": "eab424c7",
   "metadata": {},
   "outputs": [
    {
     "data": {
      "text/plain": [
       "0    6811\n",
       "1       8\n",
       "Name:  Liability-Assets Flag, dtype: int64"
      ]
     },
     "execution_count": 29,
     "metadata": {},
     "output_type": "execute_result"
    }
   ],
   "source": [
    "company_df[' Liability-Assets Flag'].value_counts()"
   ]
  },
  {
   "cell_type": "code",
   "execution_count": 30,
   "id": "de175554",
   "metadata": {},
   "outputs": [
    {
     "data": {
      "text/plain": [
       "1    6819\n",
       "Name:  Net Income Flag, dtype: int64"
      ]
     },
     "execution_count": 30,
     "metadata": {},
     "output_type": "execute_result"
    }
   ],
   "source": [
    "company_df[' Net Income Flag'].value_counts()"
   ]
  },
  {
   "cell_type": "markdown",
   "id": "40d31bbb",
   "metadata": {},
   "source": [
    "##### Net Income Flag have only 1 unique value and liability assets flag has imbalance data so we drop them"
   ]
  },
  {
   "cell_type": "code",
   "execution_count": 31,
   "id": "0e026694",
   "metadata": {},
   "outputs": [],
   "source": [
    "df1= company_df.copy()"
   ]
  },
  {
   "cell_type": "code",
   "execution_count": 32,
   "id": "734b3324",
   "metadata": {},
   "outputs": [],
   "source": [
    "df1.drop([' Net Income Flag',' Liability-Assets Flag'],inplace=True,axis=1)"
   ]
  },
  {
   "cell_type": "code",
   "execution_count": 33,
   "id": "a521d0ef",
   "metadata": {},
   "outputs": [
    {
     "data": {
      "text/plain": [
       "(6819, 94)"
      ]
     },
     "execution_count": 33,
     "metadata": {},
     "output_type": "execute_result"
    }
   ],
   "source": [
    "df1.shape"
   ]
  },
  {
   "cell_type": "markdown",
   "id": "bd9d4699",
   "metadata": {},
   "source": [
    "# Feature Selection"
   ]
  },
  {
   "cell_type": "markdown",
   "id": "51e47991",
   "metadata": {},
   "source": [
    "### VIF (Variance Inflation Factor)"
   ]
  },
  {
   "cell_type": "code",
   "execution_count": 35,
   "id": "efabf45c",
   "metadata": {},
   "outputs": [],
   "source": [
    "from statsmodels.stats.outliers_influence import variance_inflation_factor\n",
    "from statsmodels.tools.tools import add_constant"
   ]
  },
  {
   "cell_type": "code",
   "execution_count": 36,
   "id": "1d0132da",
   "metadata": {},
   "outputs": [],
   "source": [
    "# compute the vif for all given features\n",
    "\n",
    "# VIF greater than equal 5 for cols will be removed\n",
    "\n",
    "# def calc_vif(X):\n",
    "\n",
    "#     # Calculating VIF\n",
    "#     vif = pd.DataFrame()\n",
    "#     vif[\"variables\"] = X.columns\n",
    "#     vif[\"VIF\"] = [variance_inflation_factor(X.values, i) for i in range(X.shape[1])]\n",
    "\n",
    "#     return(vif)\n",
    "\n",
    "\n",
    "def cal_vif(x):\n",
    "    thresh = 5\n",
    "    output = pd.DataFrame()\n",
    "    k = x.shape[1]\n",
    "    vif = [variance_inflation_factor(x.values,i) for i in range(x.shape[1])]\n",
    "    \n",
    "    for i in range(1,k):\n",
    "        print(\"Iteration no: \",i)\n",
    "        print(\"VIF is: \",vif)\n",
    "        a = np.argmax(vif)\n",
    "        print(\"Max vif is for variable no: \",a)\n",
    "        if(vif[a]<=thresh):\n",
    "            break\n",
    "        if (i==1):\n",
    "            output = x.drop(x.columns[a],axis=1)\n",
    "            vif = [variance_inflation_factor(output.values,j) for j in range(output.shape[1])]\n",
    "        elif(i>1):\n",
    "            output = output.drop(output.columns[a],axis=1)\n",
    "            vif = [variance_inflation_factor(output.values,j) for j in range(output.shape[1])]\n",
    "            \n",
    "    return output"
   ]
  },
  {
   "cell_type": "code",
   "execution_count": 37,
   "id": "b3991503",
   "metadata": {},
   "outputs": [],
   "source": [
    "considered_features = df1.drop('Bankrupt?',axis=1)"
   ]
  },
  {
   "cell_type": "code",
   "execution_count": 38,
   "id": "0effb37d",
   "metadata": {},
   "outputs": [
    {
     "name": "stdout",
     "output_type": "stream",
     "text": [
      "Iteration no:  1\n",
      "VIF is:  [69.01849527362054, 43.59546960546736, 102.89448842966425, 54294325.46095081, 1076.2915901817148, 181857501.02674413, 41509649.822630435, 1822.4659485776463, 10291917.038394947, 337.99416740347834, 1.2612409057444567, 1.0923554698690014, 7.558643471495546, 1.0416010166541465, 1.327451453085859, 782.0301911510805, 3911.811624690767, 3126.1563601353496, 32.0387871883508, 4.187190702235512, 4.360892738537997, 637.9945562307864, 21.713722401738735, 1.0395640475095058, 1.9329780762221893, 133.49737478917896, 132.6827778024381, 1.023089394981749, 1.1253183037761538, 1.1245861458943318, 1.8265709492744373, 3.6480611186309777, 1.358038772223051, 1.0598224326374872, 1.0089769113264977, 1.5570352377519325, 1447849284.0628052, 1598300635.1256354, 1.4719170107714865, 37.47957717444472, 9.119084237638905, 638.7818082844595, 30.099872110298385, 36.079332321010554, 5.900687233897576, 1.5683337940610833, 1.3076566054425993, 1.1411513223199183, 1.3401406556479307, 6.38149613522472, 3.3370893990146966, 1.5984648877052339, 1.1516808658588762, 3394136249.5835114, 4.8637686258437665, 4094816175.9349937, 3.1145918502028977, 1.2531060296121446, 1.065572886964158, 3819709321.2250586, 8.623758741533859, 1.0899418626389044, 1.0741889351225364, 717705119899.6807, 42.99671797325514, 868720937.2392658, 1.0295578050839227, 3.798699515653645, 1.3418897028299126, 3.337808856883173, 1.5157152198785286, 1.4405847484885872, 86.72226094407095, 1.1518109660490334, 26.558951106345198, 1.2166252413728984, 313490159221.11206, 1670936997.912069, 44.95781813941406, 4.633898291617457, 2.8180419016373204, 7.480386500397348, 3.2764814505807878, 3.099771565637703, 29.082458039181663, 1.0916793910532774, 2620.003064008892, 40059262.98057518, 8.349090225670713, 464.94507898074494, 1.0048990867674026, 1.0069812628763157, 3.045006667467468]\n",
      "Max vif is for variable no:  63\n",
      "Iteration no:  2\n",
      "VIF is:  [69.0184971732122, 43.59547242766686, 102.89447207676992, 66169730.91841461, 1076.2905320028801, 216472421.50785562, 18000976.837144393, 1822.468229677192, 6059485.556415562, 337.9960739279094, 1.2612408861280284, 1.0923554673995217, 7.558644092259198, 1.0416010204873158, 1.3274514542061415, 782.0295231797832, 3911.8106457853123, 3126.1575057846444, 32.03878885384278, 4.187190708594804, 4.360883688154203, 637.99449726645, 21.713721357620514, 1.0395640473130836, 1.9329782001758742, 133.49737116274719, 132.68282292480828, 1.023089395089269, 1.1253183328062466, 1.1245861481057935, 1.8265709488573205, 3.6480610052883042, 1.3580387737912785, 1.0598223168474716, 1.0089769045588102, 1.5570348555365687, 2060869997.5451758, 1767221841.3233902, 1.4719170582264463, 37.479578134215544, 9.119083866114668, 638.7817691718074, 30.099873379451335, 36.079330973959465, 5.9006873979397145, 1.5683327404232688, 1.3076566051751988, 1.1411513407717444, 1.3401406547473282, 6.381495903432805, 3.337094654542681, 1.5984647700384997, 1.1516808620195509, 8601221595.436394, 4.863768702434947, 7520802825.846368, 3.11459190729507, 1.2531060324625043, 1.0655728855783428, 2920505847.121205, 8.623759488720097, 1.0899417877282285, 1.0741890072569344, 42.99671717366393, 1498873873.3510368, 1.0295578085697468, 3.7986996734141516, 1.3418897043382554, 3.3378088390023435, 1.5157152202588184, 1.4405847463978618, 86.72415007629826, 1.1518109667733891, 26.558944725343213, 1.2166252468338865, 8.61907911525925, 1948729082.1836169, 44.95781830150994, 4.633900162017954, 2.818041901364563, 7.480386549793419, 3.2764814291737725, 3.099771630091354, 29.08245970943654, 1.0916794218781063, 2620.0030701727833, 37212558.1137589, 8.349072118658226, 464.94508370493, 1.0048990876418382, 1.0069812629112795, 3.04500876147383]\n",
      "Max vif is for variable no:  53\n",
      "Iteration no:  3\n",
      "VIF is:  [69.01849921811741, 43.59547001177309, 102.89448137129811, 62705416.295237884, 1076.2916048252227, 73444598.21296369, 64687127.70033782, 1822.4676799807771, 6548483.74237719, 337.9965544813562, 1.261240900611598, 1.0923554753106477, 7.558645019813924, 1.0416010127677737, 1.3274514516773763, 782.0296173572774, 3911.808410188573, 3126.15466663922, 32.03878981622428, 4.187190544317075, 4.36089630679659, 637.9945530172216, 21.713722327735226, 1.0395640470726557, 1.9329780072652603, 133.49737591420097, 132.68282546057043, 1.0230893975071111, 1.125318340161459, 1.1245861449910852, 1.826570949496622, 3.648061102696871, 1.3580387763415536, 1.0598223817748895, 1.0089769141827294, 1.5570356154862883, 103517825.60900788, 25665960.535661656, 1.4719169210144547, 37.47957764058128, 9.119083407197722, 638.7817583166405, 30.099871098414308, 36.07931686247513, 5.900687484410596, 1.5683340977576155, 1.3076566023944056, 1.141151331669786, 1.3401406503399496, 6.381496249750929, 3.337085184815632, 1.598465028188103, 1.1516808556897904, 4.8637687009245685, 7.009775893987216, 3.1145918769884915, 1.2531060216686667, 1.065572879435762, 30.652183530472414, 8.623760215741823, 1.0899418700946388, 1.0741889650541796, 42.99670668255644, 160021649.8753831, 1.029557803156928, 3.7986997542088172, 1.3418897106164873, 3.337808831275414, 1.5157152204184898, 2.0327971860566953, 86.72440152480053, 1.1518109611557314, 26.558950088704034, 1.2166252443162504, 8.619079090535717, 61011196.69037526, 44.957822340937206, 4.633900267260633, 2.818036122583414, 7.480386606074017, 3.276481048000046, 3.099771518931259, 29.082464495927177, 1.0916794307856967, 2620.0031075341353, 37510338.82023, 8.349089491464081, 464.94509204348645, 1.0048990870620602, 1.006981269731865, 3.045011641488853]\n",
      "Max vif is for variable no:  63\n",
      "Iteration no:  4\n",
      "VIF is:  [69.01850721289365, 43.59546744025785, 102.89448672939268, 62868178.97348196, 1076.2915231015136, 78653755.31361508, 39071412.4674687, 1822.4607150410168, 8752637.35728373, 337.99673505571695, 1.261240882485602, 1.092355471581149, 7.5586466858823655, 1.0416010148145318, 1.327451450981666, 782.0301510186531, 3911.821525089402, 3126.164512007461, 32.03878988996687, 4.187190701759121, 4.360933812046462, 637.9944132504102, 21.71372252924546, 1.0395640469071492, 1.9329780706636581, 133.49735250922913, 132.68279405789775, 1.023089397541137, 1.125318308825738, 1.12458611949185, 1.8265699224755931, 3.64806112670649, 1.3580387718937357, 1.0598223562531999, 1.008976907689412, 1.5570354886435813, 208478686.07174438, 395649665.4728472, 1.4719169650752217, 37.47958016662253, 9.119083288173638, 638.7813678314599, 30.09986912283159, 36.07932596153711, 5.900687671032821, 1.5683335685322606, 1.3076566030860188, 1.1411513330539027, 1.3401406556067996, 6.381496022345128, 3.3370205766021908, 1.5984649639266189, 1.1516808549188804, 4.863768942627375, 7.009777737252101, 3.114591786529455, 1.253105882223978, 1.065572879581929, 30.652181724446177, 8.623760380747667, 1.0899418736368705, 1.0741889537140101, 42.996713949556046, 1.0295578047967753, 3.7986997075856084, 1.341889710721704, 3.337808799798257, 1.515715220056475, 2.0327970043893777, 86.72258204012209, 1.151810951718181, 26.558943673124144, 1.2166252345267685, 8.619079714630578, 292.10303444200355, 44.957815038809024, 4.633899443429723, 2.8180408325768314, 7.480386588851226, 3.276481121120902, 3.0997715202668426, 29.082465262261106, 1.0916794155725515, 1.0159941833741768, 35871608.634333365, 8.349090763027542, 464.94486380208946, 1.0048990867042915, 1.0069812436186252, 3.045011331327878]\n",
      "Max vif is for variable no:  37\n",
      "Iteration no:  5\n",
      "VIF is:  [69.01848809990878, 43.59545606204029, 102.89447598977792, 57670458.85398222, 1076.2912616078486, 335.2907021745896, 2101.444973061859, 1822.4377969657023, 87.79704486469747, 337.9950424977055, 1.2612409639231756, 1.092355480220127, 7.558642771855822, 1.041600936139166, 1.3274515097261115, 782.0312813187213, 3911.8121646772715, 3126.1787844063856, 32.03878697826826, 4.187190708342878, 4.360878739741523, 637.9945736142784, 21.713723663490494, 1.0395640450714798, 1.9329776705756152, 133.49736632853134, 132.68282836875827, 1.023089439608911, 1.1253182912641146, 1.1245861366553305, 1.826570933726821, 3.6480612081607604, 1.3580387782275196, 1.0598222415587415, 1.0089768980542073, 1.5570352217047252, 27.900048779697368, 1.471916526832596, 37.47957973365866, 9.11908434981604, 638.7817475792588, 30.09986700585076, 36.0792234816354, 5.900689580140011, 1.5683340611342727, 1.3076566095525213, 1.1411512104638384, 1.340140674399095, 6.381482969767928, 3.3370809872045264, 1.5984647122831823, 1.1516808335837372, 4.863769500867017, 7.009779309364881, 3.1145899081904065, 1.253105931851961, 1.065572920763071, 30.65218340548383, 8.623755751841532, 1.0899417516172933, 1.0741888071584222, 42.99655404567215, 1.0295577932842603, 3.7987000433706943, 1.3418897042324571, 3.337808864878466, 1.5157152253958392, 2.032797228123144, 86.72410914633889, 1.151810980612066, 26.55893913281204, 1.216625211940553, 8.619080523667641, 292.1032889667691, 44.95778604201761, 4.633895974344635, 2.818039515147617, 7.480386687130805, 3.2764740660760445, 3.0997715746095804, 29.082463736439177, 1.09167949200851, 1.0159942864722693, 42570499.60804762, 8.349087537497992, 464.94500162899635, 1.004899084098523, 1.0069813569217534, 3.045007255092576]\n",
      "Max vif is for variable no:  3\n"
     ]
    },
    {
     "name": "stdout",
     "output_type": "stream",
     "text": [
      "Iteration no:  6\n",
      "VIF is:  [69.01841905839117, 43.595456590430075, 102.89442288686574, 1076.2434672759448, 335.29293266145345, 2101.4482414657055, 1822.4668500831103, 87.79989039385823, 337.9950870017863, 1.2612411305027225, 1.0923559107882366, 7.558642168053709, 1.0416010021513564, 1.3274513938336774, 782.0327936063203, 3911.8228622887236, 3126.18821774541, 32.038759608928224, 4.187192845114681, 4.360889507457925, 637.9944238838834, 21.7136980049268, 1.0395640198421618, 1.9329779831528455, 133.4973650529191, 132.6828233827733, 1.0230893995923438, 1.125317104840984, 1.1245860605928604, 1.8265711059107148, 3.6480594362615557, 1.3580381736793312, 1.0598228272823649, 1.0089769683593124, 1.5570373026848552, 27.900079597879188, 1.4719167457666582, 37.47957842315343, 9.119084282873375, 638.7815064023449, 30.09986437213219, 36.079261520230325, 5.90068997723658, 1.5683344554173881, 1.307657419434204, 1.1411507900728526, 1.3401415319990293, 6.381479826668478, 3.337093587637314, 1.5984655966223673, 1.1516811700520373, 4.863767449332706, 7.009803953902854, 3.114598971106449, 1.2531058985777117, 1.065573029152412, 30.652189410375147, 8.623756831375687, 1.089941718102736, 1.074189215148266, 42.99646919315654, 1.0295582489598922, 3.7987045587003525, 1.341889908198183, 3.3378204607708644, 1.5157151253095822, 2.03279688098136, 86.72367588961458, 1.1518112515638885, 26.55898321125531, 1.2166251620895054, 8.619106413975718, 292.1035728006186, 44.95779835443103, 4.6338939250711615, 2.818046942931601, 7.480382280648748, 3.2764748810844804, 3.099772444868896, 29.08245483289598, 1.0916794774569978, 2620.002484707647, 1078.0810552351736, 8.349087487023079, 464.9452859718048, 1.0048990690018047, 1.006981479749371, 3.0450072041660303]\n",
      "Max vif is for variable no:  15\n",
      "Iteration no:  7\n",
      "VIF is:  [69.01149103977576, 43.595438253702405, 102.87553478695116, 1076.2427999288666, 335.2776490602972, 2101.4428017569553, 1822.438219327191, 87.79387340779364, 337.96877001346513, 1.2607437752869737, 1.092355142918383, 7.558561263133967, 1.041505652572697, 1.3274326949107107, 625.9316049590948, 627.3011708732007, 31.96178791462094, 4.187177925045155, 4.360719295514894, 636.1791175669301, 21.713657488975183, 1.039563388516388, 1.9327614019650587, 133.4973140596673, 132.6827776728693, 1.0230865016448263, 1.1250749337291854, 1.1245227561814648, 1.8252121650624824, 3.647927469496179, 1.3580297228278448, 1.0589949512075498, 1.0089745287585286, 1.5570217896516043, 27.900066800827496, 1.4719120024382069, 37.4777285931985, 9.11907777743114, 637.1071137372613, 30.06542383739081, 36.07319590839899, 5.90068145519596, 1.5682016005242227, 1.3076536362433262, 1.1411453608271998, 1.3401318245365348, 6.381078400715284, 3.337099489049005, 1.5983852874424838, 1.1516811748329259, 4.863409751770233, 7.009543594494924, 3.1142961484894234, 1.253105317126563, 1.060176780263577, 30.65149093514375, 8.62374423434237, 1.0899245499393198, 1.074171213556786, 42.991159721821916, 1.0294503079549306, 3.7909345464874806, 1.3418836557168836, 3.3369555003336315, 1.5156684683905168, 2.0325350330955017, 86.7222315110453, 1.1515236338913777, 26.558360544135727, 1.216590513564813, 8.618801835260607, 291.9376958136416, 44.93051291861866, 4.633893770020179, 2.8180120307805927, 7.480151866473453, 3.276098322213234, 3.099716189619524, 29.081573916453532, 1.0916389155584796, 2619.9375282264737, 1078.0710249772587, 8.345871975272962, 464.5291277519136, 1.0048937899735846, 1.0069728369290232, 3.044908740771924]\n",
      "Max vif is for variable no:  80\n",
      "Iteration no:  8\n",
      "VIF is:  [69.00380751940084, 43.59536745098842, 8413.41421589527, 1076.2055891589907, 1967980.4336664502, 8067392.929918852, 1822.363807865822, 87.5789315168609, 1282203.751412177, 1.2607005798435418, 1.092254478093753, 5698.931676289284, 1.0655155673281633, 2.240387911050612, 21037.923616915305, 20976.169065359227, 1544.3370838096725, 1417.0166673149238, 4.359732014250334, 636.152849140205, 692.1353687121282, 4.617453070485784, 12024.44309864653, 330554.5219714154, 325843.19460659416, 479.6504794008777, 5.190128286649365, 1.1244975699741664, 1375.0816956761576, 1226.690801392892, 1.3577630116912534, 1.0601454491468423, 1.0089743972705085, 1.5580184928784746, 150.83356159406804, 1.6151714609933676, 19871.388308761892, 9.114766076988703, 637.0848615629358, 1089.2986920342971, 36.07204139268445, 17.459740583756115, 1.5714542537466931, 1.3095736831763596, 1.14114468938415, 1.562238732670201, 13.441184228396246, 3.331534323157581, 1.5983570907133335, 1.1533636291100295, 23.938994394284645, 47.201357835707675, 3.114126932730536, 1.2534500904957977, 1.065785751873659, 130.30803030637497, 8.622370472676849, 766.4352951380597, 1.0840468196323663, 170745.41980421118, 1.0387322172718, 5072.738893312522, 1.4009968154686712, 7.193492268699881, 1.515233992107219, 1.439962931528434, 86.72159576431015, 1.1513722468476306, 26.554501792854847, 1.216767379539416, 125.66612686404213, 176561.77198117433, 1620.5959878597566, 876.4061700933962, 673.2870158034314, 7.4800112870665725, 1945.6805837236298, 3.098316300710254, 11695.064862659277, 1.094312275062188, 1078.0469485495453, 8.3421410870835, 175042.5122743761, 4.110117685329762, 1.0069714045075828, 5.798362071318583]\n",
      "Max vif is for variable no:  5\n",
      "Iteration no:  9\n",
      "VIF is:  [68.42174197952025, 43.502951069985244, 102.27843035900628, 1060.9489582824408, 105.8910162289399, 316.50151339125813, 19.402922166473164, 324.0329788830069, 1.2603925351016259, 1.0922531252304222, 7.458955382060982, 1.0653261104970702, 2.2401809260396193, 625.9148345242563, 627.283172414669, 31.94488694270902, 4.186794546735658, 3.4306104284929924, 636.1527080621656, 21.710489368822056, 4.617441418155318, 11929.152286755065, 133.4870617872438, 132.68180342344516, 479.6375332926491, 1.1236546297604069, 1.1244936746870122, 1375.0675433631816, 1226.0799142225576, 1.357761086967047, 1.05762087251676, 1.008192812903783, 1.5445114562544973, 27.897843921313743, 1.6101837153816434, 19870.830419923546, 9.11441345340964, 637.0759417454462, 1088.6711785185091, 34.68791552227961, 5.875681803090973, 1.5666843997381716, 1.3095735568556952, 1.1405094495599897, 1.5621785434776383, 13.427503060648931, 3.0444337959714103, 1.5950383661056842, 1.1529392872755737, 23.91431709818987, 6.950888384578407, 5.58378027636137, 1.253375681989615, 1.0652134135556515, 30.618610135045625, 8.557429419228917, 1.086050113452491, 1.0817128403281748, 41.24840655568288, 1.0386010965730972, 3.7895369179319864, 1.3413385892014136, 3.336459001776739, 1.515230582600728, 1.4394226807987125, 33.99171696489356, 1.151358972240807, 26.187389966534703, 1.2161744142407251, 8.582809854797798, 288.27047179579864, 44.901054646734444, 869.1797148628931, 2.7705544423467017, 7.475961943444071, 3.241733209042562, 3.0981877329908443, 11688.073761862124, 1.093718561257935, 1061.9635966309393, 8.325124056697296, 464.4534577068036, 4.110116344125714, 1.006325976376007, 5.581429136452273]\n",
      "Max vif is for variable no:  35\n",
      "Iteration no:  10\n",
      "VIF is:  [68.40708462250446, 43.45589945975669, 102.27184836263321, 1060.898354132775, 105.82456276604864, 316.20757679021744, 19.402467606732454, 323.435230233113, 1.2602217181593207, 1.0879256230605918, 7.458954850193079, 1.0653189361854842, 2.238984018442445, 625.3102452600045, 626.7748562477823, 31.89683429242037, 4.105213362032198, 3.4305670990127624, 635.6190410088673, 21.702072146940566, 1.038546917475856, 11914.74466225484, 133.47496196817877, 132.66439301818482, 479.6367432595301, 1.1208124024551434, 1.1234807292351099, 1372.2209110321903, 1217.2735846152168, 1.357739064348236, 1.0576083328938868, 1.0081871797314708, 1.5442951657920627, 27.88921889852189, 1.6101829745418177, 7.412799351071146, 636.1467596472842, 30.027361215457034, 34.65426758513656, 5.8366541290571545, 1.5395698416585204, 1.309505743035047, 1.1405093558754702, 1.5603626481604607, 12.20923812738772, 3.0424750562107428, 1.5948833552252382, 1.152768293043071, 23.774489294713383, 6.944762953973762, 5.583386778815393, 1.2531419275721645, 1.0640670654092728, 30.573801129335823, 8.557389281460543, 1.0837345744495992, 1.0816452455277388, 41.231703795029254, 1.0384751481657837, 3.786592538909313, 1.3411481676004762, 3.321796664971539, 1.5139715624549954, 1.4394190982916029, 33.982024289539225, 1.1489325433095854, 26.175068812073768, 1.2160403502836985, 8.569165029225331, 284.95367365281004, 42.27619729234321, 4.5870982521072685, 2.7697539888976537, 7.442484340748631, 3.195144533462806, 3.097258680136619, 11677.185072253895, 1.0919896464474197, 1061.9234512695132, 8.322429210007959, 449.9535347004366, 4.108913609162707, 1.005937090194306, 5.579579422324351]\n",
      "Max vif is for variable no:  21\n"
     ]
    },
    {
     "name": "stdout",
     "output_type": "stream",
     "text": [
      "Iteration no:  11\n",
      "VIF is:  [68.3353357949884, 43.44806936298956, 102.09294656151334, 1060.757375348616, 104.75294137602114, 313.057518244344, 19.314554599267986, 322.7754917334403, 1.2594981031369046, 1.08792354008231, 7.455298471196219, 1.0652914421921147, 2.23878361740199, 625.3100559808807, 626.7745168148423, 31.863017366253217, 4.059615393380097, 3.430396922484928, 621.1679561908223, 21.638595181593445, 1.0384565974337125, 132.73252016068022, 132.66280076315053, 1.0216790775134423, 1.120721892682294, 1.123468220228588, 1.646579867500145, 3.6100488742090135, 1.3576744581424816, 1.0575520882153344, 1.008153079653828, 1.5440551915752285, 27.888275750104217, 1.6101771946120615, 7.412790141592408, 621.5273323052597, 30.018921531303963, 34.6527084359086, 5.83659104019868, 1.5390719316239159, 1.3094570589384797, 1.1405037574497725, 1.5603570477062831, 5.792810255429982, 3.042342091315645, 1.5948176618513377, 1.1527675473101344, 23.758437479850755, 6.943749846522053, 5.583286884204895, 1.2530550053336074, 1.064065645920764, 30.57351963802749, 8.554676212659166, 1.0837067765867898, 1.0814719852402273, 41.22990683116749, 1.038474913451115, 3.785090333296856, 1.3411067992250674, 3.3217903795622563, 1.5139529816829338, 1.439383211483761, 33.89867197875073, 1.1489270656616446, 26.169196741582468, 1.216039193181378, 8.569078343968847, 284.9436454442117, 42.27521050534278, 4.575623177527722, 2.768252787700538, 7.441071416368189, 3.1753819484465073, 6.328426469788711, 29.03474432719552, 1.0919294009760954, 1061.7639920539712, 8.321126519200467, 449.9314772740102, 4.108913136727747, 1.005910915075762, 5.5776340824969255]\n",
      "Max vif is for variable no:  77\n",
      "Iteration no:  12\n",
      "VIF is:  [68.31529590682996, 43.42757875543636, 102.09060794314203, 2.4251757235139686, 104.74358981503927, 312.35859438094235, 19.313972512838557, 322.29512391663815, 1.259485817360317, 1.0878461272684905, 7.45396765942851, 1.0412367897513501, 1.326310826688935, 625.2865256441108, 626.7609930763787, 1539.1223062832116, 4.059276918826899, 3.4268544227741327, 621.1236707795833, 21.63246292538349, 1.0384264988158822, 132.73246084451014, 132.66275753166576, 1.021675875849051, 1.1201219343395414, 1.1232508099891028, 1.6465766462583076, 3.608679306610446, 1.3573255561282453, 1.0562987715581578, 1.008087592020613, 1.5429875041635053, 27.87315685220442, 1.4671757941584798, 9.190445204762208, 621.5203300506761, 30.013643498036796, 34.64614024001942, 5.836404543614246, 1.5357954798958093, 1.3074564700508935, 1.1393742100985675, 1.5602592931724444, 5.791861278942335, 3.0380541891005777, 1.5944801137008293, 1.150902045455721, 4.82428966132957, 6.943225240712872, 3.109405471720107, 1.2524984667355328, 1.0583863691367101, 129.85862982310533, 875.5237359991138, 1.083697321254635, 1.0715817290987897, 163710.23979652932, 1.0290211680236974, 3.7842052306291314, 1.3411044897512878, 3.3156172406169553, 1.513950376446457, 1.439373179278859, 33.871322804584516, 1.1486406392396553, 26.16918405004774, 1.2158454748800747, 124.62885594413457, 172320.75093007358, 1524.3771821490152, 4.575358005006646, 2.7676622558900332, 7.439437879955448, 3.175380562745617, 6.326552855935583, 29.011998441318017, 1.0892503249286976, 8.320927545478556, 449.78049020580215, 1.0043031270534097, 1.0059087959722874, 2.92709286109248]\n",
      "Max vif is for variable no:  68\n",
      "Iteration no:  13\n",
      "VIF is:  [68.26993496689245, 43.41243581040651, 101.82259622552496, 2.4211747376208623, 97.11929981640407, 298.4797494967058, 18.3881836107661, 320.7287555026386, 1.2594852454054672, 1.0875065583172172, 7.430905350310334, 1.0649592433781538, 2.2367844437968842, 624.4351012177603, 625.7820966090922, 31.7828176654462, 4.046908972542238, 3.4268639803807646, 621.0741170306819, 21.63133617212882, 4.612453460120536, 132.73083716819303, 132.66133685835138, 478.960131462427, 1.1200479513077222, 1.1182288264524978, 1240.0738062834669, 1172.3941727962615, 1.3534657605476128, 1.0575364885107306, 1.008076323017884, 1.541231577022419, 148.33880333489614, 1.6099572892389764, 7.411879916530153, 621.4573469810223, 30.000444183133865, 31.69210806995688, 5.827885903960587, 1.53529933785769, 1.309339064515353, 1.1392232795857682, 1.3380727826767285, 5.743938518155682, 3.0109753570173625, 240.71926262462608, 1.1525808978371803, 23.622579984131818, 46.46973250137369, 5.516780856677673, 1.249097627322587, 1.0639504487325946, 128.93045031519623, 874.6293599176539, 1.083160128296543, 1.081284114165828, 36.04423186841406, 1.0379992483806717, 5059.238581419042, 1.4001538406685676, 3.310483195683946, 1.5133556689033325, 1.4376836291341, 33.44940613423449, 1.1484139720199391, 26.16778278876108, 1.2160146402568501, 124.51698387525468, 406.3660898242043, 4.55520837060794, 2.766814472503765, 7.410865231674674, 1826.6830159641863, 3.0667283373537377, 28.92043747960333, 1.0912857436767376, 7.781346094182533, 101.44491576252291, 4.107917359407113, 1.0059060716733341, 5.55558528819019]\n",
      "Max vif is for variable no:  58\n",
      "Iteration no:  14\n",
      "VIF is:  [68.24508792691469, 42.74664835888344, 101.72690701309787, 2.419696442836464, 95.82819043838855, 296.5382891494858, 18.2755733551452, 320.6092640625419, 1.2568952457783706, 1.0875064940490866, 7.430897613583155, 1.0644890946879764, 2.235238369790747, 622.605426093063, 622.0197747554083, 31.276150077501384, 4.042115852100467, 3.426869669298152, 621.0512200595927, 21.627161484018423, 4.612338613421176, 132.7161345114694, 132.6528885305982, 478.7532676259537, 1.1200337424399995, 1.1165399918029224, 1239.3734498883405, 1171.3467390949322, 1.3531772953442764, 1.0575106991996839, 1.0080586623462218, 1.5406967965522835, 148.26931872856645, 1.6098058205916723, 7.398483284531145, 621.4488850485835, 30.000442781474003, 31.65651560222485, 5.827142565480744, 1.5345254755819817, 1.3082411203508915, 1.1391429883594106, 1.332944848212913, 5.735770215642498, 3.0044733734990463, 240.69248090168688, 1.1524483110092518, 23.615501287397663, 46.44128518703236, 5.512988230569608, 1.2490810449095644, 1.0638884235022765, 30.250772713771283, 873.9555366617584, 1.0831424400012888, 1.081232514854909, 35.9441612946778, 1.0365610964270524, 1.3403680002863647, 3.1865923465299137, 1.5133556588827515, 1.4376796397852947, 33.39972363849065, 1.1479331854073997, 26.15806018212858, 1.216009649284695, 8.52077007155382, 405.7302101881724, 4.553268745854464, 2.7664314211187535, 7.351060434617339, 1824.3174304752954, 3.0661174740834767, 25.132408771158197, 1.0748035490384953, 7.780494777609806, 101.36707554667987, 4.107447804423299, 1.005880688048252, 5.540795570443842]\n",
      "Max vif is for variable no:  71\n",
      "Iteration no:  15\n",
      "VIF is:  [68.13338185407761, 42.74494341013259, 101.72420987942886, 2.419084527543571, 90.7347797729152, 290.50782893799703, 17.380094647480316, 320.2647038298648, 1.7343281937022041, 1.0870217545089504, 7.430894307218902, 1.0644444138884337, 2.232371064074951, 622.4536753930026, 621.8908167407743, 31.183850300183067, 4.020185000783093, 3.4121014924717463, 601.3004539172406, 21.36353129638725, 4.611451866814332, 132.71242679731424, 132.65270900283124, 478.74556703927226, 1.1180605651790154, 1.1161859037575261, 1223.6265955205345, 1120.4008947812133, 1.3477991344727887, 1.0575024157005142, 1.0078814870285466, 1.539190050827389, 147.60428123125692, 1.6092852976022085, 7.045191923357347, 601.6880479985296, 29.99559184532101, 23.730071860811908, 5.72830000447952, 1.5230147749504863, 1.308162143014904, 1.1390040828401082, 1.332519804546483, 5.414662269989258, 3.0042475287310757, 240.4761025143128, 1.1524483004746269, 22.77052291247319, 46.244220840694574, 5.402088143139883, 1.242305211272357, 1.0637316058865274, 29.977381464317602, 873.7245699532796, 1.082986027312089, 1.0804810550579913, 30.75549771738402, 1.0362870336800163, 1.3394612071660665, 3.171193248116393, 1.513301339285748, 1.4369585778211615, 33.12160016961081, 1.1473594891685037, 26.142605337565843, 1.2159528175457075, 8.5207481477488, 359.1706159403221, 569.7693850216313, 642.4214231158173, 7.320621582294411, 3.0227045949396087, 25.053906091657716, 1.0716536130206198, 7.684600088918384, 83.31047901513874, 4.107381861484346, 1.0058513479898419, 5.54079543940348]\n",
      "Max vif is for variable no:  26\n",
      "Iteration no:  16\n",
      "VIF is:  [67.71173165333707, 42.68244240292769, 100.78010532937559, 2.4190039162327994, 90.69666723793044, 290.4968866899497, 17.367813414673567, 320.2052166631233, 1.2568234803975027, 1.0866404738014825, 7.430877097467812, 1.063634610719656, 2.232185845316608, 622.3702118541756, 621.8087532109546, 30.766279753740275, 3.6251807810812284, 3.4118568836356458, 478.11580931456706, 20.764905204263897, 4.605737942575378, 132.6510115385763, 132.65226165858698, 1.0210568860233187, 1.117101948107684, 1.116185817918225, 1120.075847579963, 1.3477861178094805, 1.0574882496363651, 1.0078802463635055, 1.5389421961839909, 27.271064487972648, 1.60926297070214, 7.025471768599594, 481.249066387726, 29.96654221499707, 23.29367398674271, 5.7079806798229, 1.5230073661844854, 1.3081323635913502, 1.6373055715079392, 1.3325183755537906, 5.370336652114103, 3.0042451318033714, 240.21374161858907, 1.1524295599327317, 22.7167510201805, 46.17971289128029, 5.399580096039246, 1.2422107923689079, 1.0636318286884756, 29.97233084479773, 873.079921070422, 1.0829850799641483, 1.0803549812385933, 30.515514581734127, 1.0362723162271632, 1.339429225042517, 3.169801490534188, 1.5126480164724636, 1.4369552242864214, 33.12153833269442, 1.146630108005927, 26.140801272911663, 1.2159478271559159, 8.520741515957095, 354.5366272618618, 569.7657130169738, 642.4194930619287, 7.174375343760684, 3.022417212360116, 24.97311809993234, 1.0714790047529312, 7.669679850333039, 81.80278272338641, 4.107356841834334, 1.0058372029766232, 5.539789735079462]\n",
      "Max vif is for variable no:  26\n"
     ]
    },
    {
     "name": "stdout",
     "output_type": "stream",
     "text": [
      "Iteration no:  17\n",
      "VIF is:  [67.67053802968499, 41.82333776475325, 100.75563205637279, 2.4171718586518063, 87.18717424108767, 287.02714930976344, 16.98354940647117, 320.17161452809313, 1.2566033458864354, 1.0861593427765084, 7.409366950163361, 1.0635460039474447, 2.232153321220041, 622.364412453625, 621.7850178497229, 30.69916052708889, 3.4205512130307465, 3.4117328538590024, 475.4156576562331, 20.74903363454484, 1.036843518841472, 132.64994410616774, 132.65226171975473, 1.0210568834729201, 1.1171005627213484, 1.116057231935234, 1.346837146170816, 1.057464642003234, 1.0078338173885257, 1.5316037279183419, 27.259167377898205, 1.6092317005030836, 7.00178606244566, 479.01320590945414, 29.87069408697484, 23.136225753963213, 5.581397958438051, 1.5228984777758843, 1.3080891845786935, 1.1386694130746655, 1.332395024585804, 10.509518324968663, 3.0014880592815505, 240.0138648270975, 1.1523261780840623, 22.652918690052463, 46.062325261696444, 5.388730437673085, 1.2399136024629294, 1.0635400951037974, 29.966258673063276, 866.6875743779674, 1.082844037176173, 1.0800764117956774, 117433.72937446318, 1.0361767315775925, 1.3392587759272303, 3.1659356634170783, 1.5121897732962637, 1.4369543289561095, 33.03374246327383, 1.1466255288324336, 26.13001052289641, 1.2155402436863287, 8.520572575734416, 9.333392269653947, 569.3975029328959, 642.1976036697863, 5.301763472689108, 3.012686037082432, 24.660837402122706, 1.0714697262329012, 7.6484557500273045, 79.48101748931765, 4.10732614539392, 1.0058372379664728, 5.539473509193574]\n",
      "Max vif is for variable no:  54\n",
      "Iteration no:  18\n",
      "VIF is:  [67.65055471699293, 41.81509438381869, 8229.017871712862, 3122.8974846774663, 244275.1479628941, 242.666846483603, 11.151580699245997, 319.53759453676025, 1.2549410041912399, 1.0853153008547187, 5579.610073941061, 1.0613937452897837, 2.2310463005048478, 20917.95799655651, 20791.687987730715, 30.587300871549203, 1157.001166356864, 3.388991829950386, 473.9284152373613, 20.614359200266996, 4.60503055462181, 132.64650780245083, 132.6508184173691, 478.69057365169766, 1.1154823480333373, 1.115929929093633, 1.344296692410365, 1.057267618089051, 1.0077098261184032, 1.5304262899915266, 147.23114302504518, 1.6086303299401492, 7.30597270957096, 477.98735074132856, 29.78472409725632, 7099.6748996961705, 5.397097793407479, 1.5223043901287123, 1.308044698792727, 1.1386401391039123, 1.331779273307374, 4.728222726130914, 2.9862527265633103, 240.01337502917738, 1.1519916846689315, 21.18247047461773, 44.27053552650562, 5.211613763732169, 1.214387392312596, 1.063526792233148, 127.0653041935751, 864.888487824468, 761.1679941804571, 1.0791267483660019, 1.0361767184561177, 1.398562148873315, 3.1466418245331775, 1.5120649289903605, 1.4357011196147493, 31.309422916894107, 1.1464211129419464, 26.125702792201604, 1.21553571369315, 123.04411988926273, 137.71832183692024, 563.7496132933792, 634.8182668091214, 549.702256957644, 2.983481445644853, 9911.590322456967, 1.0711956500610302, 7.554206245785949, 11035.037705730192, 4.107225495806308, 1.0058283793616638, 5.508925954967082]\n",
      "Max vif is for variable no:  4\n",
      "Iteration no:  19\n",
      "VIF is:  [67.51692836560171, 41.75412915240533, 8193.986446194906, 3107.327691512568, 212.3282877219469, 5.0427873318084036, 198.09553778572152, 1.2529573197496484, 1.0835260418500143, 5490.018677204517, 1.0613771161106098, 2.227451067151897, 20914.882996408778, 20786.97329255657, 30.560753512891072, 1150.9161822214232, 2.9228603812555556, 473.6680880936271, 20.612433217689222, 4.604792417894607, 132.60748849102455, 132.65016855509566, 477.8788078389963, 1.1152904211060723, 1.1121013598638307, 1.336724845198539, 1.057204346342178, 0.9752914304276312, 1.5148908069429805, 144.3172903979167, 1.608140788347396, 6.3245233679683235, 477.69501389102624, 29.781945147018337, 6736.84873611397, 5.306169731941061, 1.5077737568382616, 1.3078084154322835, 1.138351472492023, 1.331573907402489, 4.546587019166192, 2.6531661380667, 239.9379655235304, 1.151964011980382, 21.177546176246647, 43.73438870860574, 5.155724420423375, 1.1979107346001416, 1.0635235326459507, 126.49143873436779, 859.3833786034936, 756.6411198665942, 1.0745571740423019, 1.0360099899635853, 1.398014179714413, 3.135922720669889, 1.5117551374398823, 1.4356114272730485, 28.656648187647505, 1.146415622138066, 25.43995520650403, 1.2154029933076906, 122.54056878132242, 137.50289773564626, 563.7317042227667, 632.7305355945518, 549.3837713329849, 2.9097361223187623, 9892.180547158949, 1.0709011610498886, 5.137032803273836, 8655.516031278046, 4.107200108026764, 0.9864770909366652, 5.4942077692662705]\n",
      "Max vif is for variable no:  12\n",
      "Iteration no:  20\n",
      "VIF is:  [67.5167107568092, 41.74631735894678, 8193.71965017574, 3107.283516596513, 212.2969734198997, 5.041747661771533, 198.0607141300329, 1.2524682137649792, 1.0819658027153785, 7.2812986171288365, 1.06136820342551, 2.226455330262995, 2.959848846315092, 30.537155041750644, 1150.6565132881628, 2.9228530788576625, 473.5619411193686, 20.60931492516172, 4.604751142630306, 132.60746336210073, 132.6501658800291, 477.87191293028434, 1.1151093082112495, 1.1120839096181245, 1.3367247597864411, 1.0569846929251268, 0.9752862113399342, 1.5148896421084204, 144.31663887272424, 1.6081316003741017, 6.324519970251748, 477.58168296992716, 29.68424639831515, 7.374202227520953, 5.302986927748964, 1.505944016109901, 1.3077598917659643, 1.1381361159938068, 1.5522158994522823, 9.567674530765041, 2.65316775253822, 239.90391306790698, 1.151963852442811, 21.168960942965338, 43.70030639645903, 5.155223353507867, 1.1979013526405122, 1.0606377109659897, 126.48914935281852, 859.3760612963767, 1.0758645621724003, 1.0744765640955714, 1.0359777308743776, 1.3979815570657652, 3.1340286809035143, 1.5112831357830585, 1.4351670653800561, 28.655867503966483, 1.1456696398082677, 25.439107092424745, 1.2153933661844507, 122.51943433628959, 137.13526059678915, 563.6028815369559, 632.7085452571501, 549.377370354274, 5.9460891496833135, 9892.115047775664, 1.0707570920724128, 5.13592310383557, 22.968316532201722, 4.107093914399891, 0.9864546477662818, 5.49409991654151]\n",
      "Max vif is for variable no:  67\n",
      "Iteration no:  21\n",
      "VIF is:  [65.66134104055035, 22.825006394696604, 98.95025210441969, 2957.7931761931454, 211.92310769362504, 4.994116903890454, 197.86147016565786, 1.2353845525091183, 1.0818558535555904, 7.209165382799199, 1.0609357198521194, 2.2070756745785065, 2.9593866192279825, 30.53320922117125, 3.381544539913561, 2.919393759471825, 472.3868783103166, 20.598500166968687, 4.602053104775652, 132.59218527591946, 132.63805535610206, 1.0192922598418075, 1.0848743241695136, 1.1119406223979653, 1.3366754549365616, 1.0569084633127577, 0.975285889871053, 1.5110497910069665, 141.82918941046466, 1.6070624463531422, 6.087632398792072, 476.38969446065363, 29.684116368058667, 7.188618038643693, 15.48180112593101, 1.5045455052251566, 1.303060771449287, 1.1379651280971794, 1.5499822055817924, 9.558395498927657, 2.63382888384604, 239.82941645770663, 1.1513517714323456, 21.156671790322825, 43.58300812871735, 5.152561035285455, 1.1929805035950247, 1.06062708925603, 29.65712774010142, 858.2141476335657, 1.0758486680785686, 1.074464793478034, 1.0354935686338276, 1.3364048092040721, 2.288352779377365, 1.5112588228242418, 1.4332511229768685, 28.629374571340634, 1.1425704685210085, 25.236252645625402, 1.2152972740887162, 122.11598454269838, 136.92804658745553, 563.1598583338111, 632.5078722112216, 5.213233305139053, 5.944302665821277, 1.070171940970305, 4.566814774259097, 21.508505295262232, 4.106741210675682, 0.9864512379400526, 5.489256802946454]\n",
      "Max vif is for variable no:  3\n",
      "Iteration no:  22\n",
      "VIF is:  [4614.190496132856, 1630.7301334116537, 8089.920193501507, 211.88298889014717, 4.78081691214604, 197.44053803890088, 1.2191741168302155, 1.0786388817447083, 4408.196979277537, 1.060935675173083, 2.202662174657123, 98.90032162031925, 1475.58170876337, 1143.7611198676705, 2.835283690625751, 7673.746598422414, 656.23516634355, 4.600285431981966, 132.5783676830228, 132.63069351009233, 477.8371900395429, 5.002606427365133, 1.1116547594989743, 1.3355862419334208, 1.0557378262868686, 0.9750492050776842, 1.4641226504843294, 141.34297499757474, 1.6061048191094323, 6.08047610807105, 7806.202685692634, 1072.3269149569521, 7.18237871710677, 4.934108734780041, 1.5035265788301588, 1.3021803379613412, 1.1378241314402773, 1.5390887435736704, 9.518732665733674, 2.565919049959869, 234.59419477461236, 1.1513405289336212, 21.04905681191995, 6.471261818378072, 5.146970838253696, 1.1927286638628447, 1.0603243928145665, 125.14012319031049, 7.598940005381737, 1.072396440998364, 1.0727253571275954, 1.035338745585881, 1.3931821268734708, 3.9294112220732305, 1.5112035994608148, 1.4331875430828172, 26.654035676339067, 1.1425698704011238, 22.05932251939883, 1.2146407910406363, 120.51706902569113, 136.68632176683278, 562.6960582526672, 632.3542785289192, 540.6110586992183, 2.9079191365678714, 1.0671448955903302, 4.529067922132327, 8065.580794871895, 4.106739967019706, 0.98629801958389, 5.488298505073532]\n",
      "Max vif is for variable no:  2\n"
     ]
    },
    {
     "name": "stdout",
     "output_type": "stream",
     "text": [
      "Iteration no:  23\n",
      "VIF is:  [919.1193297878693, 927.4602956937485, 211.8755456870116, 4.780788482811119, 197.4332829807189, 1.2190523470007348, 1.0782851900702066, 4407.702882319001, 1.0604536700969618, 2.0260877920121216, 98.10753356224312, 1080.7954541931797, 1142.9206736808787, 2.8349368512870363, 7627.483499940172, 609.6705776039175, 4.599235739798283, 132.54330503967932, 132.595993350959, 477.8254836221615, 1.0835802490395476, 1.11103253931345, 1.3355810104522354, 1.0556196804460838, 0.9750434131408805, 1.463242855534569, 141.32145386738694, 1.6060500925789305, 6.080301496530633, 7751.938547550819, 918.4517198617169, 7.1806701058496625, 14.606350146944655, 1.503442658529193, 1.3017632263169625, 1.1373770496588955, 1.522833394278278, 9.518293938786165, 2.5656064199280055, 234.20469511909192, 1.1512898595487309, 21.03593757098938, 6.460790759492366, 5.144954227320638, 1.1927280676697938, 1.0602949232086396, 125.1390151014811, 777.8163983241404, 1.072362466838366, 1.0723295165604145, 1.0351377599908071, 1.3930713334013407, 3.928439799454226, 1.5104340654825246, 1.4330458006124087, 26.654050613738132, 1.1425691788742058, 22.05931102723061, 1.2146385963950221, 8.264572261132692, 136.5539370722568, 561.9042563184307, 632.2327730589398, 540.5187459500113, 2.907604320567625, 1.0624458345112473, 4.527510915145049, 8065.1759813908175, 4.1063588416139645, 0.9862868174903882, 5.488166899744086]\n",
      "Max vif is for variable no:  67\n",
      "Iteration no:  24\n",
      "VIF is:  [918.3947891090772, 913.5325263808683, 169.58277142447002, 4.7794769854936305, 155.1879801450529, 1.215761469454162, 1.076881002724993, 4335.070075001545, 1.0586398262049728, 2.0247775764566804, 98.03675981401909, 1080.43146923198, 1099.337092573524, 2.6093392779800326, 7622.887345041584, 608.5206488211759, 4.597523206696921, 132.5270725459871, 132.5959087308341, 477.4640917176508, 1.0834351813186263, 1.0919753885842411, 1.3352739722801916, 1.0556186450262666, 0.9614700453020866, 1.4556780625028187, 24.928301307838716, 1.6056321364424173, 1.8350438645144767, 7748.0052962788395, 917.2982974197072, 2.42770166252475, 14.532184523868768, 1.4552255093712485, 1.301487867016331, 1.1372875274567091, 1.5227558206030427, 9.34057651032256, 2.481209758894854, 1.5509426122398897, 1.1512505696189475, 20.64411658306099, 5.707362149008921, 5.0156488064828615, 1.1353021759757398, 1.0600106765956148, 124.6123520728484, 773.0835124076956, 1.06670465714497, 1.0722285221844081, 1.0351372209449903, 1.3332931755346948, 3.9181490759431266, 1.5101943745662176, 1.4327339219661748, 24.27504425065673, 1.1423241079598894, 21.786074736180506, 1.21463560648646, 8.151806579760716, 3.433974009488779, 560.4542262693426, 631.585804520194, 533.8435070052418, 2.9075699859282143, 1.0620925234022893, 1.9422390361116637, 4.1062903229824785, 0.9787720873950275, 5.423922556779001]\n",
      "Max vif is for variable no:  29\n",
      "Iteration no:  25\n",
      "VIF is:  [910.8266832457048, 909.8779723275757, 169.57137168153034, 4.779399439394673, 155.17828696365012, 1.2157260901429172, 1.0759738881584804, 5.748811366838308, 1.0571686746272384, 2.023315096440812, 98.03068402017333, 1048.440308470808, 1066.6945120678404, 2.6093398505497527, 101.64363199146734, 572.0607219478359, 4.594897866477022, 132.52690221653853, 132.59583477710547, 477.4560844260712, 1.0832559299627829, 1.0919725376573586, 1.3349750989781688, 1.0555785474430488, 0.9614696836741962, 1.45567806230907, 24.927648862305126, 1.6055595974889523, 1.8348196818361908, 785.9019782017753, 2.427574582875185, 14.53218013928552, 1.4552252650777904, 1.301236991148216, 1.13728559462685, 1.5227517016864514, 9.340008207741235, 2.481121426480499, 233.93556909420624, 1.1512421053378938, 20.640352499030268, 38.42116651342184, 5.013123192316099, 1.1352944097020459, 1.0600061926027853, 124.61220670551492, 772.4076054888293, 1.066697192322996, 1.0721972536287938, 1.0341884215613173, 1.3330197475529924, 3.9177848859010527, 1.5101931804253181, 1.4325701100995563, 24.27474921452927, 1.1423173047241129, 21.785942423722357, 1.2146352313557576, 8.150749869408195, 3.4310839301570333, 560.4434719166406, 631.4873806867661, 527.9319501630804, 2.9055845925799173, 1.0616124365613466, 1.9378307251588216, 4.106271501121912, 0.9787692371801002, 5.423560170227347]\n",
      "Max vif is for variable no:  12\n",
      "Iteration no:  26\n",
      "VIF is:  [902.764524631184, 906.318284389691, 166.20974393903668, 4.777598924501676, 151.93422999864683, 1.2154843679001133, 1.0758640693033255, 5.739452429600415, 1.056793743561147, 2.0225058288656395, 98.00298986225691, 1037.1927884830666, 2.6005231095567813, 101.10738070845909, 571.546984194488, 4.534879421585597, 132.52319455584987, 132.58935223252192, 477.44252679037675, 1.082132813133545, 1.090536282199056, 1.3348060523736367, 1.0553698536839327, 0.9607208977259587, 1.4543653493644357, 24.86318227810586, 1.6049049835834093, 1.8341464480617982, 785.0797893812601, 2.417211949217578, 13.999925107304604, 1.4545692881606784, 1.300585940363925, 1.1372842486471029, 1.5218858976841287, 8.548122792259885, 2.467831492269195, 233.11698860807874, 1.1511480310703934, 20.63860420778016, 38.34678592077958, 4.998919202921866, 1.1329372798846495, 1.0597066724446997, 124.16413165416017, 754.7528352574847, 1.066369091169916, 1.072160358341967, 1.0335129870424515, 1.3324916882180002, 3.8974418898874177, 1.5100278403800604, 1.4325628644354642, 24.08034734421189, 1.1421664294475995, 21.773168790753747, 1.2146242068587734, 8.11207112145886, 3.417960077344147, 560.2503707218299, 631.1656423949968, 309.85872661089985, 2.9038038483820436, 1.0614576934735827, 1.9345065233312393, 4.106252862797556, 0.9783874957208575, 5.423549989352331]\n",
      "Max vif is for variable no:  11\n",
      "Iteration no:  27\n",
      "VIF is:  [845.1128493151022, 897.9797879969162, 165.84020797432274, 4.777479591127093, 151.60408862766363, 1.2153970445595323, 1.0757618107686682, 5.737161711102199, 1.0562153644143393, 1.9408801240821756, 82.93229080735061, 2.600284400640507, 97.80612693424122, 511.643379574046, 4.534780888434739, 132.52161241843322, 132.588234838496, 477.2643073341764, 1.0820490434894736, 1.0879543403123924, 1.3348047351110275, 1.0553695459045969, 0.9606803494683718, 1.4543436789766775, 24.83517794626493, 1.6047017122999496, 1.8334130667986548, 657.5842184397502, 2.4168751141766815, 13.998985019674796, 1.454448240828494, 1.3004502130816329, 1.1372737649771214, 1.5178168949731536, 8.546402388482393, 2.4665684061562922, 232.78376323786154, 1.151147839738083, 20.60091697091257, 38.314794990681165, 4.990422572279084, 1.1329028308630162, 1.059687880129757, 123.90065351485642, 754.7347499699096, 1.0661991370581476, 1.0717325404224232, 1.0315197245891559, 1.332345309906688, 3.896872297314926, 1.5100186095410917, 1.4323697064669354, 24.069456326861417, 1.142134225519456, 21.772860332629605, 1.2144633522761712, 8.10343150967705, 3.4177173176493416, 560.0766033445274, 631.1644938502917, 309.7907625829063, 2.9037291621957024, 1.0612967273121918, 1.9344849327856117, 4.106230676510428, 0.9783868061200944, 5.4234801417517655]\n",
      "Max vif is for variable no:  1\n",
      "Iteration no:  28\n",
      "VIF is:  [277.78766656596787, 164.73392378602745, 4.767930234490501, 150.64857828963056, 1.2084338675629347, 1.073108923589973, 5.736197635703817, 1.0558003687515312, 1.92479211327828, 82.85377248138373, 2.5971239631667355, 93.03541718117557, 511.06890057836193, 4.534376008060617, 132.49717695493868, 132.5454505894747, 477.21315352368924, 1.080877685375553, 1.074032838366777, 1.334802817976898, 1.0553352773428768, 0.9602908433486201, 1.453900426515408, 24.834829720480364, 1.6043947874004993, 1.8319289197463078, 642.345675877291, 2.4135189942399218, 13.963322364431258, 1.4543691780984305, 1.3002340068757725, 1.135153239303023, 1.4804941345696545, 8.54639232023797, 2.4574871576511623, 231.61543900726917, 1.1509714098988075, 20.596765825054618, 37.92058855451238, 4.964693724883687, 1.132891269316562, 1.0596163579846434, 123.7417064382187, 753.9268570934554, 1.0660295922888925, 1.0717286326453928, 1.0314776925086087, 1.3323401011431424, 3.656994398089587, 1.5100185652144444, 1.4322688086988973, 24.026118546662264, 1.1421167481697556, 21.77249588475175, 1.2144521095144578, 8.101813384866142, 3.417568370227979, 559.2803481264024, 631.0066376886834, 309.4014683261656, 2.903684771472161, 1.0510284343309602, 1.9222289253268112, 4.10471096896212, 0.9781254160623264, 5.422268873695089]\n",
      "Max vif is for variable no:  43\n"
     ]
    },
    {
     "name": "stdout",
     "output_type": "stream",
     "text": [
      "Iteration no:  29\n",
      "VIF is:  [275.2367489684523, 161.82462806316173, 4.734066527929221, 148.01454424702226, 1.2076801370059853, 1.0731085705406196, 1881.5173538539993, 1.0557841497243634, 1.9232086780064943, 82.66703105891119, 2.583438293097705, 92.96758490121069, 510.60532868724914, 4.534337859219856, 132.4823812413054, 132.53947490760322, 477.17026242040606, 1.0803399942507943, 1.0740204141538714, 1.334419417084155, 1.055245065827837, 0.9590055011018668, 1.4344793859106242, 24.32655165208634, 1.6037398386872637, 1.8316552514146565, 642.2990669583604, 2.411539976738818, 13.963018229054828, 1.4531499662485365, 1.3002331391865984, 1.1350924455032545, 1.4802968012148732, 8.545943666251912, 2.4188753018371383, 231.12840327681792, 1.1508247784671184, 20.559530954014292, 37.91209716080541, 4.964685450563807, 1.1327804797730427, 1.0596119090108873, 122.68946477845012, 1.0657002044353034, 1.0707272538587858, 1.030665210276795, 1.3313181128687754, 3.6567594704768487, 1.5095232612636609, 1.4318413689520126, 23.84280215071994, 1.142011635272586, 21.772496627529915, 1.2143561562246725, 7.8524476330638455, 3.4153364855682984, 552.7693494563501, 604.5857294407676, 2.4472468597019468, 2.900518019578575, 1.0489007105130617, 1.9119439621627206, 4.104697297296311, 0.977071104370819, 4.75921311735725]\n",
      "Max vif is for variable no:  6\n",
      "Iteration no:  30\n",
      "VIF is:  [274.320747948534, 159.43810499740928, 4.695840771586275, 145.91330222720447, 1.207645847499106, 1.0730113898887375, 1.055747842130337, 1.9230915480691468, 82.6085101157444, 2.553448732291027, 92.96714020604112, 510.09772158264906, 1.02066279376613, 132.4808992188629, 132.53940442754956, 1.0177472495108446, 1.080309507825771, 1.07393516171485, 1.3343936156448126, 1.055130133691614, 0.9583872529984321, 1.2704449021575104, 24.04093715960185, 1.6031715303572025, 1.47707703520872, 642.2828453174027, 2.403057297362532, 13.96244937650434, 1.4523980519464716, 1.3001543930089028, 1.1349954263335313, 1.4796840317235578, 8.545872971354532, 2.378297673504899, 226.47678445988228, 1.1506751019153683, 20.556519968136552, 37.9031993775671, 4.961381793172546, 1.132778774437108, 1.0595485337008708, 28.588505705953793, 1.0651541119700698, 1.0707263423002595, 1.0302552329982653, 1.3312557997618948, 3.6511640848986637, 1.509443653147619, 1.431791241809319, 23.774295025480168, 1.1405223678644418, 21.752020968105104, 1.2140326037929527, 7.689074974076386, 3.4152660995932522, 532.4915013324478, 547.680745661078, 172.93244889816816, 2.9005057436658395, 1.0488949352165085, 1.9101216797647733, 4.104678302911205, 0.9766344417364532, 4.721540989844605]\n",
      "Max vif is for variable no:  25\n",
      "Iteration no:  31\n",
      "VIF is:  [271.8789021481666, 159.43795358121034, 4.690800589064464, 145.9089396570412, 1.207626813703956, 1.0729794855009998, 1.0555930191277803, 1.9229840582448336, 82.53057144872469, 2.5530606286710453, 4.693978797465857, 220.53274698592244, 1.0206061047392327, 132.47888524953962, 132.53645274227853, 1.0176646967762017, 1.0743896168800093, 1.0739071229416195, 1.3342746931787668, 1.055125978704949, 0.9583546638062838, 1.2704448925684584, 23.951987723646706, 1.6022335937301477, 1.4769943411108255, 2.4000514692616863, 13.949988433579035, 1.451964683791324, 1.2999176311715315, 1.1346845838666364, 1.4745399714334835, 8.541884240275927, 2.3776527268979324, 226.33604867887922, 1.1506420737055263, 20.52942350931364, 37.843556864922895, 4.955168039563398, 1.132764618059906, 1.0594584485715421, 28.49832695075215, 1.0651497734580848, 1.0705864790272148, 1.024471537830696, 1.3312356767518234, 3.6093525410494904, 1.5086518397309412, 1.431649703991678, 23.774021686178255, 1.1402168262197565, 21.751211350963285, 1.2138361611619597, 7.666850087478604, 3.414947708437973, 531.5614624038406, 547.3291827901479, 172.5305018299614, 2.900501136320005, 1.047962587396951, 1.9100894997153377, 4.1045670936938, 0.9765777576230974, 4.721501975091312]\n",
      "Max vif is for variable no:  55\n",
      "Iteration no:  32\n",
      "VIF is:  [271.64782905015784, 159.29532022258252, 4.635537566343411, 145.86089584903627, 1.207215154179777, 1.072970215452907, 1.0555911242465181, 1.9214120142448359, 82.52615001277034, 2.475472387720076, 76.20146366816954, 220.4903967722391, 4.533117556198764, 132.47502151133435, 132.53019853494538, 477.10560977139966, 1.073936841458475, 1.0738850361509256, 1.3340287609675499, 1.0550285515664308, 0.9581596814292974, 1.2253794590754983, 23.945619120084434, 1.602169608175907, 1.8306359445497615, 2.397146847433597, 13.947479807854997, 1.4519405337221316, 1.2998278911371979, 1.1346127887940352, 1.4740989181005826, 8.539983669279549, 2.3519913529632217, 226.15307289732843, 1.1506325839662623, 20.52505254821991, 37.842828098523256, 4.953981014122065, 1.1327445962180938, 1.059382013567676, 120.99830443923793, 1.0651461363117032, 1.0705864103647578, 1.0242969212774704, 1.3312216809828599, 3.583536945295664, 1.5081035572556125, 1.4311083536191243, 23.77325425662344, 1.1401338147305529, 21.70831598020049, 1.2138339077503737, 7.651881838690332, 3.414946779509356, 297.41603797055905, 172.13074898882113, 2.8988718297342193, 1.0479102215365714, 1.9083779073243115, 4.104566645746477, 0.976471274566264, 4.715078155905278]\n",
      "Max vif is for variable no:  15\n",
      "Iteration no:  33\n",
      "VIF is:  [271.64116682937424, 158.66570474693043, 4.635492270366824, 145.24067056270488, 1.207127354097368, 1.0729512358609494, 1.0555626023627003, 1.9213014897607767, 82.403011625099, 2.4733706148930414, 76.1964340994788, 220.4754541977041, 4.533117489254508, 132.46716702106858, 132.52878424634707, 1.0738581778728653, 1.0738850104102002, 1.3339949652433376, 1.0550271343164206, 0.9580005570718079, 1.225344529850443, 23.93853709426522, 1.6021666672905464, 1.8305977138984368, 2.3963767239554454, 13.947457142855555, 1.4508882477772034, 1.299826889004876, 1.134526789395684, 1.4740744920001358, 8.53993098381688, 2.350687040791756, 226.15230602025395, 1.1506322842365897, 20.52502554798144, 37.84126635644641, 4.953586885533778, 1.132737654547781, 1.0593803312865544, 28.455649790793462, 1.0600311166220588, 1.070586410531197, 1.0242929406265011, 1.3312188974397916, 3.583144207654022, 1.5081007807093951, 1.4310519689126247, 23.741543470525, 1.1400485568591252, 21.70631983993061, 1.2138331512375091, 7.6512460126638295, 3.414836606252788, 297.40252140857183, 172.11849676912883, 2.898718059875294, 1.0478696640221172, 1.907296861820422, 4.10456478888858, 0.9764146215332385, 4.71494879070205]\n",
      "Max vif is for variable no:  53\n",
      "Iteration no:  34\n",
      "VIF is:  [271.50416732758833, 158.1889462138092, 4.629624316137136, 144.82978141312046, 1.2067823381126068, 1.0725541819524977, 1.0549971149679007, 1.9212266711102342, 82.10806609456318, 2.4730279790086405, 76.14072321242372, 219.3853793258405, 4.5322694646315185, 132.46708830266203, 132.52769156537633, 1.058885968044404, 1.0738517658700892, 1.3339897909810516, 1.05501178525613, 0.9579984860847994, 1.2237690701860158, 23.920070973496387, 1.6021503873648086, 1.83055918768039, 2.3949818157318186, 13.930472548879235, 1.450723379159631, 1.2996462002719589, 1.1341608977892932, 1.4737215826005121, 8.537742968497174, 2.3438909614358265, 226.10246979825544, 1.1506239681389483, 20.49888022002943, 37.82397072785176, 4.157493126581172, 1.1327165962484738, 1.05937785533393, 28.4555680378141, 1.0597423712072052, 1.0705857229617697, 1.0242544452540687, 1.3312063382854313, 3.409177918151104, 1.507107872795987, 1.4309902990096608, 23.741173532559994, 1.1400051610837991, 21.640272886462586, 1.2138291782391157, 7.647697806273129, 3.4129303179897765, 163.81070045800215, 2.898644693517078, 1.047868347533162, 1.9063352114331882, 4.104483686655, 0.9763734479991437, 4.697194835704922]\n",
      "Max vif is for variable no:  0\n",
      "Iteration no:  35\n",
      "VIF is:  [157.6544485180769, 4.620125446300291, 144.40640712225792, 1.2027923104622718, 1.0696681238612367, 1.054929153928102, 1.8970134499928357, 78.74073150358471, 2.469892638911047, 75.5135218522064, 179.53163676863727, 4.5313415847301615, 132.4657887583695, 132.5276222655161, 1.0588568392737048, 1.071064604613005, 1.333499987330009, 1.054941607589583, 0.9573202237254805, 1.2235503677980881, 23.86607712422786, 1.59720606691186, 1.8298790852052036, 2.394754994140985, 13.10519273891622, 1.450593083180573, 1.2987803824504895, 1.1339304124073244, 1.4714741852668745, 8.32624878960253, 2.3394926238484137, 222.8620930391465, 1.1505718568695193, 20.464484408979615, 37.78026201376724, 4.155276877784958, 1.1323567102422407, 1.0592985697832908, 120.92661865360115, 1.0596611588970504, 1.0692016799112425, 1.0236239079725598, 1.3301721816858, 3.069706428427348, 1.5003049925999574, 1.4309882704909958, 23.702461219279158, 1.1399607772891223, 21.640278862841893, 1.2121300561142827, 7.647253813384663, 3.346127011751191, 143.85221456531508, 2.890945119376783, 1.0474233207314896, 1.8640170464433108, 4.104161756387693, 0.9761221305989122, 4.686322669865109]\n",
      "Max vif is for variable no:  31\n"
     ]
    },
    {
     "name": "stdout",
     "output_type": "stream",
     "text": [
      "Iteration no:  36\n",
      "VIF is:  [157.51763076970903, 4.617340256610766, 144.2509409311331, 1.1944661908941012, 1.0689428519983921, 1.054781537449082, 1.8968648566688415, 78.55552998641691, 2.4622855069190726, 73.28195813388972, 179.5221926994876, 4.530545654163513, 132.46547549895627, 132.52447222365993, 1.058304265046638, 1.0710082836580668, 1.3316949123190853, 1.054114894959665, 0.957286489288321, 1.2216089387518774, 23.85230308594004, 1.5448549689362454, 1.8292620557655892, 2.3865671049888086, 13.082044106447954, 1.450256358017648, 1.2978852544585062, 1.122000298258136, 1.4714730839187313, 8.301665275304646, 2.3394417449564124, 1.1476475318530264, 19.234431743969555, 35.55699640669539, 4.151231498030718, 1.131696003111854, 1.0582136637491852, 120.88584718997305, 1.0590143072635818, 1.068665476158828, 1.0234645238854658, 1.3163282659624354, 3.061415430461024, 1.499559328535354, 1.4306869758947638, 23.701513125962908, 1.1398448907101895, 21.639849445971205, 1.1991119802330976, 7.646772339091837, 3.3458432485166094, 143.76020605473025, 2.890699409320868, 1.0471949635070628, 1.8589725789179585, 4.104161618637363, 0.9761195256774516, 4.685864804424949]\n",
      "Max vif is for variable no:  10\n",
      "Iteration no:  37\n",
      "VIF is:  [156.83712946348484, 4.5935426147256795, 143.7232245135095, 1.1940626242207535, 1.0682430683917652, 1.0500719689132225, 1.891436173768957, 62.67767918391601, 2.4602415571663063, 33.40434182203586, 4.530270936872356, 132.4531490578311, 132.50116733200602, 1.0538111721761199, 1.0707024597049213, 1.3315872658029393, 1.054114664656742, 0.9572817839864061, 1.2215361958387945, 23.572145873082768, 1.5447002009493394, 1.8289188476820428, 2.3850125908824515, 13.048859808968968, 1.4483651895386798, 1.2978728223595029, 1.1218957550834276, 1.464219346741794, 8.291698878029333, 2.3312326587436565, 1.1475363233867302, 19.223924946328292, 35.37416113454723, 4.146895822923426, 1.1316646870679359, 1.058165560416462, 119.73844913493166, 1.0589767591805743, 1.0678088574856892, 1.0190139777074816, 1.3163196346179324, 3.0467556560566913, 1.4995262202265969, 1.4297005317118725, 23.66134878768634, 1.1398403763606721, 21.637437533188002, 1.1991070945147697, 7.596009666854036, 3.338791481702598, 143.73844887368722, 2.890664204827493, 1.0454206727815962, 1.8334986826571327, 4.104158987742733, 0.9761184911142644, 4.683315971991905]\n",
      "Max vif is for variable no:  0\n",
      "Iteration no:  38\n",
      "VIF is:  [4.566913268284076, 2.377039227968525, 1.193726360256479, 1.0680039800434413, 1.0257800865996596, 1.1196079172688895, 1.8721774786842484, 2.024873349942189, 2.045912555377252, 1.0199228031931646, 132.41775705453705, 132.50076061549004, 1.0533809823890041, 1.0702423008007105, 1.3222987512421434, 1.0528527830735428, 0.8977529268716441, 1.220226280473085, 23.543804382315248, 1.4073309722728449, 1.4680106302128026, 2.1765660104826465, 4.366544738290592, 1.4433119404343306, 1.2958484304056812, 1.1215117829292307, 1.2559888261105818, 3.797417966339651, 1.5853679066271333, 1.1458258310889196, 3.8959049780548343, 5.245736721121259, 2.3108889085730278, 1.1308156184383882, 1.0524561337237244, 28.16274734203736, 1.0456120034909744, 1.058080625208858, 1.009867808486977, 1.3156241934530368, 1.3928984787979062, 1.4991135771792206, 1.429671503102503, 18.96382106678476, 1.1397535094318967, 21.322389544744077, 1.1988675885079085, 7.595092369035824, 3.2705550338339324, 1.3828110454138152, 2.814463437322546, 1.0428586817872378, 1.4107564026752304, 1.0033841497016183, 0.9407662612274259, 2.4565541890815172]\n",
      "Max vif is for variable no:  11\n",
      "Iteration no:  39\n",
      "VIF is:  [4.5668790087547375, 9031.671773070055, 1.1930659215934152, 1.067929821933223, 1.0257795396390634, 1.1196077416629466, 1.8720420183623412, 2.0248677695991653, 2.0458320007494337, 1.0199195460850439, 0.9447327523917749, 1.0532775361891915, 1.0702410175913613, 1.3222812893641576, 1.0528462237020841, 0.897752802532363, 1.2202260521936055, 23.541783188499913, 1.4073235189141116, 1.4680060501604684, 2.176557866209839, 4.365776838858155, 1.4433118861227128, 1.2879011375841847, 1.1215028561475253, 1.2558855676010816, 3.7972336160672873, 1.5853130164202476, 1.1458249821041557, 3.8955086477144314, 5.245458194799894, 2.3107665991470516, 1.1308154620585253, 1.052450653030641, 28.161825230742572, 1.045600398386482, 1.058077221623917, 1.0098594134697225, 1.314015852731425, 1.3928008734298525, 1.499068584576602, 1.4296502095980972, 18.963819548252356, 1.9462253840555583, 21.322377756444332, 1.198867550955767, 7.594918284990078, 3.2705386009471957, 1.3821520626234967, 2.8143361443912647, 1.0428586815238372, 1.4107488137439592, 1.0033838028589834, 0.9407661563596518, 2.4565512686558106]\n",
      "Max vif is for variable no:  1\n",
      "Iteration no:  40\n",
      "VIF is:  [2.727308681462223, 1.1930498052512513, 1.0679099423503866, 1.0494544236988543, 1.8896198301509368, 62.45795181539756, 1.730516992401818, 33.18290680865481, 4.530034203947173, 0.9305548540689045, 1.052438458627599, 1.0704383478161437, 1.3208316308509571, 1.0489247539745432, 0.8898660151376842, 1.2192174686078527, 23.539787075766046, 1.5408418800289239, 1.8190902680146555, 2.160991771605419, 12.922937380639564, 1.3398031216737583, 1.2897858693901045, 1.1214759810371764, 1.463775959320779, 7.995747759390991, 1.2802915492723215, 1.1471662350744831, 19.181424036141536, 35.28346006533104, 4.143674454862144, 1.1309466469607137, 1.057929689062692, 119.67106325907449, 735.1962995182434, 1.0672844060450317, 1.0189588361511555, 1.3720792356527116, 3.0007999983387714, 1.499061413646282, 1.4296473938656342, 16.44982064207617, 1.1396503965460263, 13.138119630710412, 1.1986097920179488, 7.572211093681025, 3.262965246617323, 143.29253907149968, 5.73284026506712, 1.044446595875114, 1.3641246388743182, 4.104155523143155, 0.9359446015370427, 4.635317966014307]\n",
      "Max vif is for variable no:  34\n",
      "Iteration no:  41\n",
      "VIF is:  [2.7114649316253034, 1.1930472920925028, 1.0679029132735554, 1.0494207776181488, 1.8893427226351818, 62.457362931275256, 1.721848272156372, 33.17971904710642, 4.530030836314743, 0.9274706315555828, 1.052232189184288, 1.0704358484086167, 1.3204002364967538, 1.0489242209682281, 0.8862351564071383, 1.2191423628379188, 23.5280346827044, 1.5408406484352823, 1.8190830377299954, 2.1531265271766467, 12.90708350032289, 1.2567142071700046, 1.289475936564908, 1.1214704725203488, 1.4637568163690897, 7.978676741934537, 1.2806616973882043, 1.1471656486874027, 19.15827445160098, 35.27928306213109, 4.1430670050932985, 1.1309262817620922, 1.0577166522806767, 28.1421522291263, 1.0668752537710542, 1.0189586946885705, 1.313703529811141, 2.9996426580064446, 1.49888944976639, 1.4296039649421128, 16.422708163964504, 1.1396432554032703, 13.138103927078904, 1.1986081924305285, 7.570042964083314, 3.2576116021094546, 143.2902246304567, 5.72577174783109, 1.0436103532217473, 1.3453205533972872, 4.104140656322691, 0.9314706917441902, 4.63483206616454]\n",
      "Max vif is for variable no:  46\n",
      "Iteration no:  42\n",
      "VIF is:  [2.7089067158771294, 1.1927835303516032, 1.066958260705391, 1.0493908768939735, 1.8866485967697122, 62.023670294157235, 1.7202744805394015, 30.579688187517387, 4.523621147528637, 0.9274563321962904, 1.040921022551283, 1.0704279627292852, 1.3203957990562913, 1.0489223455001397, 0.8850663030965923, 1.2155298514522666, 23.51155081222132, 1.5386844033288172, 1.8189806790105032, 2.152968443152759, 12.899469867054862, 1.2567069310287304, 1.2891934662133473, 1.1214703693135333, 1.4637164501601438, 7.9783696493217, 1.2800107370438198, 1.1468628335889355, 19.152660352991205, 34.48906432858743, 3.9211002358904135, 1.1309103945655163, 1.057603149517424, 28.131670126182406, 1.0668707151373766, 1.0182966584168813, 1.3720685650416207, 2.962891566688913, 1.4964711639426798, 1.4295972161189465, 16.422127029285093, 1.139621119971333, 13.130361468490557, 1.1985410814081343, 7.557273627953502, 3.2531847881403007, 5.7255236777941825, 1.0410138813800125, 1.3391749895414284, 4.104137293518815, 0.930867846659258, 4.6138976133587875]\n",
      "Max vif is for variable no:  5\n",
      "Iteration no:  43\n",
      "VIF is:  [2.7086850114195076, 1.190802956469587, 1.0656473619229512, 1.0480552408224606, 1.8866027383278374, 1.7202034033382152, 20.549901864480066, 4.523609352056277, 0.9270684567586904, 1.0401420311010943, 1.070401841616121, 1.3197956076098545, 1.0488790399295018, 0.8849583506476524, 1.214959522825551, 23.471156144026686, 1.5361529534762743, 1.8182930087823808, 2.1507347779875694, 12.897611526077172, 1.2565530890348453, 1.2891731343313886, 1.11853957725752, 1.4557567461344212, 7.974618488960634, 1.2799690407407178, 1.1466446871497078, 19.14747341934144, 34.14079080877453, 3.9113814288367235, 1.1308642126840736, 1.057542539436741, 28.131447945464828, 1.0648280927795115, 1.0182913765984003, 1.3720493511115706, 2.8484657944173537, 1.4961404175886586, 1.4295465966994143, 16.419420252842087, 1.1388811937513552, 13.127162048579274, 1.1984770704608438, 7.554741317803126, 3.2531839426812055, 5.718425657160124, 1.0408103932334805, 1.3385348716902636, 4.102871119685195, 0.9308003871246262, 4.610149090393868]\n",
      "Max vif is for variable no:  28\n"
     ]
    },
    {
     "name": "stdout",
     "output_type": "stream",
     "text": [
      "Iteration no:  44\n",
      "VIF is:  [2.7018062833655216, 1.1893549002634158, 1.0512555757268143, 1.048019564739979, 1.8793049848012242, 1.7185425481053198, 20.49428013505024, 4.523547259402693, 0.9245495742434088, 1.0394434779272457, 1.0696949814857442, 1.2711611380550227, 1.043089969453312, 0.8847405049474265, 1.2118859042030068, 126.60945760057932, 1.5287330343544188, 1.8154737389934323, 1817.018871001827, 12.603782210161516, 1.2510996737384052, 1.2886049971225397, 1.0920437816009256, 1.226708916576458, 7.917943639857191, 1.2795749747723766, 1.1455746041815642, 14.87495006913575, 3.7896735124142844, 1.1021602756832547, 1.055219542815059, 118.57222637777504, 1.0647523838428041, 1.0175638711203125, 1.3704707627062964, 2.8445512817922682, 1.4640717666684513, 1.4275635182916848, 16.419391928451795, 1.1383326184961953, 13.088915244686932, 1.1982947406161635, 7.435353623335354, 3.2418684470344017, 4.672539536403728, 1.040809219388194, 1.3284496399449985, 4.102260778374135, 0.9304607125975972, 4.609688572342009]\n",
      "Max vif is for variable no:  18\n",
      "Iteration no:  45\n",
      "VIF is:  [2.6763633955479245, 1.188993371601601, 1.0498808483523647, 1.047823051003554, 1.879118874219272, 1.7168275497613288, 20.44896122324123, 4.522616608319868, 0.903925490222406, 1.0394405084734608, 1.066382486124775, 1.2634064600184485, 1.0429290491904586, 0.8576075407430095, 1.2118715751062121, 23.18113686738953, 1.5272491084475823, 1.6874638911161517, 12.49668873406859, 1.2428877730055599, 1.2885067505578558, 1.0913066061495398, 1.4273587432785209, 7.669761678094718, 1.2799328069449558, 1.14547486452181, 14.864823573900255, 3.7539025070271355, 1.1021491693996976, 1.0548917659195514, 26.852102062875417, 1.0647425478760333, 1.0175453980898768, 1.3699765657278018, 2.8428098445685825, 1.462433965131943, 1.4232996300310583, 16.40249103513897, 1.1382283585194368, 13.067509263462952, 1.1979175838527651, 7.43116447103273, 2.4791676602967754, 4.533020998938721, 1.0404649877761252, 1.328383826197121, 4.102021255882465, 0.9148363179145711, 4.60786579752809]\n",
      "Max vif is for variable no:  30\n",
      "Iteration no:  46\n",
      "VIF is:  [2.6760776995797135, 1.187120003970184, 1.0498608945322196, 1.0241487067513777, 1.111061402957842, 1.7152797369931132, 1.258586499447336, 1.0180497321001238, 0.9024336479417546, 1.038864894202239, 1.0475451674344614, 1.2631367493306203, 1.0411736313051236, 0.8573099632936462, 1.2095897602922934, 2.8852354428083697, 1.3903629126165593, 1.3315335792414138, 4.196460623708723, 1.2382449763915986, 1.2855267446489298, 1.0896018349756094, 1.42667706220032, 3.492806107449989, 1.2770648290811732, 1.1437726752406463, 3.0185907538354813, 2.078377789855851, 1.1010556089064867, 1.0493258265838195, 1.0549239131401054, 1.0083276516244921, 1.3106594898595654, 1.315697565059693, 1.7239689991903109, 1.4227677165695796, 16.387514999165486, 1.1381485599137249, 13.06375913761908, 1.1976134193167667, 1.5733701025800813, 2.0908648179124185, 4.529485813365276, 1.0378735782101465, 1.2739265652360166, 1.0028561875163446, 1671.4098763937513, 2.416234357681844]\n",
      "Max vif is for variable no:  46\n",
      "Iteration no:  47\n",
      "VIF is:  [2.6606511347720168, 1.1871010379164542, 1.0498076553210922, 1.0477258438044215, 1.8746900193947038, 1.7152728489477396, 20.438844890175464, 4.521950657922035, 0.88847052006068, 1.0388648840558885, 1.0476754022861696, 1.2625101132080911, 1.0423838544154274, 0.8502999274284173, 1.210419997176269, 15.598302974470236, 1.5256714580292614, 1.650809099739396, 4.193917975111018, 1.2379327387887291, 1.285506355300572, 1.089601803861496, 1.2238259827608722, 3.4864092945281078, 1.276561496371354, 1.1454424065810496, 14.864701560802027, 3.729017200340434, 1.1009555031262368, 1.0548897540365605, 1.0645552954484274, 1.017417193740621, 1.3688587623896376, 2.8327765704113492, 1.4606239119834832, 1.421796064417664, 16.379309809532145, 1.1379888096606323, 13.036114879932633, 1.1977888017899267, 1.5695969598378539, 2.0596980262044147, 2.2113170752227487, 1.0404118756121938, 1.2121459990480592, 4.100769618537959, 4.603064881248793]\n",
      "Max vif is for variable no:  6\n",
      "Iteration no:  48\n",
      "VIF is:  [2.660294583831872, 1.1867094050814861, 1.0473394551206034, 1.0476692118208843, 1.8395181488478427, 1.7152727285270468, 4.519353807700254, 0.8882576034045503, 1.036785841872109, 1.0476690625638436, 1.2618243725443856, 1.0418996118686221, 0.8497903485735611, 1.2103032257304893, 15.573454457272252, 1.5235937707250076, 1.6493763386542568, 4.068638269116331, 1.2378867852110116, 1.2854801474417006, 1.0895916091446591, 1.2237789648451225, 3.4774333850234367, 1.2765510321834115, 1.144491978808512, 3.018255628616364, 3.6409376209559254, 1.1003760187653058, 1.054779264526187, 1.0621210340369398, 1.0171097306796708, 1.368331840192823, 2.7994363593635114, 1.456360245007999, 1.4216605160851616, 16.379308420928634, 1.136971472312558, 13.033018095090831, 1.1976591415823337, 1.5693801530265177, 2.0548541922604597, 2.207720814780808, 1.0397814606702767, 1.1941762483437492, 4.1006989684401844, 4.5900906686300385]\n",
      "Max vif is for variable no:  35\n",
      "Iteration no:  49\n",
      "VIF is:  [2.2078830268690925, 1.6373468433626364, 1.6374610000315597, 1.0240310721615808, 1.0897160634088432, 1.3673080488330014, 1.017459842025203, 0.8879665169724729, 1.0366668195536126, 1.0474712750496773, 1.2615727200595717, 1.0394980023567206, 0.8489963998281953, 1.2093616235179083, 2.874141406222508, 1.3880816580734945, 1.3300283275830636, 4.0674789135610965, 1.1986575619241095, 1.2854774922855983, 1.0895169156382676, 1.2237194319745084, 3.477248104019852, 1.2669099273474622, 1.1427687679415643, 3.017330784276163, 2.025732611895047, 1.1002893112118175, 1.0492097598323389, 1.052284237015653, 1.0080079445713095, 1.3101112915061872, 1.2981836471132133, 1.4563198392003163, 1.4216405722934649, 1.136829608018071, 1.523135797242109, 1.1974784989234657, 1.5693622219741032, 2.0539641086004714, 2.203989985255595, 1.0367903395656355, 1.1908390893732448, 1.0025382902201099, 2.391749181864308]\n",
      "Max vif is for variable no:  17\n"
     ]
    },
    {
     "data": {
      "text/html": [
       "<div>\n",
       "<style scoped>\n",
       "    .dataframe tbody tr th:only-of-type {\n",
       "        vertical-align: middle;\n",
       "    }\n",
       "\n",
       "    .dataframe tbody tr th {\n",
       "        vertical-align: top;\n",
       "    }\n",
       "\n",
       "    .dataframe thead th {\n",
       "        text-align: right;\n",
       "    }\n",
       "</style>\n",
       "<table border=\"1\" class=\"dataframe\">\n",
       "  <thead>\n",
       "    <tr style=\"text-align: right;\">\n",
       "      <th></th>\n",
       "      <th>Non-industry income and expenditure/revenue</th>\n",
       "      <th>Operating Expense Rate</th>\n",
       "      <th>Research and development expense rate</th>\n",
       "      <th>Interest-bearing debt interest rate</th>\n",
       "      <th>Tax rate (A)</th>\n",
       "      <th>Revenue Per Share (Yuan ¥)</th>\n",
       "      <th>Realized Sales Gross Profit Growth Rate</th>\n",
       "      <th>After-tax Net Profit Growth Rate</th>\n",
       "      <th>Total Asset Growth Rate</th>\n",
       "      <th>Net Value Growth Rate</th>\n",
       "      <th>...</th>\n",
       "      <th>Cash Turnover Rate</th>\n",
       "      <th>Cash Flow to Sales</th>\n",
       "      <th>Fixed Assets to Assets</th>\n",
       "      <th>Current Liability to Liability</th>\n",
       "      <th>Equity to Long-term Liability</th>\n",
       "      <th>Current Liability to Current Assets</th>\n",
       "      <th>Total assets to GNP price</th>\n",
       "      <th>Net Income to Stockholder's Equity</th>\n",
       "      <th>Degree of Financial Leverage (DFL)</th>\n",
       "      <th>Equity to Liability</th>\n",
       "    </tr>\n",
       "  </thead>\n",
       "  <tbody>\n",
       "    <tr>\n",
       "      <th>0</th>\n",
       "      <td>0.302646</td>\n",
       "      <td>1.256969e-04</td>\n",
       "      <td>0.0</td>\n",
       "      <td>0.000725</td>\n",
       "      <td>0.0</td>\n",
       "      <td>0.017560</td>\n",
       "      <td>0.022102</td>\n",
       "      <td>0.688979</td>\n",
       "      <td>4.980000e+09</td>\n",
       "      <td>0.000327</td>\n",
       "      <td>...</td>\n",
       "      <td>4.580000e+08</td>\n",
       "      <td>0.671568</td>\n",
       "      <td>0.424206</td>\n",
       "      <td>0.676269</td>\n",
       "      <td>0.126549</td>\n",
       "      <td>0.118250</td>\n",
       "      <td>0.009219</td>\n",
       "      <td>0.827890</td>\n",
       "      <td>0.026601</td>\n",
       "      <td>0.016469</td>\n",
       "    </tr>\n",
       "    <tr>\n",
       "      <th>1</th>\n",
       "      <td>0.303556</td>\n",
       "      <td>2.897851e-04</td>\n",
       "      <td>0.0</td>\n",
       "      <td>0.000647</td>\n",
       "      <td>0.0</td>\n",
       "      <td>0.021144</td>\n",
       "      <td>0.022080</td>\n",
       "      <td>0.689693</td>\n",
       "      <td>6.110000e+09</td>\n",
       "      <td>0.000443</td>\n",
       "      <td>...</td>\n",
       "      <td>2.490000e+09</td>\n",
       "      <td>0.671570</td>\n",
       "      <td>0.468828</td>\n",
       "      <td>0.308589</td>\n",
       "      <td>0.120916</td>\n",
       "      <td>0.047775</td>\n",
       "      <td>0.008323</td>\n",
       "      <td>0.839969</td>\n",
       "      <td>0.264577</td>\n",
       "      <td>0.020794</td>\n",
       "    </tr>\n",
       "    <tr>\n",
       "      <th>2</th>\n",
       "      <td>0.302035</td>\n",
       "      <td>2.361297e-04</td>\n",
       "      <td>25500000.0</td>\n",
       "      <td>0.000790</td>\n",
       "      <td>0.0</td>\n",
       "      <td>0.005944</td>\n",
       "      <td>0.022760</td>\n",
       "      <td>0.689463</td>\n",
       "      <td>7.280000e+09</td>\n",
       "      <td>0.000396</td>\n",
       "      <td>...</td>\n",
       "      <td>7.610000e+08</td>\n",
       "      <td>0.671571</td>\n",
       "      <td>0.276179</td>\n",
       "      <td>0.446027</td>\n",
       "      <td>0.117922</td>\n",
       "      <td>0.025346</td>\n",
       "      <td>0.040003</td>\n",
       "      <td>0.836774</td>\n",
       "      <td>0.026555</td>\n",
       "      <td>0.016474</td>\n",
       "    </tr>\n",
       "    <tr>\n",
       "      <th>3</th>\n",
       "      <td>0.303350</td>\n",
       "      <td>1.078888e-04</td>\n",
       "      <td>0.0</td>\n",
       "      <td>0.000449</td>\n",
       "      <td>0.0</td>\n",
       "      <td>0.014368</td>\n",
       "      <td>0.022046</td>\n",
       "      <td>0.689110</td>\n",
       "      <td>4.880000e+09</td>\n",
       "      <td>0.000382</td>\n",
       "      <td>...</td>\n",
       "      <td>2.030000e+09</td>\n",
       "      <td>0.671519</td>\n",
       "      <td>0.559144</td>\n",
       "      <td>0.615848</td>\n",
       "      <td>0.120760</td>\n",
       "      <td>0.067250</td>\n",
       "      <td>0.003252</td>\n",
       "      <td>0.834697</td>\n",
       "      <td>0.026697</td>\n",
       "      <td>0.023982</td>\n",
       "    </tr>\n",
       "    <tr>\n",
       "      <th>4</th>\n",
       "      <td>0.303475</td>\n",
       "      <td>7.890000e+09</td>\n",
       "      <td>0.0</td>\n",
       "      <td>0.000686</td>\n",
       "      <td>0.0</td>\n",
       "      <td>0.029690</td>\n",
       "      <td>0.022096</td>\n",
       "      <td>0.689697</td>\n",
       "      <td>5.510000e+09</td>\n",
       "      <td>0.000439</td>\n",
       "      <td>...</td>\n",
       "      <td>8.240000e+08</td>\n",
       "      <td>0.671563</td>\n",
       "      <td>0.309555</td>\n",
       "      <td>0.975007</td>\n",
       "      <td>0.110933</td>\n",
       "      <td>0.047725</td>\n",
       "      <td>0.003878</td>\n",
       "      <td>0.839973</td>\n",
       "      <td>0.024752</td>\n",
       "      <td>0.035490</td>\n",
       "    </tr>\n",
       "  </tbody>\n",
       "</table>\n",
       "<p>5 rows × 45 columns</p>\n",
       "</div>"
      ],
      "text/plain": [
       "    Non-industry income and expenditure/revenue   Operating Expense Rate  \\\n",
       "0                                      0.302646             1.256969e-04   \n",
       "1                                      0.303556             2.897851e-04   \n",
       "2                                      0.302035             2.361297e-04   \n",
       "3                                      0.303350             1.078888e-04   \n",
       "4                                      0.303475             7.890000e+09   \n",
       "\n",
       "    Research and development expense rate  \\\n",
       "0                                     0.0   \n",
       "1                                     0.0   \n",
       "2                              25500000.0   \n",
       "3                                     0.0   \n",
       "4                                     0.0   \n",
       "\n",
       "    Interest-bearing debt interest rate   Tax rate (A)  \\\n",
       "0                              0.000725            0.0   \n",
       "1                              0.000647            0.0   \n",
       "2                              0.000790            0.0   \n",
       "3                              0.000449            0.0   \n",
       "4                              0.000686            0.0   \n",
       "\n",
       "    Revenue Per Share (Yuan ¥)   Realized Sales Gross Profit Growth Rate  \\\n",
       "0                     0.017560                                  0.022102   \n",
       "1                     0.021144                                  0.022080   \n",
       "2                     0.005944                                  0.022760   \n",
       "3                     0.014368                                  0.022046   \n",
       "4                     0.029690                                  0.022096   \n",
       "\n",
       "    After-tax Net Profit Growth Rate   Total Asset Growth Rate  \\\n",
       "0                           0.688979              4.980000e+09   \n",
       "1                           0.689693              6.110000e+09   \n",
       "2                           0.689463              7.280000e+09   \n",
       "3                           0.689110              4.880000e+09   \n",
       "4                           0.689697              5.510000e+09   \n",
       "\n",
       "    Net Value Growth Rate  ...   Cash Turnover Rate   Cash Flow to Sales  \\\n",
       "0                0.000327  ...         4.580000e+08             0.671568   \n",
       "1                0.000443  ...         2.490000e+09             0.671570   \n",
       "2                0.000396  ...         7.610000e+08             0.671571   \n",
       "3                0.000382  ...         2.030000e+09             0.671519   \n",
       "4                0.000439  ...         8.240000e+08             0.671563   \n",
       "\n",
       "    Fixed Assets to Assets   Current Liability to Liability  \\\n",
       "0                 0.424206                         0.676269   \n",
       "1                 0.468828                         0.308589   \n",
       "2                 0.276179                         0.446027   \n",
       "3                 0.559144                         0.615848   \n",
       "4                 0.309555                         0.975007   \n",
       "\n",
       "    Equity to Long-term Liability   Current Liability to Current Assets  \\\n",
       "0                        0.126549                              0.118250   \n",
       "1                        0.120916                              0.047775   \n",
       "2                        0.117922                              0.025346   \n",
       "3                        0.120760                              0.067250   \n",
       "4                        0.110933                              0.047725   \n",
       "\n",
       "    Total assets to GNP price   Net Income to Stockholder's Equity  \\\n",
       "0                    0.009219                             0.827890   \n",
       "1                    0.008323                             0.839969   \n",
       "2                    0.040003                             0.836774   \n",
       "3                    0.003252                             0.834697   \n",
       "4                    0.003878                             0.839973   \n",
       "\n",
       "    Degree of Financial Leverage (DFL)   Equity to Liability  \n",
       "0                             0.026601              0.016469  \n",
       "1                             0.264577              0.020794  \n",
       "2                             0.026555              0.016474  \n",
       "3                             0.026697              0.023982  \n",
       "4                             0.024752              0.035490  \n",
       "\n",
       "[5 rows x 45 columns]"
      ]
     },
     "execution_count": 38,
     "metadata": {},
     "output_type": "execute_result"
    }
   ],
   "source": [
    "selected_features = cal_vif(considered_features)\n",
    "selected_features.head()"
   ]
  },
  {
   "cell_type": "code",
   "execution_count": 39,
   "id": "2f591f6b",
   "metadata": {},
   "outputs": [],
   "source": [
    "def calc_vif(X):\n",
    "\n",
    "    # Calculating VIF\n",
    "    vif = pd.DataFrame()\n",
    "    vif[\"variables\"] = X.columns\n",
    "    vif[\"VIF\"] = [variance_inflation_factor(X.values, i) for i in range(X.shape[1])]\n",
    "\n",
    "    return(vif)"
   ]
  },
  {
   "cell_type": "code",
   "execution_count": 40,
   "id": "35ffd906",
   "metadata": {},
   "outputs": [
    {
     "data": {
      "text/plain": [
       "(47, 2)"
      ]
     },
     "execution_count": 40,
     "metadata": {},
     "output_type": "execute_result"
    }
   ],
   "source": [
    "sample_df = calc_vif(considered_features)\n",
    "sample_df[sample_df['VIF']<=5].shape"
   ]
  },
  {
   "cell_type": "code",
   "execution_count": 41,
   "id": "e99add8c",
   "metadata": {},
   "outputs": [],
   "source": [
    "target_df = df1['Bankrupt?']"
   ]
  },
  {
   "cell_type": "code",
   "execution_count": 42,
   "id": "b6c99d20",
   "metadata": {},
   "outputs": [],
   "source": [
    "main_df = pd.concat([selected_features,target_df],axis=1)"
   ]
  },
  {
   "cell_type": "code",
   "execution_count": 43,
   "id": "e6d07a05",
   "metadata": {},
   "outputs": [
    {
     "data": {
      "text/plain": [
       "(6819, 46)"
      ]
     },
     "execution_count": 43,
     "metadata": {},
     "output_type": "execute_result"
    }
   ],
   "source": [
    "main_df.shape"
   ]
  },
  {
   "cell_type": "code",
   "execution_count": 4,
   "id": "a451a26a",
   "metadata": {},
   "outputs": [],
   "source": [
    "main_df = pd.read_csv('final.csv')"
   ]
  },
  {
   "cell_type": "code",
   "execution_count": 5,
   "id": "290fba82",
   "metadata": {},
   "outputs": [],
   "source": [
    "x_main_df = main_df.drop('Bankrupt?', axis = 1)\n",
    "y_main_df = main_df['Bankrupt?']"
   ]
  },
  {
   "cell_type": "markdown",
   "id": "2b036387",
   "metadata": {},
   "source": [
    "### p-Values on VIF (Feature Selection)"
   ]
  },
  {
   "cell_type": "code",
   "execution_count": 6,
   "id": "6444697c",
   "metadata": {},
   "outputs": [],
   "source": [
    "from sklearn.model_selection import train_test_split"
   ]
  },
  {
   "cell_type": "code",
   "execution_count": 7,
   "id": "a9747e07",
   "metadata": {},
   "outputs": [],
   "source": [
    "x_train,x_test,y_train,y_test = train_test_split(x_main_df,y_main_df,test_size=0.2,random_state=25)"
   ]
  },
  {
   "cell_type": "code",
   "execution_count": 8,
   "id": "a174b8d0",
   "metadata": {},
   "outputs": [
    {
     "name": "stdout",
     "output_type": "stream",
     "text": [
      "(5455, 46)\n",
      "(5455,)\n",
      "(1364, 46)\n",
      "(1364,)\n"
     ]
    }
   ],
   "source": [
    "print(x_train.shape)\n",
    "print(y_train.shape)\n",
    "print(x_test.shape)\n",
    "print(y_test.shape)\n"
   ]
  },
  {
   "cell_type": "code",
   "execution_count": 9,
   "id": "4dfdbf39",
   "metadata": {},
   "outputs": [],
   "source": [
    "import statsmodels.api as sm"
   ]
  },
  {
   "cell_type": "code",
   "execution_count": 10,
   "id": "03ebdac3",
   "metadata": {},
   "outputs": [],
   "source": [
    "x_train_sm = sm.add_constant(x_train)"
   ]
  },
  {
   "cell_type": "code",
   "execution_count": 12,
   "id": "2aa8b81e",
   "metadata": {},
   "outputs": [],
   "source": [
    "lr = sm.OLS(y_train,x_train_sm).fit()"
   ]
  },
  {
   "cell_type": "code",
   "execution_count": 14,
   "id": "60a5ed3f",
   "metadata": {},
   "outputs": [
    {
     "name": "stdout",
     "output_type": "stream",
     "text": [
      "                            OLS Regression Results                            \n",
      "==============================================================================\n",
      "Dep. Variable:              Bankrupt?   R-squared:                       0.150\n",
      "Model:                            OLS   Adj. R-squared:                  0.142\n",
      "Method:                 Least Squares   F-statistic:                     20.67\n",
      "Date:                Sat, 25 Feb 2023   Prob (F-statistic):          1.42e-154\n",
      "Time:                        15:54:29   Log-Likelihood:                 2141.7\n",
      "No. Observations:                5455   AIC:                            -4189.\n",
      "Df Residuals:                    5408   BIC:                            -3879.\n",
      "Df Model:                          46                                         \n",
      "Covariance Type:            nonrobust                                         \n",
      "================================================================================================================\n",
      "                                                   coef    std err          t      P>|t|      [0.025      0.975]\n",
      "----------------------------------------------------------------------------------------------------------------\n",
      "const                                            1.1266      0.561      2.008      0.045       0.027       2.226\n",
      "Unnamed: 0                                    -4.19e-06   1.24e-06     -3.391      0.001   -6.61e-06   -1.77e-06\n",
      " Non-industry income and expenditure/revenue     0.4949      0.419      1.182      0.237      -0.326       1.315\n",
      " Operating Expense Rate                       1.288e-12   7.48e-13      1.723      0.085   -1.77e-13    2.75e-12\n",
      " Research and development expense rate        1.812e-12   8.86e-13      2.046      0.041    7.55e-14    3.55e-12\n",
      " Interest-bearing debt interest rate         -1.528e-12   2.05e-11     -0.075      0.941   -4.17e-11    3.86e-11\n",
      " Tax rate (A)                                   -0.0577      0.017     -3.405      0.001      -0.091      -0.024\n",
      " Revenue Per Share (Yuan ¥)                  -1.113e-10   4.59e-11     -2.426      0.015   -2.01e-10   -2.14e-11\n",
      " Realized Sales Gross Profit Growth Rate         1.2935      1.087      1.190      0.234      -0.838       3.425\n",
      " After-tax Net Profit Growth Rate               -0.0130      0.150     -0.086      0.931      -0.307       0.281\n",
      " Total Asset Growth Rate                     -1.688e-12   7.78e-13     -2.172      0.030   -3.21e-12   -1.64e-13\n",
      " Net Value Growth Rate                        7.284e-11   1.79e-11      4.073      0.000    3.78e-11    1.08e-10\n",
      " Current Ratio                               -9.911e-11   6.99e-11     -1.417      0.156   -2.36e-10     3.8e-11\n",
      " Quick Ratio                                  1.025e-11    9.7e-12      1.057      0.290   -8.76e-12    2.93e-11\n",
      " Interest Expense Ratio                         -0.0685      0.179     -0.383      0.702      -0.420       0.283\n",
      " Total debt/Total net worth                  -7.671e-13   1.46e-11     -0.053      0.958   -2.93e-11    2.78e-11\n",
      " Debt ratio %                                    0.9350      0.068     13.730      0.000       0.801       1.069\n",
      " Long-term fund suitability ratio (A)            0.0227      0.088      0.259      0.796      -0.149       0.194\n",
      " Contingent liabilities/Net worth                0.2482      0.189      1.311      0.190      -0.123       0.619\n",
      " Total Asset Turnover                           -0.1810      0.044     -4.154      0.000      -0.266      -0.096\n",
      " Accounts Receivable Turnover                -1.304e-11   8.16e-12     -1.598      0.110    -2.9e-11    2.96e-12\n",
      " Average Collection Days                     -1.825e-11   1.17e-11     -1.554      0.120   -4.13e-11    4.78e-12\n",
      " Inventory Turnover Rate (times)             -9.093e-13    7.2e-13     -1.263      0.207   -2.32e-12    5.02e-13\n",
      " Fixed Assets Turnover Frequency              2.784e-12   9.98e-13      2.790      0.005    8.28e-13    4.74e-12\n",
      " Net Worth Turnover Rate (times)                -0.2119      0.108     -1.966      0.049      -0.423      -0.001\n",
      " Revenue per person                           5.525e-11   1.73e-11      3.202      0.001    2.14e-11    8.91e-11\n",
      " Allocation rate per person                  -7.365e-13   9.43e-12     -0.078      0.938   -1.92e-11    1.78e-11\n",
      " Quick Assets/Total Assets                       0.0037      0.019      0.190      0.849      -0.034       0.041\n",
      " Cash/Total Assets                              -0.0379      0.023     -1.660      0.097      -0.083       0.007\n",
      " Quick Assets/Current Liability              -2.433e-11   1.23e-11     -1.982      0.047   -4.84e-11    -2.7e-13\n",
      " Cash/Current Liability                       1.191e-11    4.7e-12      2.536      0.011     2.7e-12    2.11e-11\n",
      " Inventory/Current Liability                 -3.746e-12   3.81e-12     -0.984      0.325   -1.12e-11    3.72e-12\n",
      " Long-term Liability to Current Assets        8.233e-13   4.72e-12      0.174      0.861   -8.43e-12    1.01e-11\n",
      " Total income/Total expense                      0.0802      0.204      0.393      0.694      -0.319       0.480\n",
      " Total expense/Assets                            0.9241      0.093      9.901      0.000       0.741       1.107\n",
      " Current Asset Turnover Rate                  1.108e-12   9.51e-13      1.166      0.244   -7.55e-13    2.97e-12\n",
      " Quick Asset Turnover Rate                   -7.681e-14   7.93e-13     -0.097      0.923   -1.63e-12    1.48e-12\n",
      " Cash Turnover Rate                          -2.427e-12   8.08e-13     -3.002      0.003   -4.01e-12   -8.42e-13\n",
      " Cash Flow to Sales                             -0.7524      0.892     -0.844      0.399      -2.500       0.996\n",
      " Fixed Assets to Assets                       9.828e-11   2.17e-11      4.527      0.000    5.57e-11    1.41e-10\n",
      " Current Liability to Liability                  0.0336      0.014      2.473      0.013       0.007       0.060\n",
      " Equity to Long-term Liability                   0.2091      0.179      1.169      0.242      -0.141       0.560\n",
      " Current Liability to Current Assets             0.3223      0.114      2.826      0.005       0.099       0.546\n",
      " Total assets to GNP price                    2.006e-12   6.42e-12      0.313      0.755   -1.06e-11    1.46e-11\n",
      " Net Income to Stockholder's Equity             -1.0266      0.235     -4.362      0.000      -1.488      -0.565\n",
      " Degree of Financial Leverage (DFL)              0.0328      0.128      0.257      0.797      -0.218       0.283\n",
      " Equity to Liability                             0.3511      0.067      5.275      0.000       0.221       0.482\n",
      "==============================================================================\n",
      "Omnibus:                     4790.032   Durbin-Watson:                   2.010\n",
      "Prob(Omnibus):                  0.000   Jarque-Bera (JB):           124353.312\n",
      "Skew:                           4.299   Prob(JB):                         0.00\n",
      "Kurtosis:                      24.753   Cond. No.                     4.05e+12\n",
      "==============================================================================\n",
      "\n",
      "Notes:\n",
      "[1] Standard Errors assume that the covariance matrix of the errors is correctly specified.\n",
      "[2] The condition number is large, 4.05e+12. This might indicate that there are\n",
      "strong multicollinearity or other numerical problems.\n"
     ]
    }
   ],
   "source": [
    "print(lr.summary())"
   ]
  },
  {
   "cell_type": "code",
   "execution_count": 19,
   "id": "d4310065",
   "metadata": {},
   "outputs": [
    {
     "data": {
      "text/plain": [
       "const                                           4.466540e-02\n",
       "Unnamed: 0                                      7.004813e-04\n",
       " Non-industry income and expenditure/revenue    2.371442e-01\n",
       " Operating Expense Rate                         8.493633e-02\n",
       " Research and development expense rate          4.084076e-02\n",
       " Interest-bearing debt interest rate            9.405352e-01\n",
       " Tax rate (A)                                   6.672743e-04\n",
       " Revenue Per Share (Yuan ¥)                     1.530397e-02\n",
       " Realized Sales Gross Profit Growth Rate        2.341677e-01\n",
       " After-tax Net Profit Growth Rate               9.311282e-01\n",
       " Total Asset Growth Rate                        2.993370e-02\n",
       " Net Value Growth Rate                          4.705360e-05\n",
       " Current Ratio                                  1.564234e-01\n",
       " Quick Ratio                                    2.904332e-01\n",
       " Interest Expense Ratio                         7.018968e-01\n",
       " Total debt/Total net worth                     9.579660e-01\n",
       " Debt ratio %                                   3.421618e-42\n",
       " Long-term fund suitability ratio (A)           7.957824e-01\n",
       " Contingent liabilities/Net worth               1.898738e-01\n",
       " Total Asset Turnover                           3.315763e-05\n",
       " Accounts Receivable Turnover                   1.101761e-01\n",
       " Average Collection Days                        1.202949e-01\n",
       " Inventory Turnover Rate (times)                2.067522e-01\n",
       " Fixed Assets Turnover Frequency                5.285655e-03\n",
       " Net Worth Turnover Rate (times)                4.936317e-02\n",
       " Revenue per person                             1.374286e-03\n",
       " Allocation rate per person                     9.377661e-01\n",
       " Quick Assets/Total Assets                      8.493783e-01\n",
       " Cash/Total Assets                              9.697624e-02\n",
       " Quick Assets/Current Liability                 4.748570e-02\n",
       " Cash/Current Liability                         1.122858e-02\n",
       " Inventory/Current Liability                    3.253327e-01\n",
       " Long-term Liability to Current Assets          8.614910e-01\n",
       " Total income/Total expense                     6.941578e-01\n",
       " Total expense/Assets                           6.472648e-23\n",
       " Current Asset Turnover Rate                    2.437239e-01\n",
       " Quick Asset Turnover Rate                      9.228339e-01\n",
       " Cash Turnover Rate                             2.691596e-03\n",
       " Cash Flow to Sales                             3.988011e-01\n",
       " Fixed Assets to Assets                         6.117200e-06\n",
       " Current Liability to Liability                 1.343342e-02\n",
       " Equity to Long-term Liability                  2.422871e-01\n",
       " Current Liability to Current Assets            4.731817e-03\n",
       " Total assets to GNP price                      7.546639e-01\n",
       " Net Income to Stockholder's Equity             1.314998e-05\n",
       " Degree of Financial Leverage (DFL)             7.974436e-01\n",
       " Equity to Liability                            1.379522e-07\n",
       "dtype: float64"
      ]
     },
     "execution_count": 19,
     "metadata": {},
     "output_type": "execute_result"
    }
   ],
   "source": [
    "lr.pvalues"
   ]
  },
  {
   "cell_type": "code",
   "execution_count": 20,
   "id": "dfe30205",
   "metadata": {},
   "outputs": [],
   "source": [
    "p_value_df = pd.DataFrame(lr.pvalues,columns=[\"P_Values\"])"
   ]
  },
  {
   "cell_type": "code",
   "execution_count": 40,
   "id": "816362bb",
   "metadata": {},
   "outputs": [],
   "source": [
    "p_df = p_value_df[p_value_df['P_Values']<0.05]"
   ]
  },
  {
   "cell_type": "code",
   "execution_count": 42,
   "id": "acfcc09b",
   "metadata": {},
   "outputs": [
    {
     "data": {
      "text/plain": [
       "Index(['const', 'Unnamed: 0', ' Research and development expense rate',\n",
       "       ' Tax rate (A)', ' Revenue Per Share (Yuan ¥)',\n",
       "       ' Total Asset Growth Rate', ' Net Value Growth Rate', ' Debt ratio %',\n",
       "       ' Total Asset Turnover', ' Fixed Assets Turnover Frequency',\n",
       "       ' Net Worth Turnover Rate (times)', ' Revenue per person',\n",
       "       ' Quick Assets/Current Liability', ' Cash/Current Liability',\n",
       "       ' Total expense/Assets', ' Cash Turnover Rate',\n",
       "       ' Fixed Assets to Assets', ' Current Liability to Liability',\n",
       "       ' Current Liability to Current Assets',\n",
       "       ' Net Income to Stockholder's Equity', ' Equity to Liability'],\n",
       "      dtype='object')"
      ]
     },
     "execution_count": 42,
     "metadata": {},
     "output_type": "execute_result"
    }
   ],
   "source": [
    "p_df.index"
   ]
  },
  {
   "cell_type": "code",
   "execution_count": 46,
   "id": "0e36ee61",
   "metadata": {},
   "outputs": [],
   "source": [
    "final_df1 = main_df.loc[:,[' Research and development expense rate',\n",
    "       ' Tax rate (A)', ' Revenue Per Share (Yuan ¥)',\n",
    "       ' Total Asset Growth Rate', ' Net Value Growth Rate', ' Debt ratio %',\n",
    "       ' Total Asset Turnover', ' Fixed Assets Turnover Frequency',\n",
    "       ' Net Worth Turnover Rate (times)', ' Revenue per person',\n",
    "       ' Quick Assets/Current Liability', ' Cash/Current Liability',\n",
    "       ' Total expense/Assets', ' Cash Turnover Rate',\n",
    "       ' Fixed Assets to Assets', ' Current Liability to Liability',\n",
    "       ' Current Liability to Current Assets',\n",
    "       \" Net Income to Stockholder's Equity\", ' Equity to Liability']]"
   ]
  },
  {
   "cell_type": "code",
   "execution_count": 47,
   "id": "3a0c389d",
   "metadata": {},
   "outputs": [
    {
     "data": {
      "text/html": [
       "<div>\n",
       "<style scoped>\n",
       "    .dataframe tbody tr th:only-of-type {\n",
       "        vertical-align: middle;\n",
       "    }\n",
       "\n",
       "    .dataframe tbody tr th {\n",
       "        vertical-align: top;\n",
       "    }\n",
       "\n",
       "    .dataframe thead th {\n",
       "        text-align: right;\n",
       "    }\n",
       "</style>\n",
       "<table border=\"1\" class=\"dataframe\">\n",
       "  <thead>\n",
       "    <tr style=\"text-align: right;\">\n",
       "      <th></th>\n",
       "      <th>Research and development expense rate</th>\n",
       "      <th>Tax rate (A)</th>\n",
       "      <th>Revenue Per Share (Yuan ¥)</th>\n",
       "      <th>Total Asset Growth Rate</th>\n",
       "      <th>Net Value Growth Rate</th>\n",
       "      <th>Debt ratio %</th>\n",
       "      <th>Total Asset Turnover</th>\n",
       "      <th>Fixed Assets Turnover Frequency</th>\n",
       "      <th>Net Worth Turnover Rate (times)</th>\n",
       "      <th>Revenue per person</th>\n",
       "      <th>Quick Assets/Current Liability</th>\n",
       "      <th>Cash/Current Liability</th>\n",
       "      <th>Total expense/Assets</th>\n",
       "      <th>Cash Turnover Rate</th>\n",
       "      <th>Fixed Assets to Assets</th>\n",
       "      <th>Current Liability to Liability</th>\n",
       "      <th>Current Liability to Current Assets</th>\n",
       "      <th>Net Income to Stockholder's Equity</th>\n",
       "      <th>Equity to Liability</th>\n",
       "    </tr>\n",
       "  </thead>\n",
       "  <tbody>\n",
       "    <tr>\n",
       "      <th>0</th>\n",
       "      <td>0.000000e+00</td>\n",
       "      <td>0.000000</td>\n",
       "      <td>0.017560</td>\n",
       "      <td>4.980000e+09</td>\n",
       "      <td>0.000327</td>\n",
       "      <td>0.207576</td>\n",
       "      <td>0.086957</td>\n",
       "      <td>1.165007e-04</td>\n",
       "      <td>0.032903</td>\n",
       "      <td>0.034164</td>\n",
       "      <td>0.001997</td>\n",
       "      <td>1.473360e-04</td>\n",
       "      <td>0.064856</td>\n",
       "      <td>4.580000e+08</td>\n",
       "      <td>0.424206</td>\n",
       "      <td>0.676269</td>\n",
       "      <td>0.118250</td>\n",
       "      <td>0.827890</td>\n",
       "      <td>0.016469</td>\n",
       "    </tr>\n",
       "    <tr>\n",
       "      <th>1</th>\n",
       "      <td>0.000000e+00</td>\n",
       "      <td>0.000000</td>\n",
       "      <td>0.021144</td>\n",
       "      <td>6.110000e+09</td>\n",
       "      <td>0.000443</td>\n",
       "      <td>0.171176</td>\n",
       "      <td>0.064468</td>\n",
       "      <td>7.190000e+08</td>\n",
       "      <td>0.025484</td>\n",
       "      <td>0.006889</td>\n",
       "      <td>0.004136</td>\n",
       "      <td>1.383910e-03</td>\n",
       "      <td>0.025516</td>\n",
       "      <td>2.490000e+09</td>\n",
       "      <td>0.468828</td>\n",
       "      <td>0.308589</td>\n",
       "      <td>0.047775</td>\n",
       "      <td>0.839969</td>\n",
       "      <td>0.020794</td>\n",
       "    </tr>\n",
       "    <tr>\n",
       "      <th>2</th>\n",
       "      <td>2.550000e+07</td>\n",
       "      <td>0.000000</td>\n",
       "      <td>0.005944</td>\n",
       "      <td>7.280000e+09</td>\n",
       "      <td>0.000396</td>\n",
       "      <td>0.207516</td>\n",
       "      <td>0.014993</td>\n",
       "      <td>2.650000e+09</td>\n",
       "      <td>0.013387</td>\n",
       "      <td>0.028997</td>\n",
       "      <td>0.006302</td>\n",
       "      <td>5.340000e+09</td>\n",
       "      <td>0.021387</td>\n",
       "      <td>7.610000e+08</td>\n",
       "      <td>0.276179</td>\n",
       "      <td>0.446027</td>\n",
       "      <td>0.025346</td>\n",
       "      <td>0.836774</td>\n",
       "      <td>0.016474</td>\n",
       "    </tr>\n",
       "    <tr>\n",
       "      <th>3</th>\n",
       "      <td>0.000000e+00</td>\n",
       "      <td>0.000000</td>\n",
       "      <td>0.014368</td>\n",
       "      <td>4.880000e+09</td>\n",
       "      <td>0.000382</td>\n",
       "      <td>0.151465</td>\n",
       "      <td>0.089955</td>\n",
       "      <td>9.150000e+09</td>\n",
       "      <td>0.028065</td>\n",
       "      <td>0.015463</td>\n",
       "      <td>0.002961</td>\n",
       "      <td>1.010646e-03</td>\n",
       "      <td>0.024161</td>\n",
       "      <td>2.030000e+09</td>\n",
       "      <td>0.559144</td>\n",
       "      <td>0.615848</td>\n",
       "      <td>0.067250</td>\n",
       "      <td>0.834697</td>\n",
       "      <td>0.023982</td>\n",
       "    </tr>\n",
       "    <tr>\n",
       "      <th>4</th>\n",
       "      <td>0.000000e+00</td>\n",
       "      <td>0.000000</td>\n",
       "      <td>0.029690</td>\n",
       "      <td>5.510000e+09</td>\n",
       "      <td>0.000439</td>\n",
       "      <td>0.106509</td>\n",
       "      <td>0.175412</td>\n",
       "      <td>2.935211e-04</td>\n",
       "      <td>0.040161</td>\n",
       "      <td>0.058111</td>\n",
       "      <td>0.004275</td>\n",
       "      <td>6.804636e-04</td>\n",
       "      <td>0.026385</td>\n",
       "      <td>8.240000e+08</td>\n",
       "      <td>0.309555</td>\n",
       "      <td>0.975007</td>\n",
       "      <td>0.047725</td>\n",
       "      <td>0.839973</td>\n",
       "      <td>0.035490</td>\n",
       "    </tr>\n",
       "    <tr>\n",
       "      <th>...</th>\n",
       "      <td>...</td>\n",
       "      <td>...</td>\n",
       "      <td>...</td>\n",
       "      <td>...</td>\n",
       "      <td>...</td>\n",
       "      <td>...</td>\n",
       "      <td>...</td>\n",
       "      <td>...</td>\n",
       "      <td>...</td>\n",
       "      <td>...</td>\n",
       "      <td>...</td>\n",
       "      <td>...</td>\n",
       "      <td>...</td>\n",
       "      <td>...</td>\n",
       "      <td>...</td>\n",
       "      <td>...</td>\n",
       "      <td>...</td>\n",
       "      <td>...</td>\n",
       "      <td>...</td>\n",
       "    </tr>\n",
       "    <tr>\n",
       "      <th>6814</th>\n",
       "      <td>4.500000e+09</td>\n",
       "      <td>0.113372</td>\n",
       "      <td>0.020766</td>\n",
       "      <td>7.070000e+09</td>\n",
       "      <td>0.000450</td>\n",
       "      <td>0.124618</td>\n",
       "      <td>0.103448</td>\n",
       "      <td>1.429781e-04</td>\n",
       "      <td>0.027903</td>\n",
       "      <td>0.006348</td>\n",
       "      <td>0.005469</td>\n",
       "      <td>5.071548e-03</td>\n",
       "      <td>0.019060</td>\n",
       "      <td>1.077940e-04</td>\n",
       "      <td>0.400338</td>\n",
       "      <td>0.786888</td>\n",
       "      <td>0.027951</td>\n",
       "      <td>0.840359</td>\n",
       "      <td>0.029890</td>\n",
       "    </tr>\n",
       "    <tr>\n",
       "      <th>6815</th>\n",
       "      <td>1.440000e+09</td>\n",
       "      <td>0.371596</td>\n",
       "      <td>0.023050</td>\n",
       "      <td>5.220000e+09</td>\n",
       "      <td>0.000445</td>\n",
       "      <td>0.099253</td>\n",
       "      <td>0.103448</td>\n",
       "      <td>6.051982e-04</td>\n",
       "      <td>0.027419</td>\n",
       "      <td>0.016083</td>\n",
       "      <td>0.006790</td>\n",
       "      <td>4.727181e-03</td>\n",
       "      <td>0.011118</td>\n",
       "      <td>7.710000e+09</td>\n",
       "      <td>0.096136</td>\n",
       "      <td>0.849898</td>\n",
       "      <td>0.031470</td>\n",
       "      <td>0.840306</td>\n",
       "      <td>0.038284</td>\n",
       "    </tr>\n",
       "    <tr>\n",
       "      <th>6816</th>\n",
       "      <td>1.039086e-04</td>\n",
       "      <td>0.490839</td>\n",
       "      <td>0.044255</td>\n",
       "      <td>5.990000e+09</td>\n",
       "      <td>0.000435</td>\n",
       "      <td>0.038939</td>\n",
       "      <td>0.106447</td>\n",
       "      <td>1.024298e-03</td>\n",
       "      <td>0.022419</td>\n",
       "      <td>0.022097</td>\n",
       "      <td>0.035531</td>\n",
       "      <td>8.821248e-02</td>\n",
       "      <td>0.035446</td>\n",
       "      <td>4.074263e-04</td>\n",
       "      <td>0.055509</td>\n",
       "      <td>0.553964</td>\n",
       "      <td>0.007542</td>\n",
       "      <td>0.840138</td>\n",
       "      <td>0.097649</td>\n",
       "    </tr>\n",
       "    <tr>\n",
       "      <th>6817</th>\n",
       "      <td>2.510000e+09</td>\n",
       "      <td>0.181294</td>\n",
       "      <td>0.031535</td>\n",
       "      <td>7.250000e+09</td>\n",
       "      <td>0.000529</td>\n",
       "      <td>0.086979</td>\n",
       "      <td>0.109445</td>\n",
       "      <td>2.330013e-04</td>\n",
       "      <td>0.027258</td>\n",
       "      <td>0.012749</td>\n",
       "      <td>0.007753</td>\n",
       "      <td>7.133218e-03</td>\n",
       "      <td>0.016443</td>\n",
       "      <td>1.165392e-04</td>\n",
       "      <td>0.246805</td>\n",
       "      <td>0.893241</td>\n",
       "      <td>0.022916</td>\n",
       "      <td>0.841084</td>\n",
       "      <td>0.044009</td>\n",
       "    </tr>\n",
       "    <tr>\n",
       "      <th>6818</th>\n",
       "      <td>0.000000e+00</td>\n",
       "      <td>0.000000</td>\n",
       "      <td>0.000665</td>\n",
       "      <td>9.350000e+09</td>\n",
       "      <td>0.000519</td>\n",
       "      <td>0.014149</td>\n",
       "      <td>0.002999</td>\n",
       "      <td>2.995731e-04</td>\n",
       "      <td>0.009194</td>\n",
       "      <td>0.002097</td>\n",
       "      <td>0.051481</td>\n",
       "      <td>6.667354e-02</td>\n",
       "      <td>0.006089</td>\n",
       "      <td>9.505992e-03</td>\n",
       "      <td>0.005016</td>\n",
       "      <td>1.000000</td>\n",
       "      <td>0.005579</td>\n",
       "      <td>0.841019</td>\n",
       "      <td>0.233902</td>\n",
       "    </tr>\n",
       "  </tbody>\n",
       "</table>\n",
       "<p>6819 rows × 19 columns</p>\n",
       "</div>"
      ],
      "text/plain": [
       "       Research and development expense rate   Tax rate (A)  \\\n",
       "0                               0.000000e+00       0.000000   \n",
       "1                               0.000000e+00       0.000000   \n",
       "2                               2.550000e+07       0.000000   \n",
       "3                               0.000000e+00       0.000000   \n",
       "4                               0.000000e+00       0.000000   \n",
       "...                                      ...            ...   \n",
       "6814                            4.500000e+09       0.113372   \n",
       "6815                            1.440000e+09       0.371596   \n",
       "6816                            1.039086e-04       0.490839   \n",
       "6817                            2.510000e+09       0.181294   \n",
       "6818                            0.000000e+00       0.000000   \n",
       "\n",
       "       Revenue Per Share (Yuan ¥)   Total Asset Growth Rate  \\\n",
       "0                        0.017560              4.980000e+09   \n",
       "1                        0.021144              6.110000e+09   \n",
       "2                        0.005944              7.280000e+09   \n",
       "3                        0.014368              4.880000e+09   \n",
       "4                        0.029690              5.510000e+09   \n",
       "...                           ...                       ...   \n",
       "6814                     0.020766              7.070000e+09   \n",
       "6815                     0.023050              5.220000e+09   \n",
       "6816                     0.044255              5.990000e+09   \n",
       "6817                     0.031535              7.250000e+09   \n",
       "6818                     0.000665              9.350000e+09   \n",
       "\n",
       "       Net Value Growth Rate   Debt ratio %   Total Asset Turnover  \\\n",
       "0                   0.000327       0.207576               0.086957   \n",
       "1                   0.000443       0.171176               0.064468   \n",
       "2                   0.000396       0.207516               0.014993   \n",
       "3                   0.000382       0.151465               0.089955   \n",
       "4                   0.000439       0.106509               0.175412   \n",
       "...                      ...            ...                    ...   \n",
       "6814                0.000450       0.124618               0.103448   \n",
       "6815                0.000445       0.099253               0.103448   \n",
       "6816                0.000435       0.038939               0.106447   \n",
       "6817                0.000529       0.086979               0.109445   \n",
       "6818                0.000519       0.014149               0.002999   \n",
       "\n",
       "       Fixed Assets Turnover Frequency   Net Worth Turnover Rate (times)  \\\n",
       "0                         1.165007e-04                          0.032903   \n",
       "1                         7.190000e+08                          0.025484   \n",
       "2                         2.650000e+09                          0.013387   \n",
       "3                         9.150000e+09                          0.028065   \n",
       "4                         2.935211e-04                          0.040161   \n",
       "...                                ...                               ...   \n",
       "6814                      1.429781e-04                          0.027903   \n",
       "6815                      6.051982e-04                          0.027419   \n",
       "6816                      1.024298e-03                          0.022419   \n",
       "6817                      2.330013e-04                          0.027258   \n",
       "6818                      2.995731e-04                          0.009194   \n",
       "\n",
       "       Revenue per person   Quick Assets/Current Liability  \\\n",
       "0                0.034164                         0.001997   \n",
       "1                0.006889                         0.004136   \n",
       "2                0.028997                         0.006302   \n",
       "3                0.015463                         0.002961   \n",
       "4                0.058111                         0.004275   \n",
       "...                   ...                              ...   \n",
       "6814             0.006348                         0.005469   \n",
       "6815             0.016083                         0.006790   \n",
       "6816             0.022097                         0.035531   \n",
       "6817             0.012749                         0.007753   \n",
       "6818             0.002097                         0.051481   \n",
       "\n",
       "       Cash/Current Liability   Total expense/Assets   Cash Turnover Rate  \\\n",
       "0                1.473360e-04               0.064856         4.580000e+08   \n",
       "1                1.383910e-03               0.025516         2.490000e+09   \n",
       "2                5.340000e+09               0.021387         7.610000e+08   \n",
       "3                1.010646e-03               0.024161         2.030000e+09   \n",
       "4                6.804636e-04               0.026385         8.240000e+08   \n",
       "...                       ...                    ...                  ...   \n",
       "6814             5.071548e-03               0.019060         1.077940e-04   \n",
       "6815             4.727181e-03               0.011118         7.710000e+09   \n",
       "6816             8.821248e-02               0.035446         4.074263e-04   \n",
       "6817             7.133218e-03               0.016443         1.165392e-04   \n",
       "6818             6.667354e-02               0.006089         9.505992e-03   \n",
       "\n",
       "       Fixed Assets to Assets   Current Liability to Liability  \\\n",
       "0                    0.424206                         0.676269   \n",
       "1                    0.468828                         0.308589   \n",
       "2                    0.276179                         0.446027   \n",
       "3                    0.559144                         0.615848   \n",
       "4                    0.309555                         0.975007   \n",
       "...                       ...                              ...   \n",
       "6814                 0.400338                         0.786888   \n",
       "6815                 0.096136                         0.849898   \n",
       "6816                 0.055509                         0.553964   \n",
       "6817                 0.246805                         0.893241   \n",
       "6818                 0.005016                         1.000000   \n",
       "\n",
       "       Current Liability to Current Assets  \\\n",
       "0                                 0.118250   \n",
       "1                                 0.047775   \n",
       "2                                 0.025346   \n",
       "3                                 0.067250   \n",
       "4                                 0.047725   \n",
       "...                                    ...   \n",
       "6814                              0.027951   \n",
       "6815                              0.031470   \n",
       "6816                              0.007542   \n",
       "6817                              0.022916   \n",
       "6818                              0.005579   \n",
       "\n",
       "       Net Income to Stockholder's Equity   Equity to Liability  \n",
       "0                                0.827890              0.016469  \n",
       "1                                0.839969              0.020794  \n",
       "2                                0.836774              0.016474  \n",
       "3                                0.834697              0.023982  \n",
       "4                                0.839973              0.035490  \n",
       "...                                   ...                   ...  \n",
       "6814                             0.840359              0.029890  \n",
       "6815                             0.840306              0.038284  \n",
       "6816                             0.840138              0.097649  \n",
       "6817                             0.841084              0.044009  \n",
       "6818                             0.841019              0.233902  \n",
       "\n",
       "[6819 rows x 19 columns]"
      ]
     },
     "execution_count": 47,
     "metadata": {},
     "output_type": "execute_result"
    }
   ],
   "source": [
    "final_df1"
   ]
  },
  {
   "cell_type": "code",
   "execution_count": 48,
   "id": "a466fd41",
   "metadata": {},
   "outputs": [],
   "source": [
    "target_df = main_df['Bankrupt?']"
   ]
  },
  {
   "cell_type": "code",
   "execution_count": 51,
   "id": "73ccdb54",
   "metadata": {},
   "outputs": [],
   "source": [
    "final_df = pd.concat([final_df1,target_df],axis=1)"
   ]
  },
  {
   "cell_type": "code",
   "execution_count": 52,
   "id": "fa3957ba",
   "metadata": {},
   "outputs": [
    {
     "data": {
      "text/html": [
       "<div>\n",
       "<style scoped>\n",
       "    .dataframe tbody tr th:only-of-type {\n",
       "        vertical-align: middle;\n",
       "    }\n",
       "\n",
       "    .dataframe tbody tr th {\n",
       "        vertical-align: top;\n",
       "    }\n",
       "\n",
       "    .dataframe thead th {\n",
       "        text-align: right;\n",
       "    }\n",
       "</style>\n",
       "<table border=\"1\" class=\"dataframe\">\n",
       "  <thead>\n",
       "    <tr style=\"text-align: right;\">\n",
       "      <th></th>\n",
       "      <th>Research and development expense rate</th>\n",
       "      <th>Tax rate (A)</th>\n",
       "      <th>Revenue Per Share (Yuan ¥)</th>\n",
       "      <th>Total Asset Growth Rate</th>\n",
       "      <th>Net Value Growth Rate</th>\n",
       "      <th>Debt ratio %</th>\n",
       "      <th>Total Asset Turnover</th>\n",
       "      <th>Fixed Assets Turnover Frequency</th>\n",
       "      <th>Net Worth Turnover Rate (times)</th>\n",
       "      <th>Revenue per person</th>\n",
       "      <th>Quick Assets/Current Liability</th>\n",
       "      <th>Cash/Current Liability</th>\n",
       "      <th>Total expense/Assets</th>\n",
       "      <th>Cash Turnover Rate</th>\n",
       "      <th>Fixed Assets to Assets</th>\n",
       "      <th>Current Liability to Liability</th>\n",
       "      <th>Current Liability to Current Assets</th>\n",
       "      <th>Net Income to Stockholder's Equity</th>\n",
       "      <th>Equity to Liability</th>\n",
       "      <th>Bankrupt?</th>\n",
       "    </tr>\n",
       "  </thead>\n",
       "  <tbody>\n",
       "    <tr>\n",
       "      <th>0</th>\n",
       "      <td>0.000000e+00</td>\n",
       "      <td>0.000000</td>\n",
       "      <td>0.017560</td>\n",
       "      <td>4.980000e+09</td>\n",
       "      <td>0.000327</td>\n",
       "      <td>0.207576</td>\n",
       "      <td>0.086957</td>\n",
       "      <td>1.165007e-04</td>\n",
       "      <td>0.032903</td>\n",
       "      <td>0.034164</td>\n",
       "      <td>0.001997</td>\n",
       "      <td>1.473360e-04</td>\n",
       "      <td>0.064856</td>\n",
       "      <td>4.580000e+08</td>\n",
       "      <td>0.424206</td>\n",
       "      <td>0.676269</td>\n",
       "      <td>0.118250</td>\n",
       "      <td>0.827890</td>\n",
       "      <td>0.016469</td>\n",
       "      <td>1</td>\n",
       "    </tr>\n",
       "    <tr>\n",
       "      <th>1</th>\n",
       "      <td>0.000000e+00</td>\n",
       "      <td>0.000000</td>\n",
       "      <td>0.021144</td>\n",
       "      <td>6.110000e+09</td>\n",
       "      <td>0.000443</td>\n",
       "      <td>0.171176</td>\n",
       "      <td>0.064468</td>\n",
       "      <td>7.190000e+08</td>\n",
       "      <td>0.025484</td>\n",
       "      <td>0.006889</td>\n",
       "      <td>0.004136</td>\n",
       "      <td>1.383910e-03</td>\n",
       "      <td>0.025516</td>\n",
       "      <td>2.490000e+09</td>\n",
       "      <td>0.468828</td>\n",
       "      <td>0.308589</td>\n",
       "      <td>0.047775</td>\n",
       "      <td>0.839969</td>\n",
       "      <td>0.020794</td>\n",
       "      <td>1</td>\n",
       "    </tr>\n",
       "    <tr>\n",
       "      <th>2</th>\n",
       "      <td>2.550000e+07</td>\n",
       "      <td>0.000000</td>\n",
       "      <td>0.005944</td>\n",
       "      <td>7.280000e+09</td>\n",
       "      <td>0.000396</td>\n",
       "      <td>0.207516</td>\n",
       "      <td>0.014993</td>\n",
       "      <td>2.650000e+09</td>\n",
       "      <td>0.013387</td>\n",
       "      <td>0.028997</td>\n",
       "      <td>0.006302</td>\n",
       "      <td>5.340000e+09</td>\n",
       "      <td>0.021387</td>\n",
       "      <td>7.610000e+08</td>\n",
       "      <td>0.276179</td>\n",
       "      <td>0.446027</td>\n",
       "      <td>0.025346</td>\n",
       "      <td>0.836774</td>\n",
       "      <td>0.016474</td>\n",
       "      <td>1</td>\n",
       "    </tr>\n",
       "    <tr>\n",
       "      <th>3</th>\n",
       "      <td>0.000000e+00</td>\n",
       "      <td>0.000000</td>\n",
       "      <td>0.014368</td>\n",
       "      <td>4.880000e+09</td>\n",
       "      <td>0.000382</td>\n",
       "      <td>0.151465</td>\n",
       "      <td>0.089955</td>\n",
       "      <td>9.150000e+09</td>\n",
       "      <td>0.028065</td>\n",
       "      <td>0.015463</td>\n",
       "      <td>0.002961</td>\n",
       "      <td>1.010646e-03</td>\n",
       "      <td>0.024161</td>\n",
       "      <td>2.030000e+09</td>\n",
       "      <td>0.559144</td>\n",
       "      <td>0.615848</td>\n",
       "      <td>0.067250</td>\n",
       "      <td>0.834697</td>\n",
       "      <td>0.023982</td>\n",
       "      <td>1</td>\n",
       "    </tr>\n",
       "    <tr>\n",
       "      <th>4</th>\n",
       "      <td>0.000000e+00</td>\n",
       "      <td>0.000000</td>\n",
       "      <td>0.029690</td>\n",
       "      <td>5.510000e+09</td>\n",
       "      <td>0.000439</td>\n",
       "      <td>0.106509</td>\n",
       "      <td>0.175412</td>\n",
       "      <td>2.935211e-04</td>\n",
       "      <td>0.040161</td>\n",
       "      <td>0.058111</td>\n",
       "      <td>0.004275</td>\n",
       "      <td>6.804636e-04</td>\n",
       "      <td>0.026385</td>\n",
       "      <td>8.240000e+08</td>\n",
       "      <td>0.309555</td>\n",
       "      <td>0.975007</td>\n",
       "      <td>0.047725</td>\n",
       "      <td>0.839973</td>\n",
       "      <td>0.035490</td>\n",
       "      <td>1</td>\n",
       "    </tr>\n",
       "    <tr>\n",
       "      <th>...</th>\n",
       "      <td>...</td>\n",
       "      <td>...</td>\n",
       "      <td>...</td>\n",
       "      <td>...</td>\n",
       "      <td>...</td>\n",
       "      <td>...</td>\n",
       "      <td>...</td>\n",
       "      <td>...</td>\n",
       "      <td>...</td>\n",
       "      <td>...</td>\n",
       "      <td>...</td>\n",
       "      <td>...</td>\n",
       "      <td>...</td>\n",
       "      <td>...</td>\n",
       "      <td>...</td>\n",
       "      <td>...</td>\n",
       "      <td>...</td>\n",
       "      <td>...</td>\n",
       "      <td>...</td>\n",
       "      <td>...</td>\n",
       "    </tr>\n",
       "    <tr>\n",
       "      <th>6814</th>\n",
       "      <td>4.500000e+09</td>\n",
       "      <td>0.113372</td>\n",
       "      <td>0.020766</td>\n",
       "      <td>7.070000e+09</td>\n",
       "      <td>0.000450</td>\n",
       "      <td>0.124618</td>\n",
       "      <td>0.103448</td>\n",
       "      <td>1.429781e-04</td>\n",
       "      <td>0.027903</td>\n",
       "      <td>0.006348</td>\n",
       "      <td>0.005469</td>\n",
       "      <td>5.071548e-03</td>\n",
       "      <td>0.019060</td>\n",
       "      <td>1.077940e-04</td>\n",
       "      <td>0.400338</td>\n",
       "      <td>0.786888</td>\n",
       "      <td>0.027951</td>\n",
       "      <td>0.840359</td>\n",
       "      <td>0.029890</td>\n",
       "      <td>0</td>\n",
       "    </tr>\n",
       "    <tr>\n",
       "      <th>6815</th>\n",
       "      <td>1.440000e+09</td>\n",
       "      <td>0.371596</td>\n",
       "      <td>0.023050</td>\n",
       "      <td>5.220000e+09</td>\n",
       "      <td>0.000445</td>\n",
       "      <td>0.099253</td>\n",
       "      <td>0.103448</td>\n",
       "      <td>6.051982e-04</td>\n",
       "      <td>0.027419</td>\n",
       "      <td>0.016083</td>\n",
       "      <td>0.006790</td>\n",
       "      <td>4.727181e-03</td>\n",
       "      <td>0.011118</td>\n",
       "      <td>7.710000e+09</td>\n",
       "      <td>0.096136</td>\n",
       "      <td>0.849898</td>\n",
       "      <td>0.031470</td>\n",
       "      <td>0.840306</td>\n",
       "      <td>0.038284</td>\n",
       "      <td>0</td>\n",
       "    </tr>\n",
       "    <tr>\n",
       "      <th>6816</th>\n",
       "      <td>1.039086e-04</td>\n",
       "      <td>0.490839</td>\n",
       "      <td>0.044255</td>\n",
       "      <td>5.990000e+09</td>\n",
       "      <td>0.000435</td>\n",
       "      <td>0.038939</td>\n",
       "      <td>0.106447</td>\n",
       "      <td>1.024298e-03</td>\n",
       "      <td>0.022419</td>\n",
       "      <td>0.022097</td>\n",
       "      <td>0.035531</td>\n",
       "      <td>8.821248e-02</td>\n",
       "      <td>0.035446</td>\n",
       "      <td>4.074263e-04</td>\n",
       "      <td>0.055509</td>\n",
       "      <td>0.553964</td>\n",
       "      <td>0.007542</td>\n",
       "      <td>0.840138</td>\n",
       "      <td>0.097649</td>\n",
       "      <td>0</td>\n",
       "    </tr>\n",
       "    <tr>\n",
       "      <th>6817</th>\n",
       "      <td>2.510000e+09</td>\n",
       "      <td>0.181294</td>\n",
       "      <td>0.031535</td>\n",
       "      <td>7.250000e+09</td>\n",
       "      <td>0.000529</td>\n",
       "      <td>0.086979</td>\n",
       "      <td>0.109445</td>\n",
       "      <td>2.330013e-04</td>\n",
       "      <td>0.027258</td>\n",
       "      <td>0.012749</td>\n",
       "      <td>0.007753</td>\n",
       "      <td>7.133218e-03</td>\n",
       "      <td>0.016443</td>\n",
       "      <td>1.165392e-04</td>\n",
       "      <td>0.246805</td>\n",
       "      <td>0.893241</td>\n",
       "      <td>0.022916</td>\n",
       "      <td>0.841084</td>\n",
       "      <td>0.044009</td>\n",
       "      <td>0</td>\n",
       "    </tr>\n",
       "    <tr>\n",
       "      <th>6818</th>\n",
       "      <td>0.000000e+00</td>\n",
       "      <td>0.000000</td>\n",
       "      <td>0.000665</td>\n",
       "      <td>9.350000e+09</td>\n",
       "      <td>0.000519</td>\n",
       "      <td>0.014149</td>\n",
       "      <td>0.002999</td>\n",
       "      <td>2.995731e-04</td>\n",
       "      <td>0.009194</td>\n",
       "      <td>0.002097</td>\n",
       "      <td>0.051481</td>\n",
       "      <td>6.667354e-02</td>\n",
       "      <td>0.006089</td>\n",
       "      <td>9.505992e-03</td>\n",
       "      <td>0.005016</td>\n",
       "      <td>1.000000</td>\n",
       "      <td>0.005579</td>\n",
       "      <td>0.841019</td>\n",
       "      <td>0.233902</td>\n",
       "      <td>0</td>\n",
       "    </tr>\n",
       "  </tbody>\n",
       "</table>\n",
       "<p>6819 rows × 20 columns</p>\n",
       "</div>"
      ],
      "text/plain": [
       "       Research and development expense rate   Tax rate (A)  \\\n",
       "0                               0.000000e+00       0.000000   \n",
       "1                               0.000000e+00       0.000000   \n",
       "2                               2.550000e+07       0.000000   \n",
       "3                               0.000000e+00       0.000000   \n",
       "4                               0.000000e+00       0.000000   \n",
       "...                                      ...            ...   \n",
       "6814                            4.500000e+09       0.113372   \n",
       "6815                            1.440000e+09       0.371596   \n",
       "6816                            1.039086e-04       0.490839   \n",
       "6817                            2.510000e+09       0.181294   \n",
       "6818                            0.000000e+00       0.000000   \n",
       "\n",
       "       Revenue Per Share (Yuan ¥)   Total Asset Growth Rate  \\\n",
       "0                        0.017560              4.980000e+09   \n",
       "1                        0.021144              6.110000e+09   \n",
       "2                        0.005944              7.280000e+09   \n",
       "3                        0.014368              4.880000e+09   \n",
       "4                        0.029690              5.510000e+09   \n",
       "...                           ...                       ...   \n",
       "6814                     0.020766              7.070000e+09   \n",
       "6815                     0.023050              5.220000e+09   \n",
       "6816                     0.044255              5.990000e+09   \n",
       "6817                     0.031535              7.250000e+09   \n",
       "6818                     0.000665              9.350000e+09   \n",
       "\n",
       "       Net Value Growth Rate   Debt ratio %   Total Asset Turnover  \\\n",
       "0                   0.000327       0.207576               0.086957   \n",
       "1                   0.000443       0.171176               0.064468   \n",
       "2                   0.000396       0.207516               0.014993   \n",
       "3                   0.000382       0.151465               0.089955   \n",
       "4                   0.000439       0.106509               0.175412   \n",
       "...                      ...            ...                    ...   \n",
       "6814                0.000450       0.124618               0.103448   \n",
       "6815                0.000445       0.099253               0.103448   \n",
       "6816                0.000435       0.038939               0.106447   \n",
       "6817                0.000529       0.086979               0.109445   \n",
       "6818                0.000519       0.014149               0.002999   \n",
       "\n",
       "       Fixed Assets Turnover Frequency   Net Worth Turnover Rate (times)  \\\n",
       "0                         1.165007e-04                          0.032903   \n",
       "1                         7.190000e+08                          0.025484   \n",
       "2                         2.650000e+09                          0.013387   \n",
       "3                         9.150000e+09                          0.028065   \n",
       "4                         2.935211e-04                          0.040161   \n",
       "...                                ...                               ...   \n",
       "6814                      1.429781e-04                          0.027903   \n",
       "6815                      6.051982e-04                          0.027419   \n",
       "6816                      1.024298e-03                          0.022419   \n",
       "6817                      2.330013e-04                          0.027258   \n",
       "6818                      2.995731e-04                          0.009194   \n",
       "\n",
       "       Revenue per person   Quick Assets/Current Liability  \\\n",
       "0                0.034164                         0.001997   \n",
       "1                0.006889                         0.004136   \n",
       "2                0.028997                         0.006302   \n",
       "3                0.015463                         0.002961   \n",
       "4                0.058111                         0.004275   \n",
       "...                   ...                              ...   \n",
       "6814             0.006348                         0.005469   \n",
       "6815             0.016083                         0.006790   \n",
       "6816             0.022097                         0.035531   \n",
       "6817             0.012749                         0.007753   \n",
       "6818             0.002097                         0.051481   \n",
       "\n",
       "       Cash/Current Liability   Total expense/Assets   Cash Turnover Rate  \\\n",
       "0                1.473360e-04               0.064856         4.580000e+08   \n",
       "1                1.383910e-03               0.025516         2.490000e+09   \n",
       "2                5.340000e+09               0.021387         7.610000e+08   \n",
       "3                1.010646e-03               0.024161         2.030000e+09   \n",
       "4                6.804636e-04               0.026385         8.240000e+08   \n",
       "...                       ...                    ...                  ...   \n",
       "6814             5.071548e-03               0.019060         1.077940e-04   \n",
       "6815             4.727181e-03               0.011118         7.710000e+09   \n",
       "6816             8.821248e-02               0.035446         4.074263e-04   \n",
       "6817             7.133218e-03               0.016443         1.165392e-04   \n",
       "6818             6.667354e-02               0.006089         9.505992e-03   \n",
       "\n",
       "       Fixed Assets to Assets   Current Liability to Liability  \\\n",
       "0                    0.424206                         0.676269   \n",
       "1                    0.468828                         0.308589   \n",
       "2                    0.276179                         0.446027   \n",
       "3                    0.559144                         0.615848   \n",
       "4                    0.309555                         0.975007   \n",
       "...                       ...                              ...   \n",
       "6814                 0.400338                         0.786888   \n",
       "6815                 0.096136                         0.849898   \n",
       "6816                 0.055509                         0.553964   \n",
       "6817                 0.246805                         0.893241   \n",
       "6818                 0.005016                         1.000000   \n",
       "\n",
       "       Current Liability to Current Assets  \\\n",
       "0                                 0.118250   \n",
       "1                                 0.047775   \n",
       "2                                 0.025346   \n",
       "3                                 0.067250   \n",
       "4                                 0.047725   \n",
       "...                                    ...   \n",
       "6814                              0.027951   \n",
       "6815                              0.031470   \n",
       "6816                              0.007542   \n",
       "6817                              0.022916   \n",
       "6818                              0.005579   \n",
       "\n",
       "       Net Income to Stockholder's Equity   Equity to Liability  Bankrupt?  \n",
       "0                                0.827890              0.016469          1  \n",
       "1                                0.839969              0.020794          1  \n",
       "2                                0.836774              0.016474          1  \n",
       "3                                0.834697              0.023982          1  \n",
       "4                                0.839973              0.035490          1  \n",
       "...                                   ...                   ...        ...  \n",
       "6814                             0.840359              0.029890          0  \n",
       "6815                             0.840306              0.038284          0  \n",
       "6816                             0.840138              0.097649          0  \n",
       "6817                             0.841084              0.044009          0  \n",
       "6818                             0.841019              0.233902          0  \n",
       "\n",
       "[6819 rows x 20 columns]"
      ]
     },
     "execution_count": 52,
     "metadata": {},
     "output_type": "execute_result"
    }
   ],
   "source": [
    "final_df"
   ]
  },
  {
   "cell_type": "markdown",
   "id": "253e5c8b",
   "metadata": {},
   "source": [
    "## Outliers Detection"
   ]
  },
  {
   "cell_type": "code",
   "execution_count": 53,
   "id": "f819532b",
   "metadata": {},
   "outputs": [
    {
     "name": "stderr",
     "output_type": "stream",
     "text": [
      "/home/shreyas/anaconda3/lib/python3.9/site-packages/seaborn/_decorators.py:36: FutureWarning: Pass the following variable as a keyword arg: x. From version 0.12, the only valid positional argument will be `data`, and passing other arguments without an explicit keyword will result in an error or misinterpretation.\n",
      "  warnings.warn(\n"
     ]
    },
    {
     "data": {
      "text/plain": [
       "<AxesSubplot:xlabel=' Tax rate (A)'>"
      ]
     },
     "execution_count": 53,
     "metadata": {},
     "output_type": "execute_result"
    },
    {
     "data": {
      "image/png": "[encoded data removed]",
      "text/plain": [
       "<Figure size 432x288 with 1 Axes>"
      ]
     },
     "metadata": {
      "needs_background": "light"
     },
     "output_type": "display_data"
    }
   ],
   "source": [
    "sns.boxplot(final_df[' Tax rate (A)'])"
   ]
  },
  {
   "cell_type": "code",
   "execution_count": 64,
   "id": "7de6e51d",
   "metadata": {},
   "outputs": [],
   "source": [
    "def outlier_detection(df):\n",
    "    for i in df.columns:\n",
    "        if i =='Bankrupt?':\n",
    "            break\n",
    "        else:\n",
    "            sns.boxplot(df[i])\n",
    "            plt.show()"
   ]
  },
  {
   "cell_type": "code",
   "execution_count": 65,
   "id": "0f71d51c",
   "metadata": {},
   "outputs": [
    {
     "name": "stderr",
     "output_type": "stream",
     "text": [
      "/home/shreyas/anaconda3/lib/python3.9/site-packages/seaborn/_decorators.py:36: FutureWarning: Pass the following variable as a keyword arg: x. From version 0.12, the only valid positional argument will be `data`, and passing other arguments without an explicit keyword will result in an error or misinterpretation.\n",
      "  warnings.warn(\n"
     ]
    },
    {
     "data": {
      "image/png": "[encoded data removed]",
      "text/plain": [
       "<Figure size 432x288 with 1 Axes>"
      ]
     },
     "metadata": {
      "needs_background": "light"
     },
     "output_type": "display_data"
    },
    {
     "name": "stderr",
     "output_type": "stream",
     "text": [
      "/home/shreyas/anaconda3/lib/python3.9/site-packages/seaborn/_decorators.py:36: FutureWarning: Pass the following variable as a keyword arg: x. From version 0.12, the only valid positional argument will be `data`, and passing other arguments without an explicit keyword will result in an error or misinterpretation.\n",
      "  warnings.warn(\n"
     ]
    },
    {
     "data": {
      "image/png": "[encoded data removed]",
      "text/plain": [
       "<Figure size 432x288 with 1 Axes>"
      ]
     },
     "metadata": {
      "needs_background": "light"
     },
     "output_type": "display_data"
    },
    {
     "name": "stderr",
     "output_type": "stream",
     "text": [
      "/home/shreyas/anaconda3/lib/python3.9/site-packages/seaborn/_decorators.py:36: FutureWarning: Pass the following variable as a keyword arg: x. From version 0.12, the only valid positional argument will be `data`, and passing other arguments without an explicit keyword will result in an error or misinterpretation.\n",
      "  warnings.warn(\n"
     ]
    },
    {
     "data": {
      "image/png": "[encoded data removed]",
      "text/plain": [
       "<Figure size 432x288 with 1 Axes>"
      ]
     },
     "metadata": {
      "needs_background": "light"
     },
     "output_type": "display_data"
    },
    {
     "name": "stderr",
     "output_type": "stream",
     "text": [
      "/home/shreyas/anaconda3/lib/python3.9/site-packages/seaborn/_decorators.py:36: FutureWarning: Pass the following variable as a keyword arg: x. From version 0.12, the only valid positional argument will be `data`, and passing other arguments without an explicit keyword will result in an error or misinterpretation.\n",
      "  warnings.warn(\n"
     ]
    },
    {
     "data": {
      "image/png": "[encoded data removed]",
      "text/plain": [
       "<Figure size 432x288 with 1 Axes>"
      ]
     },
     "metadata": {
      "needs_background": "light"
     },
     "output_type": "display_data"
    },
    {
     "name": "stderr",
     "output_type": "stream",
     "text": [
      "/home/shreyas/anaconda3/lib/python3.9/site-packages/seaborn/_decorators.py:36: FutureWarning: Pass the following variable as a keyword arg: x. From version 0.12, the only valid positional argument will be `data`, and passing other arguments without an explicit keyword will result in an error or misinterpretation.\n",
      "  warnings.warn(\n"
     ]
    },
    {
     "data": {
      "image/png": "[encoded data removed]",
      "text/plain": [
       "<Figure size 432x288 with 1 Axes>"
      ]
     },
     "metadata": {
      "needs_background": "light"
     },
     "output_type": "display_data"
    },
    {
     "name": "stderr",
     "output_type": "stream",
     "text": [
      "/home/shreyas/anaconda3/lib/python3.9/site-packages/seaborn/_decorators.py:36: FutureWarning: Pass the following variable as a keyword arg: x. From version 0.12, the only valid positional argument will be `data`, and passing other arguments without an explicit keyword will result in an error or misinterpretation.\n",
      "  warnings.warn(\n"
     ]
    },
    {
     "data": {
      "image/png": "[encoded data removed]",
      "text/plain": [
       "<Figure size 432x288 with 1 Axes>"
      ]
     },
     "metadata": {
      "needs_background": "light"
     },
     "output_type": "display_data"
    },
    {
     "name": "stderr",
     "output_type": "stream",
     "text": [
      "/home/shreyas/anaconda3/lib/python3.9/site-packages/seaborn/_decorators.py:36: FutureWarning: Pass the following variable as a keyword arg: x. From version 0.12, the only valid positional argument will be `data`, and passing other arguments without an explicit keyword will result in an error or misinterpretation.\n",
      "  warnings.warn(\n"
     ]
    },
    {
     "data": {
      "image/png": "[encoded data removed]",
      "text/plain": [
       "<Figure size 432x288 with 1 Axes>"
      ]
     },
     "metadata": {
      "needs_background": "light"
     },
     "output_type": "display_data"
    },
    {
     "name": "stderr",
     "output_type": "stream",
     "text": [
      "/home/shreyas/anaconda3/lib/python3.9/site-packages/seaborn/_decorators.py:36: FutureWarning: Pass the following variable as a keyword arg: x. From version 0.12, the only valid positional argument will be `data`, and passing other arguments without an explicit keyword will result in an error or misinterpretation.\n",
      "  warnings.warn(\n"
     ]
    },
    {
     "data": {
      "image/png": "[encoded data removed]",
      "text/plain": [
       "<Figure size 432x288 with 1 Axes>"
      ]
     },
     "metadata": {
      "needs_background": "light"
     },
     "output_type": "display_data"
    },
    {
     "name": "stderr",
     "output_type": "stream",
     "text": [
      "/home/shreyas/anaconda3/lib/python3.9/site-packages/seaborn/_decorators.py:36: FutureWarning: Pass the following variable as a keyword arg: x. From version 0.12, the only valid positional argument will be `data`, and passing other arguments without an explicit keyword will result in an error or misinterpretation.\n",
      "  warnings.warn(\n"
     ]
    },
    {
     "data": {
      "image/png": "[encoded data removed]",
      "text/plain": [
       "<Figure size 432x288 with 1 Axes>"
      ]
     },
     "metadata": {
      "needs_background": "light"
     },
     "output_type": "display_data"
    },
    {
     "name": "stderr",
     "output_type": "stream",
     "text": [
      "/home/shreyas/anaconda3/lib/python3.9/site-packages/seaborn/_decorators.py:36: FutureWarning: Pass the following variable as a keyword arg: x. From version 0.12, the only valid positional argument will be `data`, and passing other arguments without an explicit keyword will result in an error or misinterpretation.\n",
      "  warnings.warn(\n"
     ]
    },
    {
     "data": {
      "image/png": "[encoded data removed]",
      "text/plain": [
       "<Figure size 432x288 with 1 Axes>"
      ]
     },
     "metadata": {
      "needs_background": "light"
     },
     "output_type": "display_data"
    },
    {
     "name": "stderr",
     "output_type": "stream",
     "text": [
      "/home/shreyas/anaconda3/lib/python3.9/site-packages/seaborn/_decorators.py:36: FutureWarning: Pass the following variable as a keyword arg: x. From version 0.12, the only valid positional argument will be `data`, and passing other arguments without an explicit keyword will result in an error or misinterpretation.\n",
      "  warnings.warn(\n"
     ]
    },
    {
     "data": {
      "image/png": "[encoded data removed]",
      "text/plain": [
       "<Figure size 432x288 with 1 Axes>"
      ]
     },
     "metadata": {
      "needs_background": "light"
     },
     "output_type": "display_data"
    },
    {
     "name": "stderr",
     "output_type": "stream",
     "text": [
      "/home/shreyas/anaconda3/lib/python3.9/site-packages/seaborn/_decorators.py:36: FutureWarning: Pass the following variable as a keyword arg: x. From version 0.12, the only valid positional argument will be `data`, and passing other arguments without an explicit keyword will result in an error or misinterpretation.\n",
      "  warnings.warn(\n"
     ]
    },
    {
     "data": {
      "image/png": "[encoded data removed]",
      "text/plain": [
       "<Figure size 432x288 with 1 Axes>"
      ]
     },
     "metadata": {
      "needs_background": "light"
     },
     "output_type": "display_data"
    },
    {
     "name": "stderr",
     "output_type": "stream",
     "text": [
      "/home/shreyas/anaconda3/lib/python3.9/site-packages/seaborn/_decorators.py:36: FutureWarning: Pass the following variable as a keyword arg: x. From version 0.12, the only valid positional argument will be `data`, and passing other arguments without an explicit keyword will result in an error or misinterpretation.\n",
      "  warnings.warn(\n"
     ]
    },
    {
     "data": {
      "image/png": "[encoded data removed]",
      "text/plain": [
       "<Figure size 432x288 with 1 Axes>"
      ]
     },
     "metadata": {
      "needs_background": "light"
     },
     "output_type": "display_data"
    },
    {
     "name": "stderr",
     "output_type": "stream",
     "text": [
      "/home/shreyas/anaconda3/lib/python3.9/site-packages/seaborn/_decorators.py:36: FutureWarning: Pass the following variable as a keyword arg: x. From version 0.12, the only valid positional argument will be `data`, and passing other arguments without an explicit keyword will result in an error or misinterpretation.\n",
      "  warnings.warn(\n"
     ]
    },
    {
     "data": {
      "image/png": "[encoded data removed]",
      "text/plain": [
       "<Figure size 432x288 with 1 Axes>"
      ]
     },
     "metadata": {
      "needs_background": "light"
     },
     "output_type": "display_data"
    },
    {
     "name": "stderr",
     "output_type": "stream",
     "text": [
      "/home/shreyas/anaconda3/lib/python3.9/site-packages/seaborn/_decorators.py:36: FutureWarning: Pass the following variable as a keyword arg: x. From version 0.12, the only valid positional argument will be `data`, and passing other arguments without an explicit keyword will result in an error or misinterpretation.\n",
      "  warnings.warn(\n"
     ]
    },
    {
     "data": {
      "image/png": "[encoded data removed]",
      "text/plain": [
       "<Figure size 432x288 with 1 Axes>"
      ]
     },
     "metadata": {
      "needs_background": "light"
     },
     "output_type": "display_data"
    },
    {
     "name": "stderr",
     "output_type": "stream",
     "text": [
      "/home/shreyas/anaconda3/lib/python3.9/site-packages/seaborn/_decorators.py:36: FutureWarning: Pass the following variable as a keyword arg: x. From version 0.12, the only valid positional argument will be `data`, and passing other arguments without an explicit keyword will result in an error or misinterpretation.\n",
      "  warnings.warn(\n"
     ]
    },
    {
     "data": {
      "image/png": "[encoded data removed]",
      "text/plain": [
       "<Figure size 432x288 with 1 Axes>"
      ]
     },
     "metadata": {
      "needs_background": "light"
     },
     "output_type": "display_data"
    },
    {
     "name": "stderr",
     "output_type": "stream",
     "text": [
      "/home/shreyas/anaconda3/lib/python3.9/site-packages/seaborn/_decorators.py:36: FutureWarning: Pass the following variable as a keyword arg: x. From version 0.12, the only valid positional argument will be `data`, and passing other arguments without an explicit keyword will result in an error or misinterpretation.\n",
      "  warnings.warn(\n"
     ]
    },
    {
     "data": {
      "image/png": "[encoded data removed]",
      "text/plain": [
       "<Figure size 432x288 with 1 Axes>"
      ]
     },
     "metadata": {
      "needs_background": "light"
     },
     "output_type": "display_data"
    },
    {
     "name": "stderr",
     "output_type": "stream",
     "text": [
      "/home/shreyas/anaconda3/lib/python3.9/site-packages/seaborn/_decorators.py:36: FutureWarning: Pass the following variable as a keyword arg: x. From version 0.12, the only valid positional argument will be `data`, and passing other arguments without an explicit keyword will result in an error or misinterpretation.\n",
      "  warnings.warn(\n"
     ]
    },
    {
     "data": {
      "image/png": "[encoded data removed]",
      "text/plain": [
       "<Figure size 432x288 with 1 Axes>"
      ]
     },
     "metadata": {
      "needs_background": "light"
     },
     "output_type": "display_data"
    },
    {
     "name": "stderr",
     "output_type": "stream",
     "text": [
      "/home/shreyas/anaconda3/lib/python3.9/site-packages/seaborn/_decorators.py:36: FutureWarning: Pass the following variable as a keyword arg: x. From version 0.12, the only valid positional argument will be `data`, and passing other arguments without an explicit keyword will result in an error or misinterpretation.\n",
      "  warnings.warn(\n"
     ]
    },
    {
     "data": {
      "image/png": "[encoded data removed]",
      "text/plain": [
       "<Figure size 432x288 with 1 Axes>"
      ]
     },
     "metadata": {
      "needs_background": "light"
     },
     "output_type": "display_data"
    }
   ],
   "source": [
    "outlier_detection(final_df)"
   ]
  },
  {
   "cell_type": "markdown",
   "id": "d0be6fbc",
   "metadata": {},
   "source": [
    "## Remove Outliers "
   ]
  },
  {
   "cell_type": "code",
   "execution_count": 67,
   "id": "b9bd7c73",
   "metadata": {},
   "outputs": [],
   "source": [
    "def kdeplt(df):\n",
    "    for i in df.columns:\n",
    "        if i =='Bankrupt?':\n",
    "            break\n",
    "        else:\n",
    "            sns.kdeplot(df[i])\n",
    "            plt.show()"
   ]
  },
  {
   "cell_type": "code",
   "execution_count": 68,
   "id": "5580933b",
   "metadata": {},
   "outputs": [
    {
     "data": {
      "image/png": "[encoded data removed]",
      "text/plain": [
       "<Figure size 432x288 with 1 Axes>"
      ]
     },
     "metadata": {
      "needs_background": "light"
     },
     "output_type": "display_data"
    },
    {
     "data": {
      "image/png": "[encoded data removed]",
      "text/plain": [
       "<Figure size 432x288 with 1 Axes>"
      ]
     },
     "metadata": {
      "needs_background": "light"
     },
     "output_type": "display_data"
    },
    {
     "data": {
      "image/png": "[encoded data removed]",
      "text/plain": [
       "<Figure size 432x288 with 1 Axes>"
      ]
     },
     "metadata": {
      "needs_background": "light"
     },
     "output_type": "display_data"
    },
    {
     "data": {
      "image/png": "[encoded data removed]",
      "text/plain": [
       "<Figure size 432x288 with 1 Axes>"
      ]
     },
     "metadata": {
      "needs_background": "light"
     },
     "output_type": "display_data"
    },
    {
     "data": {
      "image/png": "[encoded data removed]",
      "text/plain": [
       "<Figure size 432x288 with 1 Axes>"
      ]
     },
     "metadata": {
      "needs_background": "light"
     },
     "output_type": "display_data"
    },
    {
     "data": {
      "image/png": "[encoded data removed]",
      "text/plain": [
       "<Figure size 432x288 with 1 Axes>"
      ]
     },
     "metadata": {
      "needs_background": "light"
     },
     "output_type": "display_data"
    },
    {
     "data": {
      "image/png": "[encoded data removed]",
      "text/plain": [
       "<Figure size 432x288 with 1 Axes>"
      ]
     },
     "metadata": {
      "needs_background": "light"
     },
     "output_type": "display_data"
    },
    {
     "data": {
      "image/png": "[encoded data removed]",
      "text/plain": [
       "<Figure size 432x288 with 1 Axes>"
      ]
     },
     "metadata": {
      "needs_background": "light"
     },
     "output_type": "display_data"
    },
    {
     "data": {
      "image/png": "[encoded data removed]",
      "text/plain": [
       "<Figure size 432x288 with 1 Axes>"
      ]
     },
     "metadata": {
      "needs_background": "light"
     },
     "output_type": "display_data"
    },
    {
     "data": {
      "image/png": "[encoded data removed]",
      "text/plain": [
       "<Figure size 432x288 with 1 Axes>"
      ]
     },
     "metadata": {
      "needs_background": "light"
     },
     "output_type": "display_data"
    },
    {
     "data": {
      "image/png": "[encoded data removed]",
      "text/plain": [
       "<Figure size 432x288 with 1 Axes>"
      ]
     },
     "metadata": {
      "needs_background": "light"
     },
     "output_type": "display_data"
    },
    {
     "data": {
      "image/png": "[encoded data removed]",
      "text/plain": [
       "<Figure size 432x288 with 1 Axes>"
      ]
     },
     "metadata": {
      "needs_background": "light"
     },
     "output_type": "display_data"
    },
    {
     "data": {
      "image/png": "[encoded data removed]",
      "text/plain": [
       "<Figure size 432x288 with 1 Axes>"
      ]
     },
     "metadata": {
      "needs_background": "light"
     },
     "output_type": "display_data"
    },
    {
     "data": {
      "image/png": "[encoded data removed]",
      "text/plain": [
       "<Figure size 432x288 with 1 Axes>"
      ]
     },
     "metadata": {
      "needs_background": "light"
     },
     "output_type": "display_data"
    },
    {
     "data": {
      "image/png": "[encoded data removed]",
      "text/plain": [
       "<Figure size 432x288 with 1 Axes>"
      ]
     },
     "metadata": {
      "needs_background": "light"
     },
     "output_type": "display_data"
    },
    {
     "data": {
      "image/png": "[encoded data removed]",
      "text/plain": [
       "<Figure size 432x288 with 1 Axes>"
      ]
     },
     "metadata": {
      "needs_background": "light"
     },
     "output_type": "display_data"
    },
    {
     "data": {
      "image/png": "[encoded data removed]",
      "text/plain": [
       "<Figure size 432x288 with 1 Axes>"
      ]
     },
     "metadata": {
      "needs_background": "light"
     },
     "output_type": "display_data"
    },
    {
     "data": {
      "image/png": "[encoded data removed]",
      "text/plain": [
       "<Figure size 432x288 with 1 Axes>"
      ]
     },
     "metadata": {
      "needs_background": "light"
     },
     "output_type": "display_data"
    },
    {
     "data": {
      "image/png": "[encoded data removed]",
      "text/plain": [
       "<Figure size 432x288 with 1 Axes>"
      ]
     },
     "metadata": {
      "needs_background": "light"
     },
     "output_type": "display_data"
    }
   ],
   "source": [
    "kdeplt(final_df)"
   ]
  },
  {
   "cell_type": "code",
   "execution_count": 69,
   "id": "b1800814",
   "metadata": {},
   "outputs": [
    {
     "data": {
      "text/plain": [
       "0       4.980000e+09\n",
       "1       6.110000e+09\n",
       "2       7.280000e+09\n",
       "3       4.880000e+09\n",
       "4       5.510000e+09\n",
       "            ...     \n",
       "6814    7.070000e+09\n",
       "6815    5.220000e+09\n",
       "6816    5.990000e+09\n",
       "6817    7.250000e+09\n",
       "6818    9.350000e+09\n",
       "Name:  Total Asset Growth Rate, Length: 6819, dtype: float64"
      ]
     },
     "execution_count": 69,
     "metadata": {},
     "output_type": "execute_result"
    }
   ],
   "source": [
    "final_df[' Total Asset Growth Rate']"
   ]
  },
  {
   "cell_type": "code",
   "execution_count": 71,
   "id": "e4a5d7a5",
   "metadata": {},
   "outputs": [
    {
     "name": "stderr",
     "output_type": "stream",
     "text": [
      "/home/shreyas/anaconda3/lib/python3.9/site-packages/seaborn/_decorators.py:36: FutureWarning: Pass the following variable as a keyword arg: x. From version 0.12, the only valid positional argument will be `data`, and passing other arguments without an explicit keyword will result in an error or misinterpretation.\n",
      "  warnings.warn(\n"
     ]
    },
    {
     "data": {
      "text/plain": [
       "<AxesSubplot:xlabel=' Debt ratio %'>"
      ]
     },
     "execution_count": 71,
     "metadata": {},
     "output_type": "execute_result"
    },
    {
     "data": {
      "image/png": "[encoded data removed]",
      "text/plain": [
       "<Figure size 432x288 with 1 Axes>"
      ]
     },
     "metadata": {
      "needs_background": "light"
     },
     "output_type": "display_data"
    }
   ],
   "source": [
    "sns.boxplot(final_df[' Debt ratio %'])"
   ]
  },
  {
   "cell_type": "code",
   "execution_count": 74,
   "id": "bda1a723",
   "metadata": {},
   "outputs": [
    {
     "name": "stdout",
     "output_type": "stream",
     "text": [
      "Q1:  0.0728905281615624\n",
      "Q3:  0.148804305106267\n",
      "IQR : 0.0759137769447046\n"
     ]
    }
   ],
   "source": [
    "q1 = final_df[' Debt ratio %'].quantile(0.25)\n",
    "print(\"Q1: \",q1)\n",
    "\n",
    "q3 = final_df[' Debt ratio %'].quantile(0.75)\n",
    "print(\"Q3: \",q3)\n",
    "\n",
    "iqr = q3-q1\n",
    "print(\"IQR :\",iqr)"
   ]
  },
  {
   "cell_type": "code",
   "execution_count": 76,
   "id": "fa6955be",
   "metadata": {},
   "outputs": [
    {
     "name": "stdout",
     "output_type": "stream",
     "text": [
      "Upper Limit:  0.2626749705233239\n",
      "Lower limit:  -0.0409801372554945\n"
     ]
    }
   ],
   "source": [
    "upper_limit = q3+1.5*iqr\n",
    "print(\"Upper Limit: \",upper_limit)\n",
    "\n",
    "lower_limit = q1-1.5*iqr\n",
    "print(\"Lower limit: \",lower_limit)"
   ]
  },
  {
   "cell_type": "code",
   "execution_count": 77,
   "id": "0b863fd7",
   "metadata": {},
   "outputs": [],
   "source": [
    "final_df[' Debt ratio %'] = np.where(final_df[' Debt ratio %']>upper_limit,upper_limit,\n",
    "                                    np.where(final_df[' Debt ratio %']<lower_limit,lower_limit,\n",
    "                                             final_df[' Debt ratio %']))"
   ]
  },
  {
   "cell_type": "code",
   "execution_count": 78,
   "id": "9da335d5",
   "metadata": {},
   "outputs": [
    {
     "name": "stderr",
     "output_type": "stream",
     "text": [
      "/home/shreyas/anaconda3/lib/python3.9/site-packages/seaborn/_decorators.py:36: FutureWarning: Pass the following variable as a keyword arg: x. From version 0.12, the only valid positional argument will be `data`, and passing other arguments without an explicit keyword will result in an error or misinterpretation.\n",
      "  warnings.warn(\n"
     ]
    },
    {
     "data": {
      "text/plain": [
       "<AxesSubplot:xlabel=' Debt ratio %'>"
      ]
     },
     "execution_count": 78,
     "metadata": {},
     "output_type": "execute_result"
    },
    {
     "data": {
      "image/png": "[encoded data removed]",
      "text/plain": [
       "<Figure size 432x288 with 1 Axes>"
      ]
     },
     "metadata": {
      "needs_background": "light"
     },
     "output_type": "display_data"
    }
   ],
   "source": [
    "sns.boxplot(final_df[' Debt ratio %'])"
   ]
  },
  {
   "cell_type": "code",
   "execution_count": null,
   "id": "75dd6f58",
   "metadata": {},
   "outputs": [],
   "source": []
  },
  {
   "cell_type": "code",
   "execution_count": null,
   "id": "79cd6e74",
   "metadata": {},
   "outputs": [],
   "source": []
  },
  {
   "cell_type": "code",
   "execution_count": 81,
   "id": "136efb28",
   "metadata": {},
   "outputs": [
    {
     "name": "stdout",
     "output_type": "stream",
     "text": [
      " Research and development expense rate\n",
      " Tax rate (A)\n",
      " Revenue Per Share (Yuan ¥)\n",
      " Total Asset Growth Rate\n",
      " Net Value Growth Rate\n",
      " Debt ratio %\n",
      " Total Asset Turnover\n",
      " Fixed Assets Turnover Frequency\n",
      " Net Worth Turnover Rate (times)\n",
      " Revenue per person\n",
      " Quick Assets/Current Liability\n",
      " Cash/Current Liability\n",
      " Total expense/Assets\n",
      " Cash Turnover Rate\n",
      " Fixed Assets to Assets\n",
      " Current Liability to Liability\n",
      " Current Liability to Current Assets\n",
      " Net Income to Stockholder's Equity\n",
      " Equity to Liability\n",
      "Bankrupt?\n"
     ]
    },
    {
     "data": {
      "text/plain": [
       "0       0.0\n",
       "1       0.0\n",
       "2       0.0\n",
       "3       0.0\n",
       "4       0.0\n",
       "       ... \n",
       "6814    0.0\n",
       "6815    0.0\n",
       "6816    0.0\n",
       "6817    0.0\n",
       "6818    0.0\n",
       "Name: Bankrupt?, Length: 6819, dtype: float64"
      ]
     },
     "execution_count": 81,
     "metadata": {},
     "output_type": "execute_result"
    }
   ],
   "source": [
    "def handle_outlier(df):\n",
    "    for i in df.columns:\n",
    "        print(i)\n",
    "        # find q1\n",
    "        q1 = df[i].quantile(0.25)\n",
    "        # find q3 \n",
    "        q3 = df[i].quantile(0.75)\n",
    "        # calculate iqr\n",
    "        iqr = q3-q1\n",
    "        \n",
    "        # find upper limit\n",
    "        upper_limit = q3+1.5*iqr\n",
    "        \n",
    "        # find lower limit \n",
    "        lower_limit = q1-1.5*iqr\n",
    "        \n",
    "        df[i] = np.where(df[i]>upper_limit,upper_limit,np.where(df[i]<lower_limit,lower_limit,df[i]))\n",
    "        \n",
    "    return df[i]\n",
    "        \n",
    "handle_outlier(final_df)"
   ]
  },
  {
   "cell_type": "code",
   "execution_count": 82,
   "id": "a5d6cbca",
   "metadata": {},
   "outputs": [],
   "source": [
    "def outlier_detection(df):\n",
    "    for i in df.columns:\n",
    "        if i =='Bankrupt?':\n",
    "            break\n",
    "        else:\n",
    "            sns.boxplot(df[i])\n",
    "            plt.show()"
   ]
  },
  {
   "cell_type": "code",
   "execution_count": 83,
   "id": "a2ec9709",
   "metadata": {},
   "outputs": [
    {
     "name": "stderr",
     "output_type": "stream",
     "text": [
      "/home/shreyas/anaconda3/lib/python3.9/site-packages/seaborn/_decorators.py:36: FutureWarning: Pass the following variable as a keyword arg: x. From version 0.12, the only valid positional argument will be `data`, and passing other arguments without an explicit keyword will result in an error or misinterpretation.\n",
      "  warnings.warn(\n"
     ]
    },
    {
     "data": {
      "image/png": "[encoded data removed]",
      "text/plain": [
       "<Figure size 432x288 with 1 Axes>"
      ]
     },
     "metadata": {
      "needs_background": "light"
     },
     "output_type": "display_data"
    },
    {
     "name": "stderr",
     "output_type": "stream",
     "text": [
      "/home/shreyas/anaconda3/lib/python3.9/site-packages/seaborn/_decorators.py:36: FutureWarning: Pass the following variable as a keyword arg: x. From version 0.12, the only valid positional argument will be `data`, and passing other arguments without an explicit keyword will result in an error or misinterpretation.\n",
      "  warnings.warn(\n"
     ]
    },
    {
     "data": {
      "image/png": "[encoded data removed]",
      "text/plain": [
       "<Figure size 432x288 with 1 Axes>"
      ]
     },
     "metadata": {
      "needs_background": "light"
     },
     "output_type": "display_data"
    },
    {
     "name": "stderr",
     "output_type": "stream",
     "text": [
      "/home/shreyas/anaconda3/lib/python3.9/site-packages/seaborn/_decorators.py:36: FutureWarning: Pass the following variable as a keyword arg: x. From version 0.12, the only valid positional argument will be `data`, and passing other arguments without an explicit keyword will result in an error or misinterpretation.\n",
      "  warnings.warn(\n"
     ]
    },
    {
     "data": {
      "image/png": "[encoded data removed]",
      "text/plain": [
       "<Figure size 432x288 with 1 Axes>"
      ]
     },
     "metadata": {
      "needs_background": "light"
     },
     "output_type": "display_data"
    },
    {
     "name": "stderr",
     "output_type": "stream",
     "text": [
      "/home/shreyas/anaconda3/lib/python3.9/site-packages/seaborn/_decorators.py:36: FutureWarning: Pass the following variable as a keyword arg: x. From version 0.12, the only valid positional argument will be `data`, and passing other arguments without an explicit keyword will result in an error or misinterpretation.\n",
      "  warnings.warn(\n"
     ]
    },
    {
     "data": {
      "image/png": "[encoded data removed]",
      "text/plain": [
       "<Figure size 432x288 with 1 Axes>"
      ]
     },
     "metadata": {
      "needs_background": "light"
     },
     "output_type": "display_data"
    },
    {
     "name": "stderr",
     "output_type": "stream",
     "text": [
      "/home/shreyas/anaconda3/lib/python3.9/site-packages/seaborn/_decorators.py:36: FutureWarning: Pass the following variable as a keyword arg: x. From version 0.12, the only valid positional argument will be `data`, and passing other arguments without an explicit keyword will result in an error or misinterpretation.\n",
      "  warnings.warn(\n"
     ]
    },
    {
     "data": {
      "image/png": "[encoded data removed]",
      "text/plain": [
       "<Figure size 432x288 with 1 Axes>"
      ]
     },
     "metadata": {
      "needs_background": "light"
     },
     "output_type": "display_data"
    },
    {
     "name": "stderr",
     "output_type": "stream",
     "text": [
      "/home/shreyas/anaconda3/lib/python3.9/site-packages/seaborn/_decorators.py:36: FutureWarning: Pass the following variable as a keyword arg: x. From version 0.12, the only valid positional argument will be `data`, and passing other arguments without an explicit keyword will result in an error or misinterpretation.\n",
      "  warnings.warn(\n"
     ]
    },
    {
     "data": {
      "image/png": "[encoded data removed]",
      "text/plain": [
       "<Figure size 432x288 with 1 Axes>"
      ]
     },
     "metadata": {
      "needs_background": "light"
     },
     "output_type": "display_data"
    },
    {
     "name": "stderr",
     "output_type": "stream",
     "text": [
      "/home/shreyas/anaconda3/lib/python3.9/site-packages/seaborn/_decorators.py:36: FutureWarning: Pass the following variable as a keyword arg: x. From version 0.12, the only valid positional argument will be `data`, and passing other arguments without an explicit keyword will result in an error or misinterpretation.\n",
      "  warnings.warn(\n"
     ]
    },
    {
     "data": {
      "image/png": "[encoded data removed]",
      "text/plain": [
       "<Figure size 432x288 with 1 Axes>"
      ]
     },
     "metadata": {
      "needs_background": "light"
     },
     "output_type": "display_data"
    },
    {
     "name": "stderr",
     "output_type": "stream",
     "text": [
      "/home/shreyas/anaconda3/lib/python3.9/site-packages/seaborn/_decorators.py:36: FutureWarning: Pass the following variable as a keyword arg: x. From version 0.12, the only valid positional argument will be `data`, and passing other arguments without an explicit keyword will result in an error or misinterpretation.\n",
      "  warnings.warn(\n"
     ]
    },
    {
     "data": {
      "image/png": "[encoded data removed]",
      "text/plain": [
       "<Figure size 432x288 with 1 Axes>"
      ]
     },
     "metadata": {
      "needs_background": "light"
     },
     "output_type": "display_data"
    },
    {
     "name": "stderr",
     "output_type": "stream",
     "text": [
      "/home/shreyas/anaconda3/lib/python3.9/site-packages/seaborn/_decorators.py:36: FutureWarning: Pass the following variable as a keyword arg: x. From version 0.12, the only valid positional argument will be `data`, and passing other arguments without an explicit keyword will result in an error or misinterpretation.\n",
      "  warnings.warn(\n"
     ]
    },
    {
     "data": {
      "image/png": "[encoded data removed]",
      "text/plain": [
       "<Figure size 432x288 with 1 Axes>"
      ]
     },
     "metadata": {
      "needs_background": "light"
     },
     "output_type": "display_data"
    },
    {
     "name": "stderr",
     "output_type": "stream",
     "text": [
      "/home/shreyas/anaconda3/lib/python3.9/site-packages/seaborn/_decorators.py:36: FutureWarning: Pass the following variable as a keyword arg: x. From version 0.12, the only valid positional argument will be `data`, and passing other arguments without an explicit keyword will result in an error or misinterpretation.\n",
      "  warnings.warn(\n"
     ]
    },
    {
     "data": {
      "image/png": "[encoded data removed]",
      "text/plain": [
       "<Figure size 432x288 with 1 Axes>"
      ]
     },
     "metadata": {
      "needs_background": "light"
     },
     "output_type": "display_data"
    },
    {
     "name": "stderr",
     "output_type": "stream",
     "text": [
      "/home/shreyas/anaconda3/lib/python3.9/site-packages/seaborn/_decorators.py:36: FutureWarning: Pass the following variable as a keyword arg: x. From version 0.12, the only valid positional argument will be `data`, and passing other arguments without an explicit keyword will result in an error or misinterpretation.\n",
      "  warnings.warn(\n"
     ]
    },
    {
     "data": {
      "image/png": "[encoded data removed]",
      "text/plain": [
       "<Figure size 432x288 with 1 Axes>"
      ]
     },
     "metadata": {
      "needs_background": "light"
     },
     "output_type": "display_data"
    },
    {
     "name": "stderr",
     "output_type": "stream",
     "text": [
      "/home/shreyas/anaconda3/lib/python3.9/site-packages/seaborn/_decorators.py:36: FutureWarning: Pass the following variable as a keyword arg: x. From version 0.12, the only valid positional argument will be `data`, and passing other arguments without an explicit keyword will result in an error or misinterpretation.\n",
      "  warnings.warn(\n"
     ]
    },
    {
     "data": {
      "image/png": "[encoded data removed]",
      "text/plain": [
       "<Figure size 432x288 with 1 Axes>"
      ]
     },
     "metadata": {
      "needs_background": "light"
     },
     "output_type": "display_data"
    },
    {
     "name": "stderr",
     "output_type": "stream",
     "text": [
      "/home/shreyas/anaconda3/lib/python3.9/site-packages/seaborn/_decorators.py:36: FutureWarning: Pass the following variable as a keyword arg: x. From version 0.12, the only valid positional argument will be `data`, and passing other arguments without an explicit keyword will result in an error or misinterpretation.\n",
      "  warnings.warn(\n"
     ]
    },
    {
     "data": {
      "image/png": "[encoded data removed]",
      "text/plain": [
       "<Figure size 432x288 with 1 Axes>"
      ]
     },
     "metadata": {
      "needs_background": "light"
     },
     "output_type": "display_data"
    },
    {
     "name": "stderr",
     "output_type": "stream",
     "text": [
      "/home/shreyas/anaconda3/lib/python3.9/site-packages/seaborn/_decorators.py:36: FutureWarning: Pass the following variable as a keyword arg: x. From version 0.12, the only valid positional argument will be `data`, and passing other arguments without an explicit keyword will result in an error or misinterpretation.\n",
      "  warnings.warn(\n"
     ]
    },
    {
     "data": {
      "image/png": "[encoded data removed]",
      "text/plain": [
       "<Figure size 432x288 with 1 Axes>"
      ]
     },
     "metadata": {
      "needs_background": "light"
     },
     "output_type": "display_data"
    },
    {
     "name": "stderr",
     "output_type": "stream",
     "text": [
      "/home/shreyas/anaconda3/lib/python3.9/site-packages/seaborn/_decorators.py:36: FutureWarning: Pass the following variable as a keyword arg: x. From version 0.12, the only valid positional argument will be `data`, and passing other arguments without an explicit keyword will result in an error or misinterpretation.\n",
      "  warnings.warn(\n"
     ]
    },
    {
     "data": {
      "image/png": "[encoded data removed]",
      "text/plain": [
       "<Figure size 432x288 with 1 Axes>"
      ]
     },
     "metadata": {
      "needs_background": "light"
     },
     "output_type": "display_data"
    },
    {
     "name": "stderr",
     "output_type": "stream",
     "text": [
      "/home/shreyas/anaconda3/lib/python3.9/site-packages/seaborn/_decorators.py:36: FutureWarning: Pass the following variable as a keyword arg: x. From version 0.12, the only valid positional argument will be `data`, and passing other arguments without an explicit keyword will result in an error or misinterpretation.\n",
      "  warnings.warn(\n"
     ]
    },
    {
     "data": {
      "image/png": "[encoded data removed]",
      "text/plain": [
       "<Figure size 432x288 with 1 Axes>"
      ]
     },
     "metadata": {
      "needs_background": "light"
     },
     "output_type": "display_data"
    },
    {
     "name": "stderr",
     "output_type": "stream",
     "text": [
      "/home/shreyas/anaconda3/lib/python3.9/site-packages/seaborn/_decorators.py:36: FutureWarning: Pass the following variable as a keyword arg: x. From version 0.12, the only valid positional argument will be `data`, and passing other arguments without an explicit keyword will result in an error or misinterpretation.\n",
      "  warnings.warn(\n"
     ]
    },
    {
     "data": {
      "image/png": "[encoded data removed]",
      "text/plain": [
       "<Figure size 432x288 with 1 Axes>"
      ]
     },
     "metadata": {
      "needs_background": "light"
     },
     "output_type": "display_data"
    },
    {
     "name": "stderr",
     "output_type": "stream",
     "text": [
      "/home/shreyas/anaconda3/lib/python3.9/site-packages/seaborn/_decorators.py:36: FutureWarning: Pass the following variable as a keyword arg: x. From version 0.12, the only valid positional argument will be `data`, and passing other arguments without an explicit keyword will result in an error or misinterpretation.\n",
      "  warnings.warn(\n"
     ]
    },
    {
     "data": {
      "image/png": "[encoded data removed]",
      "text/plain": [
       "<Figure size 432x288 with 1 Axes>"
      ]
     },
     "metadata": {
      "needs_background": "light"
     },
     "output_type": "display_data"
    },
    {
     "name": "stderr",
     "output_type": "stream",
     "text": [
      "/home/shreyas/anaconda3/lib/python3.9/site-packages/seaborn/_decorators.py:36: FutureWarning: Pass the following variable as a keyword arg: x. From version 0.12, the only valid positional argument will be `data`, and passing other arguments without an explicit keyword will result in an error or misinterpretation.\n",
      "  warnings.warn(\n"
     ]
    },
    {
     "data": {
      "image/png": "[encoded data removed]",
      "text/plain": [
       "<Figure size 432x288 with 1 Axes>"
      ]
     },
     "metadata": {
      "needs_background": "light"
     },
     "output_type": "display_data"
    }
   ],
   "source": [
    "outlier_detection(final_df)"
   ]
  },
  {
   "cell_type": "code",
   "execution_count": 84,
   "id": "3d7bc417",
   "metadata": {},
   "outputs": [
    {
     "data": {
      "text/plain": [
       "(6819, 20)"
      ]
     },
     "execution_count": 84,
     "metadata": {},
     "output_type": "execute_result"
    }
   ],
   "source": [
    "final_df.shape"
   ]
  }
 ],
 "metadata": {
  "kernelspec": {
   "display_name": "Python 3 (ipykernel)",
   "language": "python",
   "name": "python3"
  },
  "language_info": {
   "codemirror_mode": {
    "name": "ipython",
    "version": 3
   },
   "file_extension": ".py",
   "mimetype": "text/x-python",
   "name": "python",
   "nbconvert_exporter": "python",
   "pygments_lexer": "ipython3",
   "version": "3.9.12"
  }
 },
 "nbformat": 4,
 "nbformat_minor": 5
}
